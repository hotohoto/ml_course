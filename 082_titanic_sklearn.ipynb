{
 "cells": [
  {
   "cell_type": "code",
   "execution_count": 1,
   "metadata": {},
   "outputs": [],
   "source": [
    "from category_encoders import TargetEncoder\n",
    "import numpy as np\n",
    "import pandas as pd\n",
    "from sklearn.base import BaseEstimator, TransformerMixin\n",
    "from sklearn.compose import make_column_transformer\n",
    "from sklearn.impute import SimpleImputer\n",
    "from sklearn.linear_model import LogisticRegression\n",
    "from sklearn.model_selection import train_test_split\n",
    "from sklearn.pipeline import make_pipeline\n",
    "from sklearn.preprocessing import StandardScaler, OneHotEncoder\n",
    "from sklearn.utils import murmurhash3_32"
   ]
  },
  {
   "cell_type": "code",
   "execution_count": 2,
   "metadata": {},
   "outputs": [],
   "source": [
    "df = pd.read_csv(\"datasets/titanic_train.csv\") # we assume we don't have test set."
   ]
  },
  {
   "cell_type": "code",
   "execution_count": 3,
   "metadata": {},
   "outputs": [],
   "source": [
    "np.random.seed(10)\n",
    "raw_train_data, raw_validation_data = train_test_split(df, test_size=0.3, random_state=0)"
   ]
  },
  {
   "cell_type": "code",
   "execution_count": 4,
   "metadata": {},
   "outputs": [
    {
     "name": "stdout",
     "output_type": "stream",
     "text": [
      "{'Passenger_Id', 'Number_of_Parents_or_Children', 'Passenger_Fare', 'Age', 'Survived', 'Number_of_Siblings_or_Spouses'}\n",
      "{'Name', 'Port_of_Embarkation', 'Passenger_Class', 'Sex', 'Cabin', 'Ticket_Number'}\n"
     ]
    }
   ],
   "source": [
    "all_column_names = set(df.columns)\n",
    "\n",
    "df_categories = df.select_dtypes('object').astype('category')\n",
    "category_column_names = set(df_categories.columns)\n",
    "number_column_names = all_column_names - category_column_names\n",
    "\n",
    "print(number_column_names)\n",
    "print(category_column_names)"
   ]
  },
  {
   "cell_type": "code",
   "execution_count": 5,
   "metadata": {},
   "outputs": [],
   "source": [
    "target_column_name = 'Survived'\n",
    "fields_to_ignore = [\"Name\", \"Passenger_Id\"] + [target_column_name]\n",
    "numeric_features = list(number_column_names - set(fields_to_ignore))\n",
    "categorical_features = list(category_column_names - set(fields_to_ignore))"
   ]
  },
  {
   "cell_type": "code",
   "execution_count": 6,
   "metadata": {},
   "outputs": [
    {
     "name": "stdout",
     "output_type": "stream",
     "text": [
      "model score: 0.836\n"
     ]
    }
   ],
   "source": [
    "numeric_transformer = make_pipeline(SimpleImputer(), StandardScaler())\n",
    "categorical_transformer = make_pipeline(\n",
    "    SimpleImputer(strategy='constant', fill_value='missing'),\n",
    "    OneHotEncoder(handle_unknown='ignore'),\n",
    ")\n",
    "\n",
    "preprocessor = make_column_transformer(\n",
    "    (numeric_transformer, numeric_features),\n",
    "    (categorical_transformer, categorical_features),\n",
    ")\n",
    "\n",
    "classifier = make_pipeline(preprocessor, LogisticRegression())\n",
    "classifier.fit(raw_train_data.drop(columns=fields_to_ignore), raw_train_data[target_column_name])\n",
    "score = classifier.score(raw_validation_data.drop(columns=fields_to_ignore), raw_validation_data[target_column_name])\n",
    "print(\"model score: %.3f\" % score)"
   ]
  },
  {
   "cell_type": "markdown",
   "metadata": {},
   "source": [
    "## Min Hash Encoding"
   ]
  },
  {
   "cell_type": "code",
   "execution_count": 7,
   "metadata": {},
   "outputs": [],
   "source": [
    "class MinHashEncoder(BaseEstimator, TransformerMixin):\n",
    "    \"\"\"\n",
    "    minhash method applied to ngram decomposition of strings\n",
    "    \"\"\"\n",
    "\n",
    "    def __init__(self, n_components, ngram_range=(2, 4)):\n",
    "        self.ngram_range = ngram_range\n",
    "        self.n_components = n_components\n",
    "\n",
    "    def get_unique_ngrams(self, string, ngram_range):\n",
    "        \"\"\"\n",
    "        Return a list of different n-grams in a string\n",
    "        \"\"\"\n",
    "        spaces = ' '  # * (n // 2 + n % 2)\n",
    "        string = spaces + \" \".join(string.lower().split()) + spaces\n",
    "        ngram_list = []\n",
    "        for n in range(ngram_range[0], ngram_range[1] + 1):\n",
    "            string_list = [string[i:] for i in range(n)]\n",
    "            ngram_list += list(set(zip(*string_list)))\n",
    "        return ngram_list\n",
    "\n",
    "    def minhash(self, string, n_components, ngram_range):\n",
    "        min_hashes = np.ones(n_components) * np.infty\n",
    "        grams = self.get_unique_ngrams(string, self.ngram_range)\n",
    "        if len(grams) == 0:\n",
    "            grams = self.get_unique_ngrams(' Na ', self.ngram_range)\n",
    "        for gram in grams:\n",
    "            hash_array = np.array([\n",
    "                murmurhash3_32(''.join(gram), seed=d, positive=True)\n",
    "                for d in range(n_components)])\n",
    "            min_hashes = np.minimum(min_hashes, hash_array)\n",
    "        return min_hashes/(2**32-1)\n",
    "\n",
    "    def fit(self, X, y=None):\n",
    "        self.hash_dict = {}\n",
    "        for i, x in enumerate(X):\n",
    "            if x not in self.hash_dict:\n",
    "                self.hash_dict[x] = self.minhash(\n",
    "                    x, n_components=self.n_components,\n",
    "                    ngram_range=self.ngram_range)\n",
    "        return self\n",
    "\n",
    "    def transform(self, X):\n",
    "\n",
    "        X_out = np.zeros((len(X), self.n_components))\n",
    "\n",
    "        for i, x in enumerate(X):\n",
    "            if x not in self.hash_dict:\n",
    "                self.hash_dict[x] = self.minhash(\n",
    "                    x, n_components=self.n_components,\n",
    "                    ngram_range=self.ngram_range)\n",
    "\n",
    "        for i, x in enumerate(X):\n",
    "            X_out[i, :] = self.hash_dict[x]\n",
    "        return X_out\n"
   ]
  },
  {
   "cell_type": "code",
   "execution_count": 8,
   "metadata": {},
   "outputs": [
    {
     "name": "stdout",
     "output_type": "stream",
     "text": [
      "model score: 0.836\n"
     ]
    }
   ],
   "source": [
    "numeric_transformer = make_pipeline(SimpleImputer(), StandardScaler())\n",
    "\n",
    "if True:\n",
    "    minhash_transformer = make_column_transformer(\n",
    "        *(\n",
    "            (MinHashEncoder(20), i)\n",
    "            for i\n",
    "            in range(len(categorical_features))\n",
    "        )\n",
    "    )\n",
    "else:\n",
    "    minhash_transformer = make_column_transformer(\n",
    "        (MinHashEncoder(28), 2), # Ticket\n",
    "        (MinHashEncoder(2), 0), # Port_of_Embarkation\n",
    "        (MinHashEncoder(1), 3), # Sex\n",
    "        (MinHashEncoder(20), 1), # Cabin\n",
    "    )\n",
    "categorical_transformer = make_pipeline(\n",
    "    SimpleImputer(strategy='constant', fill_value='_'),\n",
    "    minhash_transformer,\n",
    ")\n",
    "\n",
    "preprocessor = make_column_transformer(\n",
    "    (numeric_transformer, numeric_features),\n",
    "    (categorical_transformer, categorical_features),\n",
    ")\n",
    "\n",
    "classifier = make_pipeline(preprocessor, LogisticRegression())\n",
    "classifier.fit(raw_train_data.drop(columns=fields_to_ignore), raw_train_data[target_column_name])\n",
    "score = classifier.score(raw_validation_data.drop(columns=fields_to_ignore), raw_validation_data[target_column_name])\n",
    "print(\"model score: %.3f\" % score)"
   ]
  },
  {
   "cell_type": "markdown",
   "metadata": {},
   "source": [
    "## Target Encoding"
   ]
  },
  {
   "cell_type": "code",
   "execution_count": 9,
   "metadata": {},
   "outputs": [
    {
     "name": "stdout",
     "output_type": "stream",
     "text": [
      "model score: 0.802\n"
     ]
    }
   ],
   "source": [
    "numeric_transformer = make_pipeline(SimpleImputer(), StandardScaler())\n",
    "preprocessor = make_column_transformer(\n",
    "    (numeric_transformer, numeric_features),\n",
    "    (TargetEncoder(), categorical_features),\n",
    ")\n",
    "\n",
    "classifier = make_pipeline(preprocessor, LogisticRegression())\n",
    "classifier.fit(raw_train_data.drop(columns=fields_to_ignore), raw_train_data[target_column_name])\n",
    "score = classifier.score(raw_validation_data.drop(columns=fields_to_ignore), raw_validation_data[target_column_name])\n",
    "print(\"model score: %.3f\" % score)"
   ]
  }
 ],
 "metadata": {
  "kernelspec": {
   "display_name": "Python 3",
   "language": "python",
   "name": "python3"
  },
  "language_info": {
   "codemirror_mode": {
    "name": "ipython",
    "version": 3
   },
   "file_extension": ".py",
   "mimetype": "text/x-python",
   "name": "python",
   "nbconvert_exporter": "python",
   "pygments_lexer": "ipython3",
   "version": "3.6.8"
  }
 },
 "nbformat": 4,
 "nbformat_minor": 4
}
