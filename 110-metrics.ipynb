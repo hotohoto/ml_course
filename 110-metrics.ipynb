{
 "cells": [
  {
   "cell_type": "markdown",
   "metadata": {},
   "source": [
    "## ROC (Receive Operating Characteristic)"
   ]
  },
  {
   "cell_type": "code",
   "execution_count": 1,
   "metadata": {},
   "outputs": [
    {
     "data": {
      "image/png": "[encoded data removed]",
      "text/plain": [
       "<Figure size 432x288 with 1 Axes>"
      ]
     },
     "metadata": {
      "needs_background": "light"
     },
     "output_type": "display_data"
    }
   ],
   "source": [
    "%matplotlib inline\n",
    "import numpy as np\n",
    "import matplotlib.pyplot as plt\n",
    "from itertools import cycle\n",
    "\n",
    "from sklearn.metrics import roc_curve, auc\n",
    "\n",
    "y_test_gt = np.array([0, 0, 1, 1, 1])\n",
    "y_score = np.array([0.3, 0.5, 0.5, 0.39, 0.8])\n",
    "\n",
    "# Compute ROC curve and ROC area\n",
    "fpr, tpr, thr = roc_curve(y_test_gt, y_score)\n",
    "roc_auc = auc(fpr, tpr)\n",
    "\n",
    "# draw\n",
    "plt.figure()\n",
    "lw = 2\n",
    "plt.plot(fpr, tpr, color='darkorange',\n",
    "         lw=lw, label='ROC curve (area = %0.2f)' % roc_auc)\n",
    "plt.plot([0, 1], [0, 1], color='navy', lw=lw, linestyle='--')\n",
    "plt.xlim([-0.03, 1.03])\n",
    "plt.ylim([0.0, 1.03])\n",
    "plt.xlabel('False Positive Rate')\n",
    "plt.ylabel('True Positive Rate')\n",
    "plt.legend(loc=\"lower right\")\n",
    "plt.show()"
   ]
  },
  {
   "cell_type": "markdown",
   "metadata": {},
   "source": [
    "## entropy"
   ]
  },
  {
   "cell_type": "code",
   "execution_count": 34,
   "metadata": {
    "scrolled": true
   },
   "outputs": [
    {
     "data": {
      "text/markdown": [
       "|distribution|entropy|s|\n",
       "|-----------|-------|-|\n",
       "|[ 1 10]|0.4394969869215134|11|\n",
       "|[  1 100]|0.08013604733127525|101|\n",
       "|[ 10 100]|0.4394969869215134|110|\n"
      ],
      "text/plain": [
       "<IPython.core.display.Markdown object>"
      ]
     },
     "metadata": {},
     "output_type": "display_data"
    }
   ],
   "source": [
    "import numpy as np\n",
    "from IPython.display import display, Markdown, Latex\n",
    "\n",
    "output = '|distribution|entropy|s|\\n'\n",
    "output += '|-----------|-------|-|\\n'\n",
    "\n",
    "distributions = [\n",
    "    [1,10],\n",
    "    [1,100],\n",
    "    [10,100],\n",
    "]\n",
    "\n",
    "for distribution in distributions:\n",
    "    dist = np.array(distribution)\n",
    "    s = np.sum(dist)\n",
    "    probability = dist/s\n",
    "    before_sum = probability * np.log2(probability)\n",
    "#     print(before_sum)\n",
    "    entropy = -np.sum(before_sum)\n",
    "    output += f\"|{dist}|{entropy}|{s}|\\n\"\n",
    "    \n",
    "display(Markdown(output))\n"
   ]
  }
 ],
 "metadata": {
  "kernelspec": {
   "display_name": "Python 3",
   "language": "python",
   "name": "python3"
  },
  "language_info": {
   "codemirror_mode": {
    "name": "ipython",
    "version": 3
   },
   "file_extension": ".py",
   "mimetype": "text/x-python",
   "name": "python",
   "nbconvert_exporter": "python",
   "pygments_lexer": "ipython3",
   "version": "3.6.8"
  }
 },
 "nbformat": 4,
 "nbformat_minor": 2
}
