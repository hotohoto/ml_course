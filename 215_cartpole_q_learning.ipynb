{
 "cells": [
  {
   "cell_type": "markdown",
   "metadata": {},
   "source": [
    "# Q-learning\n",
    "\n",
    "- Init `Q`\n",
    "- Repeat an episode\n",
    "  - For each step:\n",
    "    - get an action from the policy(`Q`, `epsilon`)\n",
    "    - get a next state and the reward\n",
    "    - udpate `Q` with Q learning algorithm\n",
    "    - go to the next state\n",
    "  - The current episode ends when the goal state is found."
   ]
  },
  {
   "cell_type": "code",
   "execution_count": 1,
   "metadata": {},
   "outputs": [],
   "source": [
    "%matplotlib inline\n",
    "import math\n",
    "from IPython.display import HTML\n",
    "import numpy as np\n",
    "import matplotlib.pyplot as plt\n",
    "import matplotlib.lines as lines\n",
    "from matplotlib import animation\n",
    "from scipy.special import softmax\n",
    "import gym"
   ]
  },
  {
   "cell_type": "code",
   "execution_count": 2,
   "metadata": {},
   "outputs": [],
   "source": [
    "np.random.seed(0)"
   ]
  },
  {
   "cell_type": "code",
   "execution_count": 3,
   "metadata": {},
   "outputs": [
    {
     "name": "stdout",
     "output_type": "stream",
     "text": [
      "N=1296\n"
     ]
    }
   ],
   "source": [
    "# force = -1 or 1\n",
    "\n",
    "# x, x_dot, theta, theta_dot = observation\n",
    "# -2.4 <= x <= 2.4\n",
    "# -inf < x_dot < inf\n",
    "# -12º <= theta <= 12º\n",
    "# -inf < theta_dot < inf\n",
    "\n",
    "N_FEATURES = 4\n",
    "N_INTERVALS_PER_FEATURE = 6\n",
    "N_PIVOTS = N_INTERVALS_PER_FEATURE - 1\n",
    "N = N_INTERVALS_PER_FEATURE ** N_FEATURES\n",
    "\n",
    "def digitize(_min, _max, n_intervals=N_INTERVALS_PER_FEATURE):\n",
    "    return np.linspace(_min, _max, n_intervals+1)[1:-1]\n",
    "\n",
    "PIVOTS = [\n",
    "    digitize(-2.4, 2.4),\n",
    "    digitize(-3, 3),\n",
    "    digitize(-0.5, 0.5),\n",
    "    digitize(-2, 2),\n",
    "]\n",
    "\n",
    "def observations2state(observation):\n",
    "    \"\"\"digitize observation to a state\"\"\"\n",
    "    feature_indices = [np.sum(PIVOTS[idx] < val) for idx, val in enumerate(observation)]\n",
    "    \n",
    "    return np.sum(\n",
    "        [\n",
    "            feature_indices[i] * N_INTERVALS_PER_FEATURE**(i)\n",
    "            for i\n",
    "            in range(N_FEATURES)\n",
    "        ]\n",
    "    )\n",
    "\n",
    "N_ACTIONS = 2\n",
    "print(f\"N={N}\")\n",
    "\n",
    "def action2force(action):\n",
    "    return action"
   ]
  },
  {
   "cell_type": "code",
   "execution_count": 4,
   "metadata": {},
   "outputs": [],
   "source": [
    "uniform_q = np.ones((N,N_ACTIONS))\n",
    "initial_q = np.random.rand(N, N_ACTIONS) * uniform_q"
   ]
  },
  {
   "cell_type": "code",
   "execution_count": 5,
   "metadata": {},
   "outputs": [],
   "source": [
    "def plot_rewards(scores, epsilons):\n",
    "    plt.plot(\n",
    "        tuple(range(len(scores))),\n",
    "        tuple(h for h in scores)\n",
    "    )\n",
    "    plt.draw()\n",
    "    plt.show()\n",
    "\n",
    "    plt.plot(\n",
    "        tuple(range(len(epsilons))),\n",
    "        tuple(h for h in epsilons)\n",
    "    )\n",
    "    plt.draw()\n",
    "    plt.show()\n",
    "\n",
    "def get_action(q, state, epsilon):\n",
    "    if np.random.rand() < epsilon:\n",
    "        ret = np.random.choice(N_ACTIONS)\n",
    "    else:\n",
    "        ret = np.argmax(q[state,:])\n",
    "    return ret\n",
    "\n",
    "def run(q, epsilon, env):\n",
    "    observation = env.reset()\n",
    "    state = observations2state(observation)\n",
    "\n",
    "    for i in range(1000):\n",
    "        action = get_action(q, state, epsilon)\n",
    "\n",
    "        next_observation, reward, done, info = env.step(action2force(action))\n",
    "        next_state = observations2state(next_observation)\n",
    "\n",
    "        q = get_updated_q(state, action, reward, next_state, done, q)\n",
    "            \n",
    "        if done:\n",
    "            return q, i\n",
    "        else:\n",
    "            state = next_state\n",
    "    \n",
    "    raise Exception(\"Infinite loop encountered!\")\n",
    "\n",
    "def get_updated_q(state, action, reward, next_state, done, q, eta=0.1, gamma=0.9):\n",
    "    q_updated = q.copy()\n",
    "    \n",
    "    if done:\n",
    "        q[state, action] = q[state, action] + eta * (reward - q[state, action])\n",
    "    else:\n",
    "        q[state, action] = q[state, action] + eta * (reward + gamma*np.max(q[next_state, :]) - q[state, action])\n",
    "\n",
    "    return q\n",
    "\n",
    "def train(q, init_epsilon = 0.5, target_epsilon = 0.001, n_iterations = 20000):\n",
    "    assert target_epsilon <= init_epsilon\n",
    "    epsilon = init_epsilon\n",
    "\n",
    "    env = gym.make('CartPole-v1')\n",
    "    \n",
    "    all_rewards = []\n",
    "    all_epsilons = []\n",
    "    \n",
    "    avg_window = 50\n",
    "    avg_rewards = []\n",
    "    avg_epsilons = []\n",
    "    \n",
    "    decay = math.e ** (math.log(target_epsilon/epsilon) / (n_iterations - 1))\n",
    "\n",
    "    for i in range(n_iterations):\n",
    "        q, reward = run(q, epsilon, env)\n",
    "        all_rewards.append(reward)\n",
    "        all_epsilons.append(epsilon)\n",
    "        \n",
    "#         decay = math.e ** (math.log(target_epsilon/epsilon) / ((n_iterations - i)/1))\n",
    "        epsilon *= decay\n",
    "\n",
    "        if len(all_rewards) >= avg_window:\n",
    "            avg_reward = np.average(all_rewards[i-avg_window+1:i+1])\n",
    "            avg_epsilon = np.average(all_epsilons[i-avg_window+1:i+1])\n",
    "            \n",
    "            if avg_reward > 490 and epsilon < 0.05:\n",
    "                break\n",
    "            \n",
    "            avg_rewards.append(avg_reward)\n",
    "            avg_epsilons.append(avg_epsilon)\n",
    "            \n",
    "            if i % 1000 == 0:\n",
    "                print(i, avg_reward, avg_epsilon)\n",
    "    \n",
    "    print(i, avg_reward, avg_epsilon)\n",
    "    print(f\"epsilon={epsilon}\")\n",
    "    print(f\"q={q}\")\n",
    "    \n",
    "    env.close()\n",
    "\n",
    "    return q, all_rewards, avg_rewards, avg_epsilons"
   ]
  },
  {
   "cell_type": "code",
   "execution_count": 6,
   "metadata": {},
   "outputs": [
    {
     "name": "stdout",
     "output_type": "stream",
     "text": [
      "1000 90.04 0.3692542703947553\n",
      "2000 149.2 0.27062647367074655\n",
      "3000 172.42 0.19834215640395025\n",
      "4000 229.2 0.14536497657960504\n",
      "5000 210.62 0.10653799877497093\n",
      "6000 209.94 0.07808170475479007\n",
      "7000 216.22 0.05722608541100659\n",
      "8000 238.3 0.04194100092655724\n",
      "9000 198.14 0.03073856172561394\n",
      "10000 190.0 0.022528293461901803\n",
      "11000 177.86 0.01651098743122567\n",
      "12000 179.36 0.012100903533377476\n",
      "13000 195.18 0.008868752818936477\n",
      "14000 181.68 0.006499909394901198\n",
      "15000 192.9 0.0047637839281884\n",
      "16000 212.08 0.0034913774847796925\n",
      "17000 297.7 0.002558830737283703\n",
      "18000 286.76 0.0018753671783161595\n",
      "19000 206.32 0.0013744567009691894\n",
      "19999 283.86 0.0010076524617527016\n",
      "epsilon=0.0009996893023352328\n",
      "q=[[0.5488135  0.71518937]\n",
      " [0.60276338 0.54488318]\n",
      " [0.4236548  0.64589411]\n",
      " ...\n",
      " [0.32290711 0.34574585]\n",
      " [0.40051046 0.41091573]\n",
      " [0.10325322 0.51909894]]\n"
     ]
    },
    {
     "data": {
      "image/png": "[encoded data removed]",
      "text/plain": [
       "<Figure size 432x288 with 1 Axes>"
      ]
     },
     "metadata": {
      "needs_background": "light"
     },
     "output_type": "display_data"
    },
    {
     "data": {
      "image/png": "[encoded data removed]",
      "text/plain": [
       "<Figure size 432x288 with 1 Axes>"
      ]
     },
     "metadata": {
      "needs_background": "light"
     },
     "output_type": "display_data"
    }
   ],
   "source": [
    "q, all_rewards, avg_rewards, avg_epsilons = train(initial_q)\n",
    "plot_rewards(avg_rewards, avg_epsilons)"
   ]
  },
  {
   "cell_type": "code",
   "execution_count": 18,
   "metadata": {},
   "outputs": [
    {
     "name": "stdout",
     "output_type": "stream",
     "text": [
      "317\n"
     ]
    }
   ],
   "source": [
    "def test(q):\n",
    "    env = gym.make('CartPole-v1')\n",
    "    env._max_episode_steps = 1000\n",
    "    observation = env.reset()\n",
    "    state = observations2state(observation)\n",
    "\n",
    "    for i in range(1000):\n",
    "        env.render()\n",
    "        action = get_action(q, state, 0)\n",
    "        observation, reward, done, info = env.step(action2force(action)) # take a random action\n",
    "        if done:\n",
    "            print(i)\n",
    "            break\n",
    "        else:\n",
    "            state = observations2state(observation)\n",
    "    env.close()\n",
    "    \n",
    "test(q)"
   ]
  },
  {
   "cell_type": "code",
   "execution_count": 8,
   "metadata": {},
   "outputs": [],
   "source": [
    "# q, all_rewards, avg_rewards, avg_epsilons = train(q, init_epsilon=0.001, target_epsilon=0.001, n_iterations=5000)\n",
    "# plot_rewards(avg_rewards, avg_epsilons)\n",
    "# test(q)"
   ]
  }
 ],
 "metadata": {
  "kernelspec": {
   "display_name": "Python 3",
   "language": "python",
   "name": "python3"
  },
  "language_info": {
   "codemirror_mode": {
    "name": "ipython",
    "version": 3
   },
   "file_extension": ".py",
   "mimetype": "text/x-python",
   "name": "python",
   "nbconvert_exporter": "python",
   "pygments_lexer": "ipython3",
   "version": "3.8.3"
  }
 },
 "nbformat": 4,
 "nbformat_minor": 4
}
