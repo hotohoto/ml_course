{
 "cells": [
  {
   "cell_type": "code",
   "execution_count": 1,
   "metadata": {},
   "outputs": [
    {
     "name": "stdout",
     "output_type": "stream",
     "text": [
      "tensor([[1.],\n",
      "        [5.]], requires_grad=True)\n",
      "tensor([[0., 1.],\n",
      "        [1., 0.]])\n",
      "tensor([[10.]], grad_fn=<MmBackward>)\n",
      "None\n",
      "tensor([[20.],\n",
      "        [ 4.]])\n"
     ]
    }
   ],
   "source": [
    "import torch\n",
    "\n",
    "x = torch.Tensor([[1],[5]])\n",
    "x.requires_grad = True\n",
    "w = torch.Tensor([[0,1],[1,0]])\n",
    "v = torch.Tensor([[2]])\n",
    "\n",
    "y = x.t() @ w @ x\n",
    "\n",
    "# y = 2 * x1 * x2 // f(x1,x2)\n",
    "# J = [[2*x2, 2*x1] // [[df/dx1, df/dx2]]\n",
    "# J^T = [[2 * x2], [ 2 * x1]] // [[df/dx1], [df/dx2]]\n",
    "# v = [[2]]\n",
    "\n",
    "print(x)\n",
    "print(w)\n",
    "print(y)\n",
    "print(x.grad)\n",
    "y.backward(v)\n",
    "print(x.grad)"
   ]
  },
  {
   "cell_type": "code",
   "execution_count": 2,
   "metadata": {},
   "outputs": [
    {
     "name": "stdout",
     "output_type": "stream",
     "text": [
      "tensor([[1.],\n",
      "        [5.]], requires_grad=True)\n",
      "tensor([[0., 1.],\n",
      "        [1., 0.]])\n",
      "tensor([[10.]], grad_fn=<MmBackward>)\n",
      "tensor([[10.],\n",
      "        [ 2.]])\n"
     ]
    }
   ],
   "source": [
    "import torch\n",
    "\n",
    "x = torch.Tensor([[1],[5]])\n",
    "x.requires_grad = True\n",
    "w = torch.Tensor([[0,1],[1,0]])\n",
    "v = torch.Tensor([[1]])\n",
    "\n",
    "y = x.t() @ w @ x\n",
    "\n",
    "# y = 2 * x1 * x2\n",
    "# J = [[2*x2, 2*x1]\n",
    "# J^T = [[2 * x2], [ 2 * x1]]\n",
    "# v = [[1], [1]]\n",
    "\n",
    "print(x)\n",
    "print(w)\n",
    "print(y)\n",
    "y.backward()\n",
    "print(x.grad)"
   ]
  },
  {
   "cell_type": "code",
   "execution_count": 3,
   "metadata": {},
   "outputs": [
    {
     "name": "stdout",
     "output_type": "stream",
     "text": [
      "tensor([[ 0.1518],\n",
      "        [-0.3446]], requires_grad=True)\n",
      "tensor([[1., 2.],\n",
      "        [3., 4.]])\n",
      "tensor([[-0.5374],\n",
      "        [-0.9231]], grad_fn=<MmBackward>)\n",
      "tensor([[4.],\n",
      "        [6.]])\n"
     ]
    }
   ],
   "source": [
    "import torch\n",
    "\n",
    "x = torch.randn(2, 1, requires_grad=True)\n",
    "w = torch.Tensor([[1,2], [3,4]])\n",
    "v = torch.Tensor([[1], [1]])\n",
    "\n",
    "y = w @ x\n",
    "\n",
    "# y1 = x1 + 2x2\n",
    "# y2 = 3x1 + 4x2\n",
    "# J = [[1,2], [3,4]]\n",
    "# J^T = [[1,3], [2,4]]\n",
    "# v = [[1], [1]]\n",
    "\n",
    "print(x)\n",
    "print(w)\n",
    "print(y)\n",
    "y.backward(v)\n",
    "print(x.grad)"
   ]
  }
 ],
 "metadata": {
  "kernelspec": {
   "display_name": "Python 3",
   "language": "python",
   "name": "python3"
  },
  "language_info": {
   "codemirror_mode": {
    "name": "ipython",
    "version": 3
   },
   "file_extension": ".py",
   "mimetype": "text/x-python",
   "name": "python",
   "nbconvert_exporter": "python",
   "pygments_lexer": "ipython3",
   "version": "3.6.8"
  }
 },
 "nbformat": 4,
 "nbformat_minor": 2
}
