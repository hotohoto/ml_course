{
 "cells": [
  {
   "cell_type": "markdown",
   "metadata": {},
   "source": [
    "## Chain rule (recap)"
   ]
  },
  {
   "cell_type": "markdown",
   "metadata": {},
   "source": [
    "$$\n",
    "x = w^2\n",
    "$$\n",
    "$$\n",
    "y = \\sin(x)\n",
    "$$\n",
    "$$\n",
    "z = \\cos(y)\n",
    "$$"
   ]
  },
  {
   "cell_type": "markdown",
   "metadata": {},
   "source": [
    "$$\n",
    "{dx \\over dw} = 2w\n",
    "$$"
   ]
  },
  {
   "cell_type": "markdown",
   "metadata": {},
   "source": [
    "$$\n",
    "{dy \\over dw } = \\sin(w^2)^\\prime = \\cos(w^2)\\ (w^2)^\\prime = \\cos(w^2)\\ 2w\n",
    "$$"
   ]
  },
  {
   "cell_type": "markdown",
   "metadata": {},
   "source": [
    "$$\n",
    "= \\cos(x)\\ 2w = {dy \\over dx }{dx \\over dw }\n",
    "$$"
   ]
  },
  {
   "cell_type": "markdown",
   "metadata": {},
   "source": [
    "$$\n",
    "{dz \\over dw } = \\cos(\\sin(w^2)))^\\prime = -\\sin(\\sin(w^2))\\ \\sin(w^2)^\\prime = -\\sin(\\sin(w^2))\\ \\cos(w^2)\\ (w^2)^\\prime = -\\sin(\\sin(w^2))\\ \\cos(w^2)\\ 2w\n",
    "$$"
   ]
  },
  {
   "cell_type": "markdown",
   "metadata": {},
   "source": [
    "$$\n",
    "= -\\sin(y)\\ \\cos(x)\\ 2w = {dz \\over dy }{dy \\over dx }{dx \\over dw }\n",
    "$$"
   ]
  },
  {
   "cell_type": "markdown",
   "metadata": {},
   "source": [
    "intuition:\n",
    "\n",
    "- z가 y의 함수이고 y가 x의 함수이고 x가 w의 함수라 하자.\n",
    "- w에 대한 z의 변화율은 중간 부분 부분의 변화율들인 dz/dy, dy/dx, dx/dw의 곱으로 나타낼 수 있다.\n",
    "- 즉, 부분부분의 변화율만 알면 그 부분부분을 이어 붙인 어떤 관계라도 처음과 끝 사이의 변화율을 계산할수 있다."
   ]
  },
  {
   "cell_type": "markdown",
   "metadata": {},
   "source": [
    "$$\n",
    "z = x + y\n",
    "$$\n",
    "\n",
    "$$\n",
    "{dz \\over dx} = 1\n",
    "$$\n",
    "\n",
    "$$\n",
    "{dz \\over dy} = 1\n",
    "$$"
   ]
  },
  {
   "cell_type": "markdown",
   "metadata": {},
   "source": [
    "$$\n",
    "z = xy\n",
    "$$\n",
    "\n",
    "$$\n",
    "{dz \\over dx} = y\n",
    "$$\n",
    "\n",
    "$$\n",
    "{dz \\over dy} = x\n",
    "$$"
   ]
  },
  {
   "cell_type": "markdown",
   "metadata": {},
   "source": [
    "## Forward propagation"
   ]
  },
  {
   "cell_type": "markdown",
   "metadata": {},
   "source": [
    "$$\n",
    "z_1^{(i)[1]} = x_1 w_{11}^{[1]} + x_2 w_{12}^{[1]} + b_0 w_{13}^{[1]}\n",
    "$$"
   ]
  },
  {
   "cell_type": "markdown",
   "metadata": {},
   "source": [
    "$$\n",
    "a_1^{(i)[1]} = g(z_1^{[1]})\n",
    "$$"
   ]
  },
  {
   "cell_type": "markdown",
   "metadata": {},
   "source": [
    "$$\n",
    "z_1^{(i)[2]} = a_1^{(i)[1]} w_{11}^{[2]} + a_2^{(i)[1]} w_{12}^{[2]} + b_1 w_{13}^{[2]}\n",
    "$$"
   ]
  },
  {
   "cell_type": "markdown",
   "metadata": {},
   "source": [
    "$$\n",
    "a_1^{(i)[2]} = g(z_1^{(i)[2]})\n",
    "$$"
   ]
  },
  {
   "cell_type": "markdown",
   "metadata": {},
   "source": [
    "$$\n",
    "\\hat{y}^{(i)} = a_1^{(i)[2]} w_{11}^{[3]} + a_2^{(i)[2]} w_{12}^{[3]} + b_2 w_{13}^{[3]}\n",
    "$$"
   ]
  },
  {
   "cell_type": "markdown",
   "metadata": {},
   "source": [
    "$$\n",
    "J = {1 \\over m} \\sum\\limits_{i} (\\hat{y}^{(i)} - y^{(i)})^2\n",
    "$$"
   ]
  },
  {
   "cell_type": "markdown",
   "metadata": {},
   "source": [
    "## Backward propagation"
   ]
  },
  {
   "cell_type": "markdown",
   "metadata": {},
   "source": [
    "$$\n",
    "{\\partial{J} \\over \\partial{\\hat{y}}^{(i)}} = {2 \\over m} (\\hat{y}^{(i)} - y^{(i)})\n",
    "$$"
   ]
  },
  {
   "cell_type": "markdown",
   "metadata": {},
   "source": [
    "$$\n",
    "{\\partial \\hat{y}^{(i)} \\over \\partial{w_{11}^{[3]}}} = a_1^{(i)[2]}\n",
    "$$\n",
    "\n",
    "$$\n",
    "{\\partial \\hat{y}^{(i)} \\over \\partial a_1^{(i)[2]}} = {w_{11}^{[3]}}\n",
    "$$"
   ]
  },
  {
   "cell_type": "markdown",
   "metadata": {},
   "source": [
    "## weight initialization"
   ]
  },
  {
   "cell_type": "code",
   "execution_count": 140,
   "metadata": {},
   "outputs": [
    {
     "data": {
      "image/png": "[encoded data removed]",
      "text/plain": [
       "<Figure size 432x288 with 5 Axes>"
      ]
     },
     "metadata": {
      "needs_background": "light"
     },
     "output_type": "display_data"
    }
   ],
   "source": [
    "import numpy as np\n",
    "import matplotlib.pyplot as plt\n",
    "\n",
    "\n",
    "def sigmoid(x):\n",
    "    return 1 / (1 + np.exp(-x))\n",
    "\n",
    "\n",
    "def ReLU(x):\n",
    "    return np.maximum(0, x)\n",
    "\n",
    "\n",
    "def tanh(x):\n",
    "    return np.tanh(x)\n",
    "\n",
    "\n",
    "node_num = 100  # 각 은닉층의 노드(뉴런) 수\n",
    "hidden_layer_size = 5  # 은닉층이 5개\n",
    "activations = {}  # 이곳에 활성화 결과를 저장\n",
    "input_data = np.random.randn(1000, 100)  # 1000개의 데이터\n",
    "\n",
    "x = input_data\n",
    "\n",
    "for i in range(hidden_layer_size):\n",
    "    if i != 0:\n",
    "        x = activations[i-1]\n",
    "\n",
    "    # 초깃값을 다양하게 바꿔가며 실험해보자！\n",
    "#     w = np.random.randn(node_num, node_num) * 1\n",
    "#     w = np.random.randn(node_num, node_num) * 0.01\n",
    "#     w = np.random.randn(node_num, node_num) * np.sqrt(1.0 / node_num)\n",
    "#     w = np.random.randn(node_num, node_num) * np.sqrt(2.0 / node_num)\n",
    "\n",
    "    a = np.dot(x, w)\n",
    "\n",
    "    # 활성화 함수도 바꿔가며 실험해보자！\n",
    "    z = sigmoid(a)\n",
    "#     z = ReLU(a)\n",
    "    # z = tanh(a)\n",
    "\n",
    "    activations[i] = z\n",
    "\n",
    "# 히스토그램 그리기\n",
    "for i, a in activations.items():\n",
    "    plt.subplot(1, len(activations), i+1)\n",
    "    plt.title(str(i+1) + \"-layer\")\n",
    "    if i != 0:\n",
    "        plt.yticks([], [])\n",
    "    # plt.xlim(0.1, 1)\n",
    "    # plt.ylim(0, 7000)\n",
    "    plt.hist(a.flatten(), 30, range=(0, 1))\n",
    "\n",
    "plt.show()"
   ]
  },
  {
   "cell_type": "markdown",
   "metadata": {},
   "source": [
    "## Snippets"
   ]
  },
  {
   "cell_type": "markdown",
   "metadata": {},
   "source": [
    "$$\n",
    "{\\partial{L} \\over \\partial{w_{11}^{[3]}}} = {\\partial{L} \\over \\partial a}{\\partial a \\over \\partial b}{\\partial b \\over \\partial c}{\\partial c \\over \\partial {w_{11}^{[3]}}}\n",
    "$$"
   ]
  },
  {
   "cell_type": "markdown",
   "metadata": {},
   "source": [
    "$$\n",
    "{\\partial{J} \\over \\partial{w_{11}^{[3]}}} = \\sum\\limits_{i}{\\partial{J} \\over \\partial\\hat{y}^{(i)}}{\\partial\\hat{y}^{(i)} \\over \\partial{w_{11}^{[3]}}}\n",
    "$$"
   ]
  },
  {
   "cell_type": "markdown",
   "metadata": {},
   "source": [
    "$$\n",
    "{\\partial{J} \\over \\partial{a_1^{(i)[2]}}} = {\\partial{J} \\over \\partial \\hat{y}^{(i)}}{\\partial \\hat{y}^{(i)} \\over \\partial{a_1^{(i)[2]}}}\n",
    "$$"
   ]
  },
  {
   "cell_type": "markdown",
   "metadata": {},
   "source": [
    "$$\n",
    "{\\partial{J} \\over \\partial{z_1^{(i)[2]}}} = {\\partial{J} \\over \\partial \\hat{y}^{(i)}}{\\partial \\hat{y}^{(i)} \\over \\partial{a_1^{(i)[2]}}}{\\partial{a_1^{(i)[2]}} \\over \\partial{z_1^{(i)[2]}}}\n",
    "$$"
   ]
  },
  {
   "cell_type": "markdown",
   "metadata": {},
   "source": [
    "$$\n",
    "{\\partial{J} \\over \\partial{w_{11}^{[2]}}} = \\sum\\limits_{i}{\\partial{J} \\over \\partial\\hat{y}^{(i)}}{\\partial\\hat{y}^{(i)} \\over \\partial{a_1^{(i)[2]}}}{\\partial{a_1^{(i)[2]}} \\over \\partial{z_1^{(i)[2]}}}{\\partial{z_1^{(i)[2]}} \\over \\partial{w_{11}^{[2]}}}\n",
    "$$"
   ]
  },
  {
   "cell_type": "markdown",
   "metadata": {},
   "source": [
    "$$\n",
    "{\\partial J \\over \\partial a_1^{(i)[1]}} = \\sum\\limits_j{\\partial{J} \\over \\partial\\hat{y}^{(i)}}{\\partial\\hat{y}^{(i)} \\over \\partial{a_j^{(i)[2]}}}{\\partial{a_j^{(i)[2]}} \\over \\partial{z_j^{(i)[2]}}}{\\partial{z_j^{(i)[2]}} \\over \\partial{a_1^{(i)[1]}}}\n",
    "$$"
   ]
  },
  {
   "cell_type": "code",
   "execution_count": 114,
   "metadata": {},
   "outputs": [
    {
     "data": {
      "text/markdown": [
       "---"
      ],
      "text/plain": [
       "<IPython.core.display.Markdown object>"
      ]
     },
     "metadata": {},
     "output_type": "display_data"
    },
    {
     "data": {
      "text/markdown": [
       "$$\n",
       "\\hat{y}^{(i)} = g(g(x_{1}^{(i)}w_{11}^{[1]} + x_{2}^{(i)}w_{12}^{[1]} + b^{[0]}w_{13}^{[1]})w_{11}^{[2]} + g(x_{1}^{(i)}w_{21}^{[1]} + x_{2}^{(i)}w_{22}^{[1]} + b^{[0]}w_{23}^{[1]})w_{12}^{[2]} + b^{[1]}w_{13}^{[2]}) w_{11}^{[3]} + g(g(x_{1}^{(i)}w_{11}^{[1]} + x_{2}^{(i)}w_{12}^{[1]} + b^{[0]}w_{13}^{[1]})w_{21}^{[2]} + g(x_{1}^{(i)}w_{21}^{[1]} + x_{2}^{(i)}w_{22}^{[1]} + b^{[0]}w_{23}^{[1]})w_{22}^{[2]} + b^{[1]}w_{23}^{[2]}) w_{12}^{[3]} + b^{[2]} w_{13}^{[3]}\n",
       "$$"
      ],
      "text/plain": [
       "<IPython.core.display.Markdown object>"
      ]
     },
     "metadata": {},
     "output_type": "display_data"
    },
    {
     "data": {
      "text/markdown": [
       "---"
      ],
      "text/plain": [
       "<IPython.core.display.Markdown object>"
      ]
     },
     "metadata": {},
     "output_type": "display_data"
    },
    {
     "data": {
      "text/markdown": [
       "$$\n",
       "J = {1 \\over m} \\sum\\limits_i (g(g(x_{1}^{(i)}w_{11}^{[1]} + x_{2}^{(i)}w_{12}^{[1]} + b^{[0]}w_{13}^{[1]})w_{11}^{[2]} + g(x_{1}^{(i)}w_{21}^{[1]} + x_{2}^{(i)}w_{22}^{[1]} + b^{[0]}w_{23}^{[1]})w_{12}^{[2]} + b^{[1]}w_{13}^{[2]}) w_{11}^{[3]} + g(g(x_{1}^{(i)}w_{11}^{[1]} + x_{2}^{(i)}w_{12}^{[1]} + b^{[0]}w_{13}^{[1]})w_{21}^{[2]} + g(x_{1}^{(i)}w_{21}^{[1]} + x_{2}^{(i)}w_{22}^{[1]} + b^{[0]}w_{23}^{[1]})w_{22}^{[2]} + b^{[1]}w_{23}^{[2]}) w_{12}^{[3]} + b^{[2]} w_{13}^{[3]} - y^{(i)})^2\n",
       "$$"
      ],
      "text/plain": [
       "<IPython.core.display.Markdown object>"
      ]
     },
     "metadata": {},
     "output_type": "display_data"
    },
    {
     "data": {
      "text/markdown": [
       "---"
      ],
      "text/plain": [
       "<IPython.core.display.Markdown object>"
      ]
     },
     "metadata": {},
     "output_type": "display_data"
    }
   ],
   "source": [
    "from functools import reduce\n",
    "from IPython.display import display, Markdown, Latex\n",
    "\n",
    "display_b = False\n",
    "\n",
    "x = [f\"x_{{{n}}}^{{(i)}}\" for n in range(1, 3)] + [\"b^{[0]}\"]\n",
    "z_1 = [\n",
    "    reduce(\n",
    "        lambda e1, e2: f\"{e1} + {e2}\",\n",
    "        [f\"{x[n]}w_{{{m+1}{n+1}}}^{{[1]}}\" for n in range(len(x))],\n",
    "    )\n",
    "    for m in range(2)\n",
    "]\n",
    "a_1 = [f\"g({z})\" for z in z_1] + [\"b^{[1]}\"]\n",
    "z_2 = [\n",
    "    reduce(\n",
    "        lambda e1, e2: f\"{e1} + {e2}\",\n",
    "        [f\"{a_1[n]}w_{{{m+1}{n+1}}}^{{[2]}}\" for n in range(len(a_1))],\n",
    "    )\n",
    "    for m in range(2)\n",
    "]\n",
    "a_2 = [f\"g({z})\" for z in z_2] + [\"b^{[2]}\"]\n",
    "\n",
    "y_hat = reduce(\n",
    "    lambda e1, e2: f\"{e1} + {e2}\",\n",
    "    [f\"{a_2[n]} w_{{1{n+1}}}^{{[3]}}\" for n in range(len(a_2))],\n",
    ")\n",
    "display(Markdown(f\"---\"))\n",
    "# display(Markdown(f\"$$\\nz_1^{{(i)[1]}} = {z_1[0]}\\n$$\"))\n",
    "# display(Markdown(f\"$$\\nz_2^{{(i)[1]}} = {z_1[1]}\\n$$\"))\n",
    "# display(Markdown(f\"$$\\na_1^{{(i)[1]}} = {a_1[0]}\\n$$\"))\n",
    "# display(Markdown(f\"$$\\na_2^{{(i)[1]}} = {a_1[1]}\\n$$\"))\n",
    "# display(Markdown(f\"$$\\nz_1^{{(i)[2]}} = {z_2[0]}\\n$$\"))\n",
    "# display(Markdown(f\"$$\\nz_2^{{(i)[2]}} = {z_2[1]}\\n$$\"))\n",
    "# display(Markdown(f\"$$\\na_1^{{(i)[2]}} = {a_2[0]}\\n$$\"))\n",
    "# display(Markdown(f\"$$\\na_2^{{(i)[2]}} = {a_2[1]}\\n$$\"))\n",
    "# display(Markdown(f\"---\"))\n",
    "display(Markdown(f\"$$\\n\\\\hat{{y}}^{{(i)}} = {y_hat}\\n$$\"))\n",
    "display(Markdown(f\"---\"))\n",
    "display(Markdown(f\"$$\\nJ = {{1 \\\\over m}} \\\\sum\\\\limits_i ({y_hat} - y^{{(i)}})^2\\n$$\"))\n",
    "display(Markdown(f\"---\"))"
   ]
  }
 ],
 "metadata": {
  "kernelspec": {
   "display_name": "Python 3",
   "language": "python",
   "name": "python3"
  },
  "language_info": {
   "codemirror_mode": {
    "name": "ipython",
    "version": 3
   },
   "file_extension": ".py",
   "mimetype": "text/x-python",
   "name": "python",
   "nbconvert_exporter": "python",
   "pygments_lexer": "ipython3",
   "version": "3.8.3"
  }
 },
 "nbformat": 4,
 "nbformat_minor": 4
}
