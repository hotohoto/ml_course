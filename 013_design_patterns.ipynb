{
 "cells": [
  {
   "cell_type": "markdown",
   "metadata": {},
   "source": [
    "# Patterns Patterns"
   ]
  },
  {
   "cell_type": "markdown",
   "metadata": {},
   "source": [
    "## Python-Specific Patterns"
   ]
  },
  {
   "cell_type": "markdown",
   "metadata": {},
   "source": [
    "### The Global Object Pattern\n",
    "\n",
    "See singleton pattern first to understand why the global object patterns are interesting."
   ]
  },
  {
   "cell_type": "markdown",
   "metadata": {},
   "source": [
    "Immutable constants:\n",
    "\n",
    "```py\n",
    "January = 1                   # calendar.py\n",
    "WARNING = 30                  # logging.py\n",
    "MAX_INTERPOLATION_DEPTH = 10  # configparser.py\n",
    "SSL_HANDSHAKE_TIMEOUT = 60.0  # asyncio.constants.py\n",
    "TICK = \"'\"                    # email.utils.py\n",
    "CRLF = \"\\r\\n\"                 # smtplib.py\n",
    "```"
   ]
  },
  {
   "cell_type": "markdown",
   "metadata": {},
   "source": [
    "Using immutable containers:\n",
    "\n",
    "```py\n",
    "all_errors = (OSError, EOFError) # ftplib.py\n",
    "bytes_types = (bytes, bytearray) # pickle.py\n",
    "DIGITS = frozenset(\"0123456789\") # sre_parse.py\n",
    "```"
   ]
  },
  {
   "cell_type": "markdown",
   "metadata": {},
   "source": [
    "Import time computation:\n",
    "\n",
    "```py\n",
    "# zipfile.py\n",
    "ZIP_FILECOUNT_LIMIT = (1 << 16) - 1\n",
    "\n",
    "# shutil.py\n",
    "COPY_BUFSIZE = 1024 * 1024 if _WINDOWS else 16 * 1024\n",
    "```"
   ]
  },
  {
   "cell_type": "markdown",
   "metadata": {},
   "source": [
    "Global objects that are immutable:\n",
    "\n",
    "```py\n",
    "escapesre = re.compile(r'[\\\\\"]')       # email/utils.py\n",
    "magic_check = re.compile('([*?[])')    # glob.py\n",
    "commentclose = re.compile(r'--\\s*>')   # html/parser.py\n",
    "HAS_UTF8 = re.compile(b'[\\x80-\\xff]')  # json/encoder.py\n",
    "```"
   ]
  },
  {
   "cell_type": "markdown",
   "metadata": {},
   "source": [
    "Global objects that are mutable:\n",
    "\n",
    "```py\n",
    "# os.py\n",
    "environ = _createenviron()\n",
    "```\n",
    "\n",
    "```py\n",
    "# Lib/logging/__init__.py\n",
    "root = RootLogger(WARNING)\n",
    "```"
   ]
  },
  {
   "cell_type": "markdown",
   "metadata": {},
   "source": [
    "### The Prebound Method Pattern"
   ]
  },
  {
   "cell_type": "code",
   "execution_count": 84,
   "metadata": {},
   "outputs": [],
   "source": [
    "from datetime import datetime\n",
    "\n",
    "class Random8(object):\n",
    "    def __init__(self):\n",
    "        self.set_seed(datetime.now().microsecond % 255 + 1)\n",
    "\n",
    "    def set_seed(self, value):\n",
    "        self.seed = value\n",
    "\n",
    "    def random(self):\n",
    "        self.seed, carry = divmod(self.seed, 2)\n",
    "        if carry:\n",
    "            self.seed ^= 0xb8\n",
    "        return self.seed\n",
    "\n",
    "_instance = Random8()\n",
    "\n",
    "random = _instance.random\n",
    "set_seed = _instance.set_seed"
   ]
  },
  {
   "cell_type": "markdown",
   "metadata": {},
   "source": [
    "### The Sentinal Object Pattern"
   ]
  },
  {
   "cell_type": "code",
   "execution_count": 88,
   "metadata": {},
   "outputs": [],
   "source": [
    "def cache_get(key, sentienl):\n",
    "    ...\n",
    "\n",
    "sentinel = object()  # unique object used to signal cache misses\n",
    "key = ...\n",
    "\n",
    "result = cache_get(key, sentinel)\n",
    "if result is not sentinel:\n",
    "    ..."
   ]
  },
  {
   "cell_type": "markdown",
   "metadata": {},
   "source": [
    "## Creational Patterns"
   ]
  },
  {
   "cell_type": "markdown",
   "metadata": {},
   "source": [
    "### The Abstract Factory Pattern"
   ]
  },
  {
   "cell_type": "code",
   "execution_count": 3,
   "metadata": {},
   "outputs": [],
   "source": [
    "from decimal import Decimal\n",
    "from abc import ABCMeta, abstractmethod\n",
    "\n",
    "class AbstractFactory(metaclass=ABCMeta):\n",
    "\n",
    "    @abstractmethod\n",
    "    def build_sequence(self):\n",
    "        pass\n",
    "\n",
    "    @abstractmethod\n",
    "    def build_number(self, string):\n",
    "        pass\n",
    "\n",
    "class DecimalFactory(AbstractFactory):\n",
    "    def build_sequence(self):\n",
    "        return []\n",
    "\n",
    "    def build_number(self, string):\n",
    "        return Decimal(string)\n",
    "\n",
    "class IntegerFactory(AbstractFactory):\n",
    "    def build_sequence(self):\n",
    "        return []\n",
    "\n",
    "    def build_number(self, string):\n",
    "        return int(float(string))\n",
    "    \n",
    "class Loader(object):\n",
    "    def load(string, factory):\n",
    "        sequence = factory.build_sequence()\n",
    "        for substring in string.split(','):\n",
    "            item = factory.build_number(substring)\n",
    "            sequence.append(item)\n",
    "        return sequence"
   ]
  },
  {
   "cell_type": "code",
   "execution_count": 6,
   "metadata": {},
   "outputs": [
    {
     "name": "stdout",
     "output_type": "stream",
     "text": [
      "[Decimal('1.23'), Decimal('4.56')]\n",
      "[1, 4]\n"
     ]
    }
   ],
   "source": [
    "decfactory = DecimalFactory()\n",
    "intfactory = IntegerFactory()\n",
    "text = '1.23, 4.56'\n",
    "\n",
    "result = Loader.load(text, decfactory)\n",
    "print(result)\n",
    "result = Loader.load(text, intfactory)\n",
    "print(result)"
   ]
  },
  {
   "cell_type": "markdown",
   "metadata": {},
   "source": [
    "### The Builder Pattern"
   ]
  },
  {
   "cell_type": "code",
   "execution_count": 12,
   "metadata": {},
   "outputs": [],
   "source": [
    "from typing import NamedTuple\n",
    "\n",
    "class Port(NamedTuple):\n",
    "    number: int\n",
    "    name: str = ''\n",
    "    protocol: str = ''\n",
    "\n",
    "class PortBuilder(object):\n",
    "    def __init__(self, port):\n",
    "        self.port = port\n",
    "        self.name = None\n",
    "        self.protocol = None\n",
    "\n",
    "    def build(self):\n",
    "        return Port(self.port, self.name, self.protocol)"
   ]
  },
  {
   "cell_type": "code",
   "execution_count": 13,
   "metadata": {},
   "outputs": [
    {
     "data": {
      "text/plain": [
       "Port(number=517, name='main_server', protocol='UDP')"
      ]
     },
     "execution_count": 13,
     "metadata": {},
     "output_type": "execute_result"
    }
   ],
   "source": [
    "b = PortBuilder(517)\n",
    "b.protocol = 'UDP'\n",
    "b.name = 'main_server'\n",
    "b.build()"
   ]
  },
  {
   "cell_type": "markdown",
   "metadata": {},
   "source": [
    "### The Factory Method Pattern\n",
    "\n",
    "Before applying factory pattern consider other patterns.\n",
    "\n",
    "#### Dodge: use Dependency Injection\n",
    "\n",
    "```py\n",
    "import json\n",
    "with open('input_data.json') as f:\n",
    "    data = json.load(f)\n",
    "```\n",
    "\n",
    "#### Instead: use a Class Attribute Factory\n",
    "\n",
    "```py\n",
    "class HTTPConnection:\n",
    "    ...\n",
    "    response_class = HTTPResponse\n",
    "    ...\n",
    "    def getresponse(self):\n",
    "        ...\n",
    "        response = self.response_class(self.sock, method=self._method)\n",
    "        ...\n",
    "```\n",
    "\n",
    "```py\n",
    "class SpecialHTTPConnection(HTTPConnection):\n",
    "    response_class = SpecialHTTPResponse\n",
    "```\n",
    "\n",
    "#### Instead: use an Instance Attribute Factory\n",
    "\n",
    "```py\n",
    "class JSONDecoder(object):\n",
    "    ...\n",
    "    def __init__(self, ... parse_float=None, ...):\n",
    "        ...\n",
    "        self.parse_float = parse_float or float\n",
    "        ...\n",
    "```\n",
    "\n",
    "```py\n",
    "from decimal import Decimal\n",
    "from json import JSONDecoder\n",
    "\n",
    "my_decoder = JSONDecoder(parse_float=Decimal)\n",
    "```\n",
    "\n",
    "Refer to\n",
    "\n",
    "- https://python-patterns.guide/gang-of-four/factory-method/\n",
    "- http://misko.hevery.com/2008/10/21/dependency-injection-myth-reference-passing/\n",
    "\n",
    "."
   ]
  },
  {
   "cell_type": "code",
   "execution_count": null,
   "metadata": {},
   "outputs": [],
   "source": [
    "# TODO"
   ]
  },
  {
   "cell_type": "markdown",
   "metadata": {},
   "source": [
    "### The Prototype Pattern"
   ]
  },
  {
   "cell_type": "code",
   "execution_count": null,
   "metadata": {},
   "outputs": [],
   "source": [
    "# TODO"
   ]
  },
  {
   "cell_type": "markdown",
   "metadata": {},
   "source": [
    "### The Singleton Pattern\n",
    "\n",
    "In python, use global object patterns instead for the most of cases.\n",
    "\n",
    "- `__new__` is not a popular dunder\n",
    "- The code like `Logger()` can be misunderstood\n",
    "- Forces a design commitment that the global object pattern does not.\n",
    "\n",
    "Refer to https://python-patterns.guide/gang-of-four/singleton/."
   ]
  },
  {
   "cell_type": "code",
   "execution_count": 37,
   "metadata": {},
   "outputs": [],
   "source": [
    "class Logger(object):\n",
    "    _instance = None\n",
    "\n",
    "    def __init__(self):\n",
    "        raise RuntimeError('Call instance() instead')\n",
    "\n",
    "    @classmethod\n",
    "    def instance(cls):\n",
    "        if cls._instance is None:\n",
    "            print('Creating new instance')\n",
    "            cls._instance = cls.__new__(cls)\n",
    "            # Put any initialization here.\n",
    "        return cls._instance"
   ]
  },
  {
   "cell_type": "code",
   "execution_count": 38,
   "metadata": {},
   "outputs": [
    {
     "name": "stdout",
     "output_type": "stream",
     "text": [
      "Creating new instance\n",
      "<__main__.Logger object at 0x7fa054525358>\n",
      "<__main__.Logger object at 0x7fa054525358>\n"
     ]
    }
   ],
   "source": [
    "l = Logger.instance()\n",
    "print(l)\n",
    "\n",
    "l = Logger.instance()\n",
    "print(l)"
   ]
  },
  {
   "cell_type": "code",
   "execution_count": 42,
   "metadata": {},
   "outputs": [],
   "source": [
    "# pythonic way\n",
    "class Logger(object):\n",
    "    _instance = None\n",
    "\n",
    "    def __new__(cls):\n",
    "        if cls._instance is None:\n",
    "            print('Creating the object')\n",
    "            cls._instance = super(Logger, cls).__new__(cls)\n",
    "            # Put any initialization here.\n",
    "        return cls._instance"
   ]
  },
  {
   "cell_type": "code",
   "execution_count": 41,
   "metadata": {},
   "outputs": [
    {
     "name": "stdout",
     "output_type": "stream",
     "text": [
      "Creating the object\n",
      "<__main__.Logger object at 0x7fa054525d30>\n",
      "<__main__.Logger object at 0x7fa054525d30>\n"
     ]
    }
   ],
   "source": [
    "l = Logger()\n",
    "print(l)\n",
    "\n",
    "l = Logger()\n",
    "print(l)"
   ]
  },
  {
   "cell_type": "markdown",
   "metadata": {},
   "source": [
    "## Structural Patterns"
   ]
  },
  {
   "cell_type": "markdown",
   "metadata": {},
   "source": [
    "### The Composite Pattern"
   ]
  },
  {
   "cell_type": "code",
   "execution_count": null,
   "metadata": {},
   "outputs": [],
   "source": [
    "# TODO"
   ]
  },
  {
   "cell_type": "markdown",
   "metadata": {},
   "source": [
    "### The Decorator Pattern"
   ]
  },
  {
   "cell_type": "code",
   "execution_count": null,
   "metadata": {},
   "outputs": [],
   "source": [
    "# TODO"
   ]
  },
  {
   "cell_type": "markdown",
   "metadata": {},
   "source": [
    "### The Flyweight Pattern"
   ]
  },
  {
   "cell_type": "code",
   "execution_count": 89,
   "metadata": {},
   "outputs": [],
   "source": [
    "# TODO"
   ]
  },
  {
   "cell_type": "markdown",
   "metadata": {},
   "source": [
    "## Behavioral Patterns"
   ]
  },
  {
   "cell_type": "code",
   "execution_count": 90,
   "metadata": {},
   "outputs": [],
   "source": [
    "# TODO"
   ]
  },
  {
   "cell_type": "markdown",
   "metadata": {},
   "source": [
    "### The Iterator Pattern"
   ]
  },
  {
   "cell_type": "code",
   "execution_count": 91,
   "metadata": {},
   "outputs": [],
   "source": [
    "# TODO"
   ]
  },
  {
   "cell_type": "markdown",
   "metadata": {},
   "source": [
    "## references\n",
    "\n",
    "- https://python-patterns.guide\n",
    "- https://realpython.com/factory-method-python/\n",
    "- https://www.toptal.com/python/python-design-patterns"
   ]
  }
 ],
 "metadata": {
  "kernelspec": {
   "display_name": "Python 3",
   "language": "python",
   "name": "python3"
  },
  "language_info": {
   "codemirror_mode": {
    "name": "ipython",
    "version": 3
   },
   "file_extension": ".py",
   "mimetype": "text/x-python",
   "name": "python",
   "nbconvert_exporter": "python",
   "pygments_lexer": "ipython3",
   "version": "3.6.7"
  }
 },
 "nbformat": 4,
 "nbformat_minor": 2
}
