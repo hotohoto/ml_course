{
 "cells": [
  {
   "cell_type": "markdown",
   "metadata": {},
   "source": [
    "# Meaning of $X^{\\mathsf {T}}X$"
   ]
  },
  {
   "cell_type": "code",
   "execution_count": 1,
   "metadata": {},
   "outputs": [],
   "source": [
    "import numpy as np"
   ]
  },
  {
   "cell_type": "code",
   "execution_count": 2,
   "metadata": {},
   "outputs": [
    {
     "data": {
      "text/plain": [
       "array([[ 65, 175,  25],\n",
       "       [ 67, 183,  21],\n",
       "       [ 52, 165,  22],\n",
       "       [ 68, 170,  39],\n",
       "       [ 45, 142,  10]])"
      ]
     },
     "execution_count": 2,
     "metadata": {},
     "output_type": "execute_result"
    }
   ],
   "source": [
    "X = np.array([[65, 175, 25], [67, 183, 21], [52, 165, 22], [68, 170, 39], [45, 142, 10]])\n",
    "X"
   ]
  },
  {
   "cell_type": "code",
   "execution_count": 3,
   "metadata": {},
   "outputs": [
    {
     "data": {
      "text/plain": [
       "array([[ 18067,  50166,   7278],\n",
       "       [ 50166, 140403,  19898],\n",
       "       [  7278,  19898,   3171]])"
      ]
     },
     "execution_count": 3,
     "metadata": {},
     "output_type": "execute_result"
    }
   ],
   "source": [
    "def sscp(M): # sum of squares cross products\n",
    "    return M.T @ M\n",
    "\n",
    "sscp(X)"
   ]
  },
  {
   "cell_type": "code",
   "execution_count": 4,
   "metadata": {},
   "outputs": [
    {
     "name": "stdout",
     "output_type": "stream",
     "text": [
      "[[106.3  141.75  82.05]\n",
      " [141.75 239.5   89.75]\n",
      " [ 82.05  89.75 108.3 ]]\n",
      "[[106.3  141.75  82.05]\n",
      " [141.75 239.5   89.75]\n",
      " [ 82.05  89.75 108.3 ]]\n"
     ]
    }
   ],
   "source": [
    "center = np.mean(X, axis=0)\n",
    "X_centered = X - center\n",
    "print(sscp(X_centered)/(5-1)) # Covariance\n",
    "print(np.cov(X.T))"
   ]
  },
  {
   "cell_type": "code",
   "execution_count": 5,
   "metadata": {},
   "outputs": [
    {
     "name": "stdout",
     "output_type": "stream",
     "text": [
      "[[1.         0.88839003 0.76471168]\n",
      " [0.88839003 1.         0.55727232]\n",
      " [0.76471168 0.55727232 1.        ]]\n",
      "[[1.         0.88839003 0.76471168]\n",
      " [0.88839003 1.         0.55727232]\n",
      " [0.76471168 0.55727232 1.        ]]\n"
     ]
    }
   ],
   "source": [
    "std = np.std(X, axis=0)\n",
    "X_std = (X - center) / std\n",
    "print(sscp(X_std)/5) # Pearson correlation coefficient\n",
    "print(np.corrcoef(X.T))"
   ]
  },
  {
   "cell_type": "code",
   "execution_count": 6,
   "metadata": {},
   "outputs": [
    {
     "name": "stdout",
     "output_type": "stream",
     "text": [
      "[[1.         0.99604339 0.96154787]\n",
      " [0.99604339 1.         0.94302479]\n",
      " [0.96154787 0.94302479 1.        ]]\n"
     ]
    }
   ],
   "source": [
    "X_norm = X / np.linalg.norm(X, axis=0)\n",
    "print(sscp(X_norm)) # cosine similarity"
   ]
  },
  {
   "cell_type": "markdown",
   "metadata": {},
   "source": [
    "## References\n",
    "\n",
    "- https://towardsdatascience.com/x%E1%B5%80x-covariance-correlation-and-cosine-matrices-d2230997fb7"
   ]
  }
 ],
 "metadata": {
  "kernelspec": {
   "display_name": "Python 3",
   "language": "python",
   "name": "python3"
  },
  "language_info": {
   "codemirror_mode": {
    "name": "ipython",
    "version": 3
   },
   "file_extension": ".py",
   "mimetype": "text/x-python",
   "name": "python",
   "nbconvert_exporter": "python",
   "pygments_lexer": "ipython3",
   "version": "3.8.3"
  }
 },
 "nbformat": 4,
 "nbformat_minor": 4
}
