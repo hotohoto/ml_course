{
 "cells": [
  {
   "cell_type": "markdown",
   "metadata": {},
   "source": [
    "# Python - intermediate\n",
    "\n",
    "- profiling\n",
    "- memory management\n",
    "- threading\n",
    "- async.io\n",
    "- socket\n",
    "- regular expression\n",
    "- coroutine\n",
    "- descriptor"
   ]
  },
  {
   "cell_type": "markdown",
   "metadata": {},
   "source": [
    "## Profiling\n",
    "\n",
    "https://docs.python.org/3/library/profile.html"
   ]
  },
  {
   "cell_type": "code",
   "execution_count": 1,
   "metadata": {},
   "outputs": [
    {
     "name": "stdout",
     "output_type": "stream",
     "text": [
      "         1664082 function calls (4 primitive calls) in 2.495 seconds\n",
      "\n",
      "   Ordered by: standard name\n",
      "\n",
      "   ncalls  tottime  percall  cumtime  percall filename:lineno(function)\n",
      "1664079/1    2.495    0.000    2.495    2.495 <ipython-input-1-35f1d2d7da4e>:4(fibo)\n",
      "        1    0.000    0.000    2.495    2.495 <string>:1(<module>)\n",
      "        1    0.000    0.000    2.495    2.495 {built-in method builtins.exec}\n",
      "        1    0.000    0.000    0.000    0.000 {method 'disable' of '_lsprof.Profiler' objects}\n",
      "\n",
      "\n",
      "         60 function calls (4 primitive calls) in 0.000 seconds\n",
      "\n",
      "   Ordered by: standard name\n",
      "\n",
      "   ncalls  tottime  percall  cumtime  percall filename:lineno(function)\n",
      "     57/1    0.000    0.000    0.000    0.000 <ipython-input-1-35f1d2d7da4e>:14(fibo_with_cache)\n",
      "        1    0.000    0.000    0.000    0.000 <string>:1(<module>)\n",
      "        1    0.000    0.000    0.000    0.000 {built-in method builtins.exec}\n",
      "        1    0.000    0.000    0.000    0.000 {method 'disable' of '_lsprof.Profiler' objects}\n",
      "\n",
      "\n",
      "         33 function calls (4 primitive calls) in 0.000 seconds\n",
      "\n",
      "   Ordered by: standard name\n",
      "\n",
      "   ncalls  tottime  percall  cumtime  percall filename:lineno(function)\n",
      "     30/1    0.000    0.000    0.000    0.000 <ipython-input-1-35f1d2d7da4e>:26(fibo2)\n",
      "        1    0.000    0.000    0.000    0.000 <string>:1(<module>)\n",
      "        1    0.000    0.000    0.000    0.000 {built-in method builtins.exec}\n",
      "        1    0.000    0.000    0.000    0.000 {method 'disable' of '_lsprof.Profiler' objects}\n",
      "\n",
      "\n"
     ]
    }
   ],
   "source": [
    "import cProfile\n",
    "import functools\n",
    "\n",
    "def fibo(n):\n",
    "    if n == 1:\n",
    "        return 1\n",
    "    if n == 2:\n",
    "        return 1\n",
    "    return fibo(n - 2) + fibo(n - 1)\n",
    "\n",
    "# with cache\n",
    "cache = {}\n",
    "\n",
    "def fibo_with_cache(n):\n",
    "    if n in cache:\n",
    "        return cache[n]\n",
    "    if n == 1:\n",
    "        v = 1\n",
    "    elif n == 2:\n",
    "        v = 2\n",
    "    else:\n",
    "        v = fibo_with_cache(n - 2) + fibo_with_cache(n - 1)\n",
    "    cache[n] = v\n",
    "    return v\n",
    "\n",
    "@functools.lru_cache(maxsize=50)\n",
    "def fibo2(n):\n",
    "    if n == 1:\n",
    "        return 1\n",
    "    if n == 2:\n",
    "        return 1\n",
    "    return fibo2(n - 2) + fibo2(n - 1)\n",
    "\n",
    "cProfile.run('fibo(30)')\n",
    "cProfile.run('fibo_with_cache(30)')\n",
    "cProfile.run('fibo2(30)')"
   ]
  },
  {
   "cell_type": "markdown",
   "metadata": {},
   "source": [
    "## Memory management\n",
    "\n",
    "Some of the below are implmentation dependent, and they are not the part of Python specification."
   ]
  },
  {
   "cell_type": "markdown",
   "metadata": {},
   "source": [
    "### Details on objects\n",
    "\n",
    "- mutable vs immutable objects\n",
    "- replacing vs copying\n",
    "- `is` vs `==`\n",
    "- assignment statement as rebinding\n",
    "- interning\n",
    "- \"call by sharing\"\n",
    "  - reference to an object is passed in\n",
    "  - argument can be reassigned in the function but it's not visible to the caller\n",
    "  \n",
    "details:\n",
    "\n",
    "- Simple assignment does not create copies.\n",
    "- Augmented assignment with += or *= creates new objects if the lefthand variable is bound to an immutable object, but may modify a mutable object in place.\n",
    "- Assigning a new value to an existing variable does not change the object previously bound to it. This is called a rebinding: the variable is now bound to a different object. If that variable was the last reference to the previous object, that object will be garbage collected.\n",
    "- Function parameters are passed as aliases, which means the function may change any mutable object received as an argument. There is no way to prevent this, except making local copies or using immutable objects (e.g., passing a tuple instead of a list).\n",
    "- Using mutable objects as default values for function parameters is dangerous because if the parameters are changed in place, then the default is changed, affecting every future call that relies on the default."
   ]
  },
  {
   "cell_type": "markdown",
   "metadata": {},
   "source": [
    "### IDs"
   ]
  },
  {
   "cell_type": "code",
   "execution_count": 2,
   "metadata": {},
   "outputs": [
    {
     "name": "stdout",
     "output_type": "stream",
     "text": [
      "140114052667984\n",
      "10914304\n",
      "10914496\n",
      "10914496\n",
      "10922656\n",
      "140114052668080\n"
     ]
    }
   ],
   "source": [
    "print(id(-6))\n",
    "print(id(-5))\n",
    "print(id(1))\n",
    "print(id(2-1))\n",
    "print(id(256))\n",
    "print(id(257))"
   ]
  },
  {
   "cell_type": "code",
   "execution_count": 3,
   "metadata": {},
   "outputs": [
    {
     "name": "stdout",
     "output_type": "stream",
     "text": [
      "140114052667696\n",
      "10914304\n",
      "10914496\n",
      "10914496\n",
      "10922656\n",
      "140114052667824\n"
     ]
    }
   ],
   "source": [
    "print(id(-6))\n",
    "print(id(-5))\n",
    "print(id(1))\n",
    "print(id(2-1))\n",
    "print(id(256))\n",
    "print(id(257))"
   ]
  },
  {
   "cell_type": "code",
   "execution_count": 4,
   "metadata": {},
   "outputs": [
    {
     "name": "stdout",
     "output_type": "stream",
     "text": [
      "140114052400400\n",
      "140114052399968\n"
     ]
    }
   ],
   "source": [
    "print(id({}))\n",
    "print(id({}))"
   ]
  },
  {
   "cell_type": "code",
   "execution_count": 5,
   "metadata": {},
   "outputs": [
    {
     "name": "stdout",
     "output_type": "stream",
     "text": [
      "140114052402128\n",
      "140114052295128\n",
      "140114052401984\n",
      "\n",
      "140114223628360\n",
      "140114223628360\n",
      "140114223628360\n"
     ]
    }
   ],
   "source": [
    "print(id({}))\n",
    "print(id({}))\n",
    "print(id({}))\n",
    "print()\n",
    "print(id(()))\n",
    "print(id(()))\n",
    "print(id(()))"
   ]
  },
  {
   "cell_type": "code",
   "execution_count": 6,
   "metadata": {},
   "outputs": [
    {
     "name": "stdout",
     "output_type": "stream",
     "text": [
      "140114052296568\n",
      "140114052383936\n",
      "140114053275464\n",
      "140114053275464\n"
     ]
    }
   ],
   "source": [
    "a = (1, 2, 3)\n",
    "print(id(a))\n",
    "a += (4, 5)\n",
    "print(id(a))\n",
    "b = [1, 2, 3]\n",
    "print(id(b))\n",
    "b += [4, 5]\n",
    "print(id(b))"
   ]
  },
  {
   "cell_type": "markdown",
   "metadata": {},
   "source": [
    "### Garbage collection"
   ]
  },
  {
   "cell_type": "code",
   "execution_count": 7,
   "metadata": {},
   "outputs": [
    {
     "name": "stdout",
     "output_type": "stream",
     "text": [
      "3391\n",
      "3391\n"
     ]
    }
   ],
   "source": [
    "import sys\n",
    "print(sys.getrefcount(1))\n",
    "a=1\n",
    "print(sys.getrefcount(1))"
   ]
  },
  {
   "cell_type": "code",
   "execution_count": 8,
   "metadata": {},
   "outputs": [
    {
     "name": "stdout",
     "output_type": "stream",
     "text": [
      "2\n",
      "3\n"
     ]
    }
   ],
   "source": [
    "class A:\n",
    "    pass\n",
    "a = A()\n",
    "print(sys.getrefcount(a))\n",
    "b = a\n",
    "print(sys.getrefcount(a))\n",
    "# one for `a`, one for `b`, and one for an argument of sys.getrefcount()"
   ]
  },
  {
   "cell_type": "code",
   "execution_count": 9,
   "metadata": {},
   "outputs": [
    {
     "name": "stdout",
     "output_type": "stream",
     "text": [
      "gc.isenabled() True\n",
      "gc.get_threshold() (700, 10, 10)\n",
      "gc.get_count() (355, 4, 3)\n"
     ]
    }
   ],
   "source": [
    "import gc\n",
    "print(\"gc.isenabled()\", gc.isenabled())\n",
    "print(\"gc.get_threshold()\", gc.get_threshold())\n",
    "print(\"gc.get_count()\", gc.get_count())"
   ]
  },
  {
   "cell_type": "code",
   "execution_count": 10,
   "metadata": {},
   "outputs": [
    {
     "data": {
      "text/plain": [
       "0"
      ]
     },
     "execution_count": 10,
     "metadata": {},
     "output_type": "execute_result"
    }
   ],
   "source": [
    "gc.collect()"
   ]
  },
  {
   "cell_type": "code",
   "execution_count": 11,
   "metadata": {},
   "outputs": [
    {
     "name": "stdout",
     "output_type": "stream",
     "text": [
      "gc.get_count() (403, 0, 0)\n"
     ]
    }
   ],
   "source": [
    "print(\"gc.get_count()\", gc.get_count())"
   ]
  },
  {
   "cell_type": "markdown",
   "metadata": {},
   "source": [
    "### Finalizer"
   ]
  },
  {
   "cell_type": "code",
   "execution_count": 12,
   "metadata": {},
   "outputs": [],
   "source": [
    "import weakref\n",
    "\n",
    "s1 = {1, 2, 3, 4}\n",
    "s2 = s1"
   ]
  },
  {
   "cell_type": "code",
   "execution_count": 13,
   "metadata": {},
   "outputs": [
    {
     "data": {
      "text/plain": [
       "True"
      ]
     },
     "execution_count": 13,
     "metadata": {},
     "output_type": "execute_result"
    }
   ],
   "source": [
    "def bye():\n",
    "    print(\"Gone with the wind...\")\n",
    "ender = weakref.finalize(s1, bye)\n",
    "ender.alive"
   ]
  },
  {
   "cell_type": "code",
   "execution_count": 14,
   "metadata": {},
   "outputs": [
    {
     "data": {
      "text/plain": [
       "True"
      ]
     },
     "execution_count": 14,
     "metadata": {},
     "output_type": "execute_result"
    }
   ],
   "source": [
    "del s1\n",
    "ender.alive"
   ]
  },
  {
   "cell_type": "code",
   "execution_count": 15,
   "metadata": {},
   "outputs": [
    {
     "name": "stdout",
     "output_type": "stream",
     "text": [
      "Gone with the wind...\n"
     ]
    }
   ],
   "source": [
    "s2 = \"spam\""
   ]
  },
  {
   "cell_type": "code",
   "execution_count": 16,
   "metadata": {},
   "outputs": [
    {
     "data": {
      "text/plain": [
       "False"
      ]
     },
     "execution_count": 16,
     "metadata": {},
     "output_type": "execute_result"
    }
   ],
   "source": [
    "ender.alive"
   ]
  },
  {
   "cell_type": "markdown",
   "metadata": {},
   "source": [
    "### Weak references"
   ]
  },
  {
   "cell_type": "code",
   "execution_count": 17,
   "metadata": {},
   "outputs": [
    {
     "name": "stdout",
     "output_type": "stream",
     "text": [
      "2\n",
      "2\n"
     ]
    }
   ],
   "source": [
    "import sys\n",
    "import weakref\n",
    "import gc\n",
    "\n",
    "def bye():\n",
    "    print(\"Gone with the wind...\")\n",
    "\n",
    "my_object = {-1, -2, -5}\n",
    "print(sys.getrefcount(my_object))\n",
    "weakref.finalize(my_object, bye)\n",
    "print(sys.getrefcount(my_object))"
   ]
  },
  {
   "cell_type": "code",
   "execution_count": 18,
   "metadata": {},
   "outputs": [],
   "source": [
    "wref = weakref.ref(my_object)"
   ]
  },
  {
   "cell_type": "code",
   "execution_count": 19,
   "metadata": {},
   "outputs": [
    {
     "name": "stdout",
     "output_type": "stream",
     "text": [
      "2\n",
      "2\n"
     ]
    }
   ],
   "source": [
    "print(sys.getrefcount(my_object))\n",
    "print(sys.getrefcount(wref()))"
   ]
  },
  {
   "cell_type": "code",
   "execution_count": 20,
   "metadata": {},
   "outputs": [
    {
     "data": {
      "text/plain": [
       "{-5, -2, -1}"
      ]
     },
     "execution_count": 20,
     "metadata": {},
     "output_type": "execute_result"
    }
   ],
   "source": [
    "wref()"
   ]
  },
  {
   "cell_type": "code",
   "execution_count": 21,
   "metadata": {},
   "outputs": [
    {
     "name": "stdout",
     "output_type": "stream",
     "text": [
      "140114094491688\n",
      "140114094491688\n"
     ]
    }
   ],
   "source": [
    "print(id(my_object))\n",
    "print(id(wref()))"
   ]
  },
  {
   "cell_type": "code",
   "execution_count": 22,
   "metadata": {},
   "outputs": [],
   "source": [
    "my_object = {1,2,3,4,5}"
   ]
  },
  {
   "cell_type": "code",
   "execution_count": 23,
   "metadata": {},
   "outputs": [
    {
     "name": "stdout",
     "output_type": "stream",
     "text": [
      "{-5, -1, -2}\n"
     ]
    }
   ],
   "source": [
    "print(wref())"
   ]
  },
  {
   "cell_type": "code",
   "execution_count": 24,
   "metadata": {},
   "outputs": [
    {
     "data": {
      "text/plain": [
       "0"
      ]
     },
     "execution_count": 24,
     "metadata": {},
     "output_type": "execute_result"
    }
   ],
   "source": [
    "gc.collect()\n",
    "# in python interpreter \"Gone with the wind..\" is printed."
   ]
  },
  {
   "cell_type": "code",
   "execution_count": 25,
   "metadata": {},
   "outputs": [
    {
     "data": {
      "text/plain": [
       "False"
      ]
     },
     "execution_count": 25,
     "metadata": {},
     "output_type": "execute_result"
    }
   ],
   "source": [
    "wref()is None\n",
    "# in python interpreter \"True\" is printed"
   ]
  },
  {
   "cell_type": "markdown",
   "metadata": {},
   "source": [
    "## Socket programming"
   ]
  },
  {
   "cell_type": "code",
   "execution_count": 26,
   "metadata": {},
   "outputs": [],
   "source": [
    "import socket\n",
    "import ssl"
   ]
  },
  {
   "cell_type": "code",
   "execution_count": 27,
   "metadata": {},
   "outputs": [],
   "source": [
    "HOST = 'example.com'  # The server's hostname or IP address\n",
    "PORT = 80                # The port used by the server"
   ]
  },
  {
   "cell_type": "code",
   "execution_count": 28,
   "metadata": {},
   "outputs": [
    {
     "name": "stdout",
     "output_type": "stream",
     "text": [
      "93.184.216.34\n"
     ]
    }
   ],
   "source": [
    "IP = socket.gethostbyname(HOST)\n",
    "print(IP)"
   ]
  },
  {
   "cell_type": "code",
   "execution_count": 29,
   "metadata": {},
   "outputs": [],
   "source": [
    "MESSAGE = \\\n",
    "b\"\"\"\n",
    "GET / HTTP/1.1\n",
    "User-Agent: Mozilla/4.0 (compatible; MSIE5.01; Windows NT)\n",
    "Host: example.com\n",
    "Accept-Language: en-us\n",
    "Accept-Encoding: identity\n",
    "Connection: keep-alive\n",
    "Cache-Control: private, max-age=0, no-cache\n",
    "Pragma: no-cache\n",
    "Expires: Wed, 21 Oct 2015 07:28:00 GMT\n",
    "\n",
    "\"\"\""
   ]
  },
  {
   "cell_type": "code",
   "execution_count": 30,
   "metadata": {},
   "outputs": [
    {
     "name": "stdout",
     "output_type": "stream",
     "text": [
      "b'HTTP/1.1 200 OK\\r\\nCache-Control: max-age=604800\\r\\nContent-Type: text/html; charset=UTF-8\\r\\nDate: Fri, 10 Jan 2020 09:25:29 GMT\\r\\nEtag: \"3147526947+ident\"\\r\\nExpires: Fri, 17 Jan 2020 09:25:29 GMT\\r\\nLast-Modified: Thu, 17 Oct 2019 07:18:26 GMT\\r\\nServer: ECS (sjc/4E71)\\r\\nVary: Accept-Encoding\\r\\nX-Cache: HIT\\r\\nContent-Length: 1256\\r\\n\\r\\n<!doctype html>\\n<html>\\n<head>\\n    <title>Example Domain</title>\\n\\n    <meta charset=\"utf-8\" />\\n    <meta http-equiv=\"Content-type\" content=\"text/html; charset=utf-8\" />\\n    <meta name=\"viewport\" content=\"width=device-width, initial-scale=1\" />\\n    <style type=\"text/css\">\\n    body {\\n        background-color: #f0f0f2;\\n        margin: 0;\\n        padding: 0;\\n        font-family: -apple-system, system-ui, BlinkMacSystemFont, \"Segoe UI\", \"Open Sans\", \"Helvetica Neue\", Helvetica, Arial, sans-serif;\\n        \\n    }\\n    div {\\n        width: 600px;\\n        margin: 5em auto;\\n        padding: 2em;\\n        background-color: #fdfdff;\\n        border-radius: 0.5em;\\n        box-shadow: 2px 3px 7px 2px rgba(0,0,0,0.02);\\n    }\\n    a:link, a:visited {\\n        color: #38488f;\\n        text-decoration: none;\\n    }\\n    @media (max-width: 700px) {\\n        div {\\n            margin: 0 auto;\\n            width: auto;\\n        }\\n    }\\n    </style>    \\n</head>\\n\\n<body>\\n<div>\\n    <h1>Example Domain</h1>\\n    <p>This domain is for use in illustrative examples in documents. You may use this\\n    domain in literature without prior coordination or asking for permission.</p>\\n    <p><a href=\"https://www.iana.org/domains/example\">More information...</a></p>\\n</div>\\n</body>\\n</html>\\n'\n",
      "HTTP/1.1 200 OK\r\n",
      "Cache-Control: max-age=604800\r\n",
      "Content-Type: text/html; charset=UTF-8\r\n",
      "Date: Fri, 10 Jan 2020 09:25:29 GMT\r\n",
      "Etag: \"3147526947+ident\"\r\n",
      "Expires: Fri, 17 Jan 2020 09:25:29 GMT\r\n",
      "Last-Modified: Thu, 17 Oct 2019 07:18:26 GMT\r\n",
      "Server: ECS (sjc/4E71)\r\n",
      "Vary: Accept-Encoding\r\n",
      "X-Cache: HIT\r\n",
      "Content-Length: 1256\r\n",
      "\r\n",
      "<!doctype html>\n",
      "<html>\n",
      "<head>\n",
      "    <title>Example Domain</title>\n",
      "\n",
      "    <meta charset=\"utf-8\" />\n",
      "    <meta http-equiv=\"Content-type\" content=\"text/html; charset=utf-8\" />\n",
      "    <meta name=\"viewport\" content=\"width=device-width, initial-scale=1\" />\n",
      "    <style type=\"text/css\">\n",
      "    body {\n",
      "        background-color: #f0f0f2;\n",
      "        margin: 0;\n",
      "        padding: 0;\n",
      "        font-family: -apple-system, system-ui, BlinkMacSystemFont, \"Segoe UI\", \"Open Sans\", \"Helvetica Neue\", Helvetica, Arial, sans-serif;\n",
      "        \n",
      "    }\n",
      "    div {\n",
      "        width: 600px;\n",
      "        margin: 5em auto;\n",
      "        padding: 2em;\n",
      "        background-color: #fdfdff;\n",
      "        border-radius: 0.5em;\n",
      "        box-shadow: 2px 3px 7px 2px rgba(0,0,0,0.02);\n",
      "    }\n",
      "    a:link, a:visited {\n",
      "        color: #38488f;\n",
      "        text-decoration: none;\n",
      "    }\n",
      "    @media (max-width: 700px) {\n",
      "        div {\n",
      "            margin: 0 auto;\n",
      "            width: auto;\n",
      "        }\n",
      "    }\n",
      "    </style>    \n",
      "</head>\n",
      "\n",
      "<body>\n",
      "<div>\n",
      "    <h1>Example Domain</h1>\n",
      "    <p>This domain is for use in illustrative examples in documents. You may use this\n",
      "    domain in literature without prior coordination or asking for permission.</p>\n",
      "    <p><a href=\"https://www.iana.org/domains/example\">More information...</a></p>\n",
      "</div>\n",
      "</body>\n",
      "</html>\n",
      "\n"
     ]
    }
   ],
   "source": [
    "with socket.socket(socket.AF_INET, socket.SOCK_STREAM) as s:\n",
    "    s.connect((HOST, PORT))\n",
    "    s.sendall(MESSAGE)\n",
    "    data = s.recv(1024*1024)\n",
    "    print(data)\n",
    "\n",
    "print(data.decode('UTF-8'))"
   ]
  },
  {
   "cell_type": "code",
   "execution_count": 31,
   "metadata": {},
   "outputs": [
    {
     "name": "stdout",
     "output_type": "stream",
     "text": [
      "HTTP/1.1 301 Moved Permanently\r\n",
      "Location: https://www.google.com/\r\n",
      "Content-Type: text/html; charset=UTF-8\r\n",
      "Date: Fri, 10 Jan 2020 09:25:30 GMT\r\n",
      "Expires: Sun, 09 Feb 2020 09:25:30 GMT\r\n",
      "Cache-Control: public, max-age=2592000\r\n",
      "Server: gws\r\n",
      "Content-Length: 220\r\n",
      "X-XSS-Protection: 0\r\n",
      "X-Frame-Options: SAMEORIGIN\r\n",
      "Alt-Svc: quic=\":443\"; ma=2592000; v=\"46,43\",h3-Q050=\":443\"; ma=2592000,h3-Q049=\":443\"; ma=2592000,h3-Q048=\":443\"; ma=2592000,h3-Q046=\":443\"; ma=2592000,h3-Q043=\":443\"; ma=2592000\r\n",
      "\r\n",
      "<HTML><HEAD><meta http-equiv=\"content-type\" content=\"text/html;charset=utf-8\">\n",
      "<TITLE>301 Moved</TITLE></HEAD><BODY>\n",
      "<H1>301 Moved</H1>\n",
      "The document has moved\n",
      "<A HREF=\"https://www.google.com/\">here</A>.\r\n",
      "</BODY></HTML>\r\n",
      "\n"
     ]
    }
   ],
   "source": [
    "import socket\n",
    "import ssl\n",
    "\n",
    "MESSAGE = \\\n",
    "b\"\"\"\n",
    "GET / HTTP/1.1\n",
    "User-Agent: Mozilla/4.0 (compatible; MSIE5.01; Windows NT)\n",
    "Host: google.com\n",
    "Accept-Language: en-us\n",
    "Accept-Encoding: identity\n",
    "Connection: keep-alive\n",
    "Cache-Control: private, max-age=0, no-cache\n",
    "Pragma: no-cache\n",
    "Expires: Wed, 21 Oct 2015 07:28:00 GMT\n",
    "\n",
    "\"\"\"\n",
    "HOST = \"google.com\"\n",
    "PORT = 443         # The port used by the server\n",
    "\n",
    "context = ssl.create_default_context()\n",
    "\n",
    "with socket.create_connection((HOST, PORT)) as sock:\n",
    "    with context.wrap_socket(sock, server_hostname=HOST) as ssock:\n",
    "        ssock.sendall(MESSAGE)\n",
    "        data = ssock.recv(1024)\n",
    "\n",
    "print(data.decode('UTF-8'))"
   ]
  },
  {
   "cell_type": "markdown",
   "metadata": {},
   "source": [
    "## Threading"
   ]
  },
  {
   "cell_type": "code",
   "execution_count": 32,
   "metadata": {},
   "outputs": [
    {
     "name": "stdout",
     "output_type": "stream",
     "text": [
      "counter: 3397371\n"
     ]
    }
   ],
   "source": [
    "import concurrent.futures\n",
    "import time\n",
    "\n",
    "N_THREADS = 5\n",
    "fake_data = [x for x in range(N_THREADS)]\n",
    "counter = 0\n",
    "\n",
    "def increment_counter(fake_value):\n",
    "    global counter\n",
    "    for _ in range(1000000):\n",
    "        counter += 1\n",
    "\n",
    "with concurrent.futures.ThreadPoolExecutor(max_workers=N_THREADS) as executor:\n",
    "    executor.map(increment_counter, fake_data)\n",
    "\n",
    "print(\"counter: {}\".format(counter))"
   ]
  },
  {
   "cell_type": "code",
   "execution_count": 33,
   "metadata": {},
   "outputs": [
    {
     "name": "stdout",
     "output_type": "stream",
     "text": [
      " 10           0 SETUP_LOOP              24 (to 26)\n",
      "              2 LOAD_GLOBAL              0 (range)\n",
      "              4 LOAD_CONST               1 (1000000)\n",
      "              6 CALL_FUNCTION            1\n",
      "              8 GET_ITER\n",
      "        >>   10 FOR_ITER                12 (to 24)\n",
      "             12 STORE_FAST               1 (_)\n",
      "\n",
      " 11          14 LOAD_GLOBAL              1 (counter)\n",
      "             16 LOAD_CONST               2 (1)\n",
      "             18 INPLACE_ADD\n",
      "             20 STORE_GLOBAL             1 (counter)\n",
      "             22 JUMP_ABSOLUTE           10\n",
      "        >>   24 POP_BLOCK\n",
      "        >>   26 LOAD_CONST               0 (None)\n",
      "             28 RETURN_VALUE\n"
     ]
    }
   ],
   "source": [
    "import dis\n",
    "\n",
    "dis.dis(increment_counter)"
   ]
  },
  {
   "cell_type": "code",
   "execution_count": 34,
   "metadata": {},
   "outputs": [
    {
     "name": "stdout",
     "output_type": "stream",
     "text": [
      "counter: 5000000\n"
     ]
    }
   ],
   "source": [
    "\n",
    "import concurrent.futures\n",
    "import threading\n",
    "import time\n",
    "\n",
    "lock = threading.Lock()\n",
    "\n",
    "N_THREADS = 5\n",
    "fake_data = [x for x in range(N_THREADS)]\n",
    "counter = 0\n",
    "\n",
    "def increment_counter(fake_value):\n",
    "    global counter\n",
    "    for _ in range(1000000):\n",
    "        lock.acquire()\n",
    "        counter += 1\n",
    "        lock.release()\n",
    "\n",
    "with concurrent.futures.ThreadPoolExecutor(max_workers=N_THREADS) as executor:\n",
    "    executor.map(increment_counter, fake_data)\n",
    "\n",
    "print(\"counter: {}\".format(counter))"
   ]
  },
  {
   "cell_type": "code",
   "execution_count": 35,
   "metadata": {},
   "outputs": [
    {
     "name": "stderr",
     "output_type": "stream",
     "text": [
      "(consumer1) Consumer thread started ...\n",
      "(consumer1) Consumer waiting ...\n",
      "(consumer2) Consumer thread started ...\n",
      "(consumer2) Consumer waiting ...\n",
      "(producer ) Producer thread started ...\n",
      "(producer ) Making resource available\n",
      "(producer ) Notifying to all consumers\n",
      "(consumer1) Consumer consumed the resource\n",
      "(consumer2) Consumer consumed the resource\n"
     ]
    }
   ],
   "source": [
    "import threading\n",
    "import time\n",
    "import logging\n",
    "\n",
    "logging.basicConfig(level=logging.DEBUG,\n",
    "                    format='(%(threadName)-9s) %(message)s',)\n",
    "\n",
    "def consumer(cv):\n",
    "    logging.debug('Consumer thread started ...')\n",
    "    with cv:\n",
    "        logging.debug('Consumer waiting ...')\n",
    "        cv.wait()\n",
    "        logging.debug('Consumer consumed the resource')\n",
    "\n",
    "def producer(cv):\n",
    "    logging.debug('Producer thread started ...')\n",
    "    with cv:\n",
    "        logging.debug('Making resource available')\n",
    "        logging.debug('Notifying to all consumers')\n",
    "        cv.notifyAll()\n",
    "\n",
    "if __name__ == '__main__':\n",
    "    condition = threading.Condition()\n",
    "    cs1 = threading.Thread(name='consumer1', target=consumer, args=(condition,))\n",
    "    cs2 = threading.Thread(name='consumer2', target=consumer, args=(condition,))\n",
    "    pd = threading.Thread(name='producer', target=producer, args=(condition,))\n",
    "\n",
    "    cs1.start()\n",
    "    time.sleep(2)\n",
    "    cs2.start()\n",
    "    time.sleep(2)\n",
    "    pd.start()"
   ]
  },
  {
   "cell_type": "markdown",
   "metadata": {},
   "source": [
    "## asyncio"
   ]
  },
  {
   "cell_type": "code",
   "execution_count": 36,
   "metadata": {},
   "outputs": [],
   "source": [
    "# apply nest_asyncio\n",
    "# this is only for jupyter notebook environment\n",
    "import nest_asyncio\n",
    "nest_asyncio.apply()"
   ]
  },
  {
   "cell_type": "code",
   "execution_count": 37,
   "metadata": {},
   "outputs": [
    {
     "name": "stdout",
     "output_type": "stream",
     "text": [
      "before run counter=0\n",
      "before sleep id=4\n",
      "before sleep id=7\n",
      "before sleep id=6\n",
      "before sleep id=1\n",
      "before sleep id=8\n",
      "before sleep id=5\n",
      "before sleep id=0\n",
      "before sleep id=9\n",
      "before sleep id=3\n",
      "before sleep id=2\n",
      "after sleep id=4\n",
      "after sleep id=7\n",
      "after sleep id=6\n",
      "after sleep id=1\n",
      "after sleep id=8\n",
      "after sleep id=5\n",
      "after sleep id=0\n",
      "after sleep id=9\n",
      "after sleep id=3\n",
      "after sleep id=2\n",
      "after run counter=10\n"
     ]
    }
   ],
   "source": [
    "import asyncio\n",
    "\n",
    "counter = 0\n",
    "\n",
    "async def increment_counter(id):\n",
    "    global counter\n",
    "    print(f\"before sleep id={id}\")\n",
    "    await asyncio.sleep(1)\n",
    "    counter += 1\n",
    "    print(f\"after sleep id={id}\")\n",
    "\n",
    "async def run_all():\n",
    "    await asyncio.gather(*[increment_counter(i) for i in range(10)])\n",
    "\n",
    "print(f\"before run counter={counter}\")\n",
    "\n",
    "loop = asyncio.get_event_loop()\n",
    "loop.run_until_complete(run_all())\n",
    "\n",
    "print(f\"after run counter={counter}\")\n"
   ]
  },
  {
   "cell_type": "code",
   "execution_count": 38,
   "metadata": {},
   "outputs": [
    {
     "name": "stdout",
     "output_type": "stream",
     "text": [
      "before run counter=0\n",
      "before sleep id=9\n",
      "before sleep id=8\n",
      "before sleep id=5\n",
      "before sleep id=0\n",
      "before sleep id=2\n",
      "before sleep id=6\n",
      "before sleep id=3\n",
      "before sleep id=1\n",
      "before sleep id=7\n",
      "before sleep id=4\n",
      "Got exception 9\n",
      "after run counter=6\n"
     ]
    }
   ],
   "source": [
    "import asyncio\n",
    "\n",
    "counter = 0\n",
    "\n",
    "async def increment_counter(id):\n",
    "    global counter\n",
    "    print(f\"before sleep id={id}\")\n",
    "    await asyncio.sleep(1)\n",
    "    counter += 1\n",
    "    raise Exception(id)\n",
    "    print(f\"after sleep id={id}\")\n",
    "\n",
    "async def run_all():\n",
    "    try:\n",
    "        results = await asyncio.gather(*[increment_counter(i) for i in range(10)])\n",
    "    except Exception as e:\n",
    "        print(\"Got exception\", e)\n",
    "        pass\n",
    "\n",
    "print(f\"before run counter={counter}\")\n",
    "\n",
    "loop = asyncio.get_event_loop()\n",
    "loop.run_until_complete(run_all())\n",
    "\n",
    "print(f\"after run counter={counter}\")\n"
   ]
  },
  {
   "cell_type": "markdown",
   "metadata": {},
   "source": [
    "## Regular expressions"
   ]
  },
  {
   "cell_type": "code",
   "execution_count": 39,
   "metadata": {},
   "outputs": [],
   "source": [
    "import re\n",
    "text = \"abc123,aaa bb cc\""
   ]
  },
  {
   "cell_type": "code",
   "execution_count": 40,
   "metadata": {},
   "outputs": [
    {
     "name": "stdout",
     "output_type": "stream",
     "text": [
      "['abc123', 'aaa', 'bb', 'cc']\n"
     ]
    }
   ],
   "source": [
    "print(re.compile(r\"\\w+\").findall(text))"
   ]
  },
  {
   "cell_type": "code",
   "execution_count": 41,
   "metadata": {},
   "outputs": [
    {
     "name": "stdout",
     "output_type": "stream",
     "text": [
      "['abc123', 'aaa', 'bb', 'cc']\n"
     ]
    }
   ],
   "source": [
    "print(re.findall(r\"\\w+\", text))"
   ]
  },
  {
   "cell_type": "code",
   "execution_count": 42,
   "metadata": {},
   "outputs": [
    {
     "name": "stdout",
     "output_type": "stream",
     "text": [
      "['abc123']\n"
     ]
    }
   ],
   "source": [
    "r2 = re.findall(r\"^\\w+\", text)\n",
    "print(r2)"
   ]
  },
  {
   "cell_type": "code",
   "execution_count": 43,
   "metadata": {},
   "outputs": [
    {
     "name": "stdout",
     "output_type": "stream",
     "text": [
      "user@example.com is an email address.\n",
      "user@example@com is NOT an email address.\n"
     ]
    }
   ],
   "source": [
    "email_pattern = r\"(^[a-zA-Z0-9_.+-]+@[a-zA-Z0-9-]+\\.[a-zA-Z0-9-.]+$)\"\n",
    "emails = [\n",
    "    \"user@example.com\",\n",
    "    \"user@example@com\",\n",
    "]\n",
    "for email in emails:\n",
    "    result = re.match(email_pattern, email)\n",
    "    if result:\n",
    "        print(f\"{email} is an email address.\")\n",
    "    else :\n",
    "        print(f\"{email} is NOT an email address.\")"
   ]
  },
  {
   "cell_type": "code",
   "execution_count": 44,
   "metadata": {},
   "outputs": [
    {
     "name": "stdout",
     "output_type": "stream",
     "text": [
      "010-1234-5678 is an phone number.\n",
      "010-123-456 is NOT an phone number.\n"
     ]
    }
   ],
   "source": [
    "korean_cell_phone_pattern = r\"010-\\d{4}-\\d{4}\"\n",
    "phone_numbers = [\n",
    "    \"010-1234-5678\",\n",
    "    \"010-123-456\"\n",
    "]\n",
    "for num in phone_numbers:\n",
    "    result = re.match(korean_cell_phone_pattern, num)\n",
    "    if result:\n",
    "        print(f\"{num} is an phone number.\")\n",
    "    else :\n",
    "        print(f\"{num} is NOT an phone number.\")"
   ]
  },
  {
   "cell_type": "code",
   "execution_count": 45,
   "metadata": {},
   "outputs": [
    {
     "name": "stdout",
     "output_type": "stream",
     "text": [
      "Hello, Paul. Good to see you, Paul.\n"
     ]
    }
   ],
   "source": [
    "import re\n",
    "\n",
    "text = \"My name is Paul. Nice to meet you.\"\n",
    "text2 = re.sub(r\"My name is (.+). Nice to meet you.\", r\"Hello, \\1. Good to see you, \\1.\", text)\n",
    "print(text2)"
   ]
  },
  {
   "cell_type": "markdown",
   "metadata": {},
   "source": [
    "## Coroutines"
   ]
  },
  {
   "cell_type": "code",
   "execution_count": 46,
   "metadata": {},
   "outputs": [
    {
     "name": "stdout",
     "output_type": "stream",
     "text": [
      "-> coroutine started\n",
      "-> coroutine received: 3\n",
      "-> coroutine received: 4\n",
      "StopIteration\n"
     ]
    }
   ],
   "source": [
    "def simple_coroutine():\n",
    "    print('-> coroutine started')\n",
    "    x = yield\n",
    "    print('-> coroutine received:', x)\n",
    "    y = yield\n",
    "    print('-> coroutine received:', y)\n",
    "    \n",
    "my_coro = simple_coroutine()\n",
    "\n",
    "next(my_coro)\n",
    "\n",
    "try:\n",
    "    my_coro.send(3)\n",
    "    my_coro.send(4)\n",
    "except StopIteration:\n",
    "    print(\"StopIteration\")"
   ]
  },
  {
   "cell_type": "code",
   "execution_count": 47,
   "metadata": {},
   "outputs": [
    {
     "name": "stdout",
     "output_type": "stream",
     "text": [
      "(3, 15.5)\n"
     ]
    }
   ],
   "source": [
    "def averager():\n",
    "    total = 0.0\n",
    "    count = 0\n",
    "    average = None\n",
    "    while True:\n",
    "        term = yield\n",
    "        if term is None:\n",
    "            break\n",
    "        total += term\n",
    "        count += 1\n",
    "        average = total/count\n",
    "    return (count, average)\n",
    "\n",
    "coro_avg = averager()\n",
    "next(coro_avg)\n",
    "coro_avg.send(10)\n",
    "coro_avg.send(30)\n",
    "coro_avg.send(6.5)\n",
    "try:\n",
    "    coro_avg.send(None)\n",
    "except StopIteration as exc:\n",
    "    result = exc.value\n",
    "print(result)"
   ]
  },
  {
   "cell_type": "code",
   "execution_count": 48,
   "metadata": {},
   "outputs": [
    {
     "data": {
      "text/plain": [
       "['A', 'B', 1, 2, 3, 4]"
      ]
     },
     "execution_count": 48,
     "metadata": {},
     "output_type": "execute_result"
    }
   ],
   "source": [
    "def gen():\n",
    "    yield from 'AB'\n",
    "    yield from range(1, 5)\n",
    "list(gen())"
   ]
  },
  {
   "cell_type": "code",
   "execution_count": 49,
   "metadata": {},
   "outputs": [
    {
     "name": "stdout",
     "output_type": "stream",
     "text": [
      "{'girls;kg': Result(count=10, average=42.040000000000006), 'girls;m': Result(count=10, average=1.4279999999999997), 'boys;kg': Result(count=9, average=40.422222222222224), 'boys;m': Result(count=9, average=1.3888888888888888)}\n",
      " 9 boys  averaging 40.42kg\n",
      " 9 boys  averaging 1.39m\n",
      "10 girls averaging 42.04kg\n",
      "10 girls averaging 1.43m\n"
     ]
    }
   ],
   "source": [
    "from collections import namedtuple\n",
    "\n",
    "Result = namedtuple('Result', 'count average')\n",
    "\n",
    "# the subgenerator\n",
    "def averager():\n",
    "    total = 0.0\n",
    "    count = 0\n",
    "    average = None\n",
    "    while True:\n",
    "        term = yield\n",
    "        if term is None:\n",
    "            break\n",
    "        total += term\n",
    "        count += 1\n",
    "        average = total/count\n",
    "    return Result(count, average)\n",
    "\n",
    "# the delegating generator\n",
    "def grouper(results, key):\n",
    "    while True:\n",
    "        results[key] = yield from averager() # ***\n",
    "\n",
    "# the client code, a.k.a. the caller\n",
    "def main(data):\n",
    "    results = {}\n",
    "    for key, values in data.items():\n",
    "        group = grouper(results, key) # ***\n",
    "        next(group)\n",
    "        for value in values:\n",
    "            group.send(value)\n",
    "        group.send(None) # important!\n",
    "    print(results)\n",
    "    report(results)\n",
    "\n",
    "# output report\n",
    "def report(results):\n",
    "    for key, result in sorted(results.items()):\n",
    "        group, unit = key.split(';')\n",
    "        print('{:2} {:5} averaging {:.2f}{}'.format(\n",
    "            result.count, group, result.average, unit)\n",
    "        )\n",
    "\n",
    "data = {\n",
    "    'girls;kg':\n",
    "        [40.9, 38.5, 44.3, 42.2, 45.2, 41.7, 44.5, 38.0, 40.6, 44.5],\n",
    "    'girls;m':\n",
    "        [1.6, 1.51, 1.4, 1.3, 1.41, 1.39, 1.33, 1.46, 1.45, 1.43],\n",
    "    'boys;kg':\n",
    "        [39.0, 40.8, 43.2, 40.8, 43.1, 38.6, 41.4, 40.6, 36.3],\n",
    "    'boys;m':\n",
    "        [1.38, 1.5, 1.32, 1.25, 1.37, 1.48, 1.25, 1.49, 1.46],\n",
    "}\n",
    "\n",
    "if __name__ == '__main__':\n",
    "    main(data)"
   ]
  },
  {
   "cell_type": "markdown",
   "metadata": {},
   "source": [
    "## Descriptor"
   ]
  },
  {
   "cell_type": "code",
   "execution_count": 50,
   "metadata": {},
   "outputs": [
    {
     "name": "stdout",
     "output_type": "stream",
     "text": [
      "Retrieving var \"x\"\n",
      "10\n",
      "Updating var \"x\"\n",
      "Retrieving var \"x\"\n",
      "3\n",
      "Deleting var \"x\"\n",
      "Updating var \"x\"\n",
      "Retrieving var \"x\"\n",
      "4\n"
     ]
    }
   ],
   "source": [
    "class RevealAccess(object):\n",
    "    def __init__(self, initval=None, name='var'):\n",
    "        self.val = initval\n",
    "        self.name = name\n",
    "\n",
    "    def __get__(self, obj, objtype):\n",
    "        print('Retrieving', self.name)\n",
    "        return self.val # `obj` here will be an instance of MyClass\n",
    "\n",
    "    def __set__(self, obj, val):\n",
    "        print('Updating', self.name)\n",
    "        self.val = val\n",
    "    \n",
    "    def __delete__(self, obj):\n",
    "        print(\"Deleting\", self.name)\n",
    "        del self.val\n",
    "        \n",
    "class MyClass(object):\n",
    "    x = RevealAccess(10, 'var \"x\"')\n",
    "    y = 5\n",
    "\n",
    "m = MyClass()\n",
    "print(m.x)\n",
    "m.x = 3\n",
    "print(m.x)\n",
    "del m.x\n",
    "# print(m.x)\n",
    "m.x = 4\n",
    "print(m.x)"
   ]
  },
  {
   "cell_type": "markdown",
   "metadata": {},
   "source": [
    "We modify the example above to keep the value in the managed instance instead of the descriptor instance."
   ]
  },
  {
   "cell_type": "code",
   "execution_count": 51,
   "metadata": {},
   "outputs": [
    {
     "name": "stdout",
     "output_type": "stream",
     "text": [
      "Updating x\n",
      "Retrieving x\n",
      "3\n",
      "Deleting x\n",
      "Updating x\n",
      "Retrieving x\n",
      "4\n"
     ]
    }
   ],
   "source": [
    "class RevealAccess(object):\n",
    "    def __init__(self, initval=None, name='var'):\n",
    "        self.name = name\n",
    "\n",
    "    def __get__(self, obj, objtype):\n",
    "        print('Retrieving', self.name)\n",
    "        return obj.__dict__[self.name]\n",
    "\n",
    "    def __set__(self, obj, val):\n",
    "        print('Updating', self.name)\n",
    "        obj.__dict__[self.name] = val\n",
    "    \n",
    "    def __delete__(self, obj):\n",
    "        print(\"Deleting\", self.name)\n",
    "        del obj.__dict__[self.name]\n",
    "        \n",
    "class MyClass(object):\n",
    "    x = RevealAccess(None, 'x') #// 여기서 디스크립터의 객체가 생성됩니다. 여기서 이름을 제대로 넘겨줘야 합니다.\n",
    "    y = 5\n",
    "\n",
    "m = MyClass()\n",
    "# print(m.x)\n",
    "m.x = 3\n",
    "print(m.x)\n",
    "del m.x\n",
    "# print(m.x)\n",
    "m.x = 4\n",
    "print(m.x)"
   ]
  },
  {
   "cell_type": "markdown",
   "metadata": {},
   "source": [
    "## Metaprogramming\n",
    "\n",
    "`type` is the defualt metaclass."
   ]
  },
  {
   "cell_type": "code",
   "execution_count": 52,
   "metadata": {},
   "outputs": [
    {
     "name": "stdout",
     "output_type": "stream",
     "text": [
      "clsname: Foo\n",
      "bases: ()\n",
      "dct: {'__module__': '__main__', '__qualname__': 'Foo', 'aaa': 'bip'}\n",
      "False\n",
      "True\n"
     ]
    }
   ],
   "source": [
    "def upper_attr(clsname, bases, dct):\n",
    "    \"\"\"returns a class with the names of its attributes upper-cased.\"\"\"\n",
    "\n",
    "    # excludes attributes starting with '__'\n",
    "    uppercase_attr = {}\n",
    "    for name, val in dct.items():\n",
    "        if not name.startswith('__'):\n",
    "            uppercase_attr[name.upper()] = val\n",
    "        else:\n",
    "            uppercase_attr[name] = val\n",
    "\n",
    "    print(\"clsname:\", clsname)\n",
    "    print(\"bases:\", bases)\n",
    "    print(\"dct:\", dct)\n",
    "\n",
    "    return type(clsname, bases, uppercase_attr)\n",
    "\n",
    "class Foo(metaclass = upper_attr):\n",
    "    aaa = 'bip'\n",
    "\n",
    "print(hasattr(Foo, 'aaa'))\n",
    "print(hasattr(Foo, 'AAA'))\n",
    "\n",
    "f1 = Foo()"
   ]
  },
  {
   "cell_type": "markdown",
   "metadata": {},
   "source": [
    "In this case any child classes don't need to worry about the metaclass of its parent."
   ]
  },
  {
   "cell_type": "code",
   "execution_count": 53,
   "metadata": {},
   "outputs": [
    {
     "name": "stdout",
     "output_type": "stream",
     "text": [
      "False\n",
      "True\n",
      "True\n",
      "False\n",
      "haha\n"
     ]
    }
   ],
   "source": [
    "class Bar(Foo):\n",
    "    bbb = \"haha\"\n",
    "\n",
    "print(hasattr(Bar, 'aaa'))\n",
    "print(hasattr(Bar, 'AAA'))\n",
    "print(hasattr(Bar, 'bbb'))\n",
    "print(hasattr(Bar, 'BBB'))\n",
    "b1 = Bar()\n",
    "print(b1.bbb)"
   ]
  },
  {
   "cell_type": "code",
   "execution_count": 54,
   "metadata": {},
   "outputs": [
    {
     "name": "stdout",
     "output_type": "stream",
     "text": [
      "cls: <class '__main__.UpperAttrMetaclass'>\n",
      "clsname: Foo\n",
      "bases: ()\n",
      "dct: {'__module__': '__main__', '__qualname__': 'Foo', 'aaa': 'bip'}\n",
      "False\n",
      "True\n",
      "bip\n"
     ]
    }
   ],
   "source": [
    "# metaclass version\n",
    "\n",
    "class UpperAttrMetaclass(type): \n",
    "    def __new__(cls, clsname, bases, dct):\n",
    "\n",
    "        uppercase_attr = {}\n",
    "        for name, val in dct.items():\n",
    "            if not name.startswith('__'):\n",
    "                uppercase_attr[name.upper()] = val\n",
    "            else:\n",
    "                uppercase_attr[name] = val\n",
    "        print(\"cls:\", cls)\n",
    "        print(\"clsname:\", clsname)\n",
    "        print(\"bases:\", bases)\n",
    "        print(\"dct:\", dct)\n",
    "        return type.__new__(cls, clsname, bases, uppercase_attr) # *\n",
    "\n",
    "class Foo(metaclass = UpperAttrMetaclass):\n",
    "    aaa = 'bip'\n",
    "\n",
    "print(hasattr(Foo, 'aaa'))\n",
    "print(hasattr(Foo, 'AAA'))\n",
    "\n",
    "f2 = Foo()\n",
    "print(f2.AAA)"
   ]
  },
  {
   "cell_type": "markdown",
   "metadata": {},
   "source": [
    "Interestingly, in this case (*) any child classes seem to inherit the parent including metaclass."
   ]
  },
  {
   "cell_type": "code",
   "execution_count": 55,
   "metadata": {},
   "outputs": [
    {
     "name": "stdout",
     "output_type": "stream",
     "text": [
      "cls: <class '__main__.UpperAttrMetaclass'>\n",
      "clsname: Bar\n",
      "bases: (<class '__main__.Foo'>,)\n",
      "dct: {'__module__': '__main__', '__qualname__': 'Bar', 'bbb': 'haha'}\n",
      "False\n",
      "True\n",
      "False\n",
      "True\n",
      "haha\n"
     ]
    }
   ],
   "source": [
    "class Bar(Foo):\n",
    "    bbb = \"haha\"\n",
    "\n",
    "print(hasattr(Bar, 'aaa'))\n",
    "print(hasattr(Bar, 'AAA'))\n",
    "print(hasattr(Bar, 'bbb'))\n",
    "print(hasattr(Bar, 'BBB'))\n",
    "\n",
    "b2 = Bar()\n",
    "print(b2.BBB)"
   ]
  },
  {
   "cell_type": "markdown",
   "metadata": {},
   "source": [
    "## References\n",
    "\n",
    "- https://docs.python.org/3/library/profile.html\n",
    "- https://realpython.com/python-memory-management/\n",
    "- https://stackify.com/python-garbage-collection/\n",
    "- https://realpython.com/python-sockets/\n",
    "- https://realpython.com/intro-to-python-threading/\n",
    "- https://realpython.com/python-concurrency/\n",
    "- http://shop.oreilly.com/product/0636920032519.do"
   ]
  }
 ],
 "metadata": {
  "kernelspec": {
   "display_name": "Python 3",
   "language": "python",
   "name": "python3"
  },
  "language_info": {
   "codemirror_mode": {
    "name": "ipython",
    "version": 3
   },
   "file_extension": ".py",
   "mimetype": "text/x-python",
   "name": "python",
   "nbconvert_exporter": "python",
   "pygments_lexer": "ipython3",
   "version": "3.8.3"
  }
 },
 "nbformat": 4,
 "nbformat_minor": 2
}
