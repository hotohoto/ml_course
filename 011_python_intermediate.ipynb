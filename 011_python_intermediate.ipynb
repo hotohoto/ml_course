{
 "cells": [
  {
   "cell_type": "markdown",
   "metadata": {},
   "source": [
    "# Python - intermediate\n",
    "\n",
    "- profiling\n",
    "- memory management\n",
    "- threading\n",
    "- async.io\n",
    "- socket\n",
    "- regular expression"
   ]
  },
  {
   "cell_type": "markdown",
   "metadata": {},
   "source": [
    "## Profiling"
   ]
  },
  {
   "cell_type": "code",
   "execution_count": 1,
   "metadata": {},
   "outputs": [
    {
     "name": "stdout",
     "output_type": "stream",
     "text": [
      "         1664082 function calls (4 primitive calls) in 2.366 seconds\n",
      "\n",
      "   Ordered by: standard name\n",
      "\n",
      "   ncalls  tottime  percall  cumtime  percall filename:lineno(function)\n",
      "1664079/1    2.366    0.000    2.366    2.366 <ipython-input-1-35f1d2d7da4e>:4(fibo)\n",
      "        1    0.000    0.000    2.366    2.366 <string>:1(<module>)\n",
      "        1    0.000    0.000    2.366    2.366 {built-in method builtins.exec}\n",
      "        1    0.000    0.000    0.000    0.000 {method 'disable' of '_lsprof.Profiler' objects}\n",
      "\n",
      "\n",
      "         60 function calls (4 primitive calls) in 0.000 seconds\n",
      "\n",
      "   Ordered by: standard name\n",
      "\n",
      "   ncalls  tottime  percall  cumtime  percall filename:lineno(function)\n",
      "     57/1    0.000    0.000    0.000    0.000 <ipython-input-1-35f1d2d7da4e>:14(fibo_with_cache)\n",
      "        1    0.000    0.000    0.000    0.000 <string>:1(<module>)\n",
      "        1    0.000    0.000    0.000    0.000 {built-in method builtins.exec}\n",
      "        1    0.000    0.000    0.000    0.000 {method 'disable' of '_lsprof.Profiler' objects}\n",
      "\n",
      "\n",
      "         33 function calls (4 primitive calls) in 0.000 seconds\n",
      "\n",
      "   Ordered by: standard name\n",
      "\n",
      "   ncalls  tottime  percall  cumtime  percall filename:lineno(function)\n",
      "     30/1    0.000    0.000    0.000    0.000 <ipython-input-1-35f1d2d7da4e>:26(fibo2)\n",
      "        1    0.000    0.000    0.000    0.000 <string>:1(<module>)\n",
      "        1    0.000    0.000    0.000    0.000 {built-in method builtins.exec}\n",
      "        1    0.000    0.000    0.000    0.000 {method 'disable' of '_lsprof.Profiler' objects}\n",
      "\n",
      "\n"
     ]
    }
   ],
   "source": [
    "import cProfile\n",
    "import functools\n",
    "\n",
    "def fibo(n):\n",
    "    if n == 1:\n",
    "        return 1\n",
    "    if n == 2:\n",
    "        return 1\n",
    "    return fibo(n - 2) + fibo(n - 1)\n",
    "\n",
    "# with cache\n",
    "cache = {}\n",
    "\n",
    "def fibo_with_cache(n):\n",
    "    if n in cache:\n",
    "        return cache[n]\n",
    "    if n == 1:\n",
    "        v = 1\n",
    "    elif n == 2:\n",
    "        v = 2\n",
    "    else:\n",
    "        v = fibo_with_cache(n - 2) + fibo_with_cache(n - 1)\n",
    "    cache[n] = v\n",
    "    return v\n",
    "\n",
    "@functools.lru_cache(maxsize=50)\n",
    "def fibo2(n):\n",
    "    if n == 1:\n",
    "        return 1\n",
    "    if n == 2:\n",
    "        return 1\n",
    "    return fibo2(n - 2) + fibo2(n - 1)\n",
    "\n",
    "cProfile.run('fibo(30)')\n",
    "cProfile.run('fibo_with_cache(30)')\n",
    "cProfile.run('fibo2(30)')"
   ]
  },
  {
   "cell_type": "markdown",
   "metadata": {},
   "source": [
    "## Memory management\n",
    "\n",
    "Some of the below are implmentation dependent, and they are not the part of Python specification."
   ]
  },
  {
   "cell_type": "markdown",
   "metadata": {},
   "source": [
    "### Details on objects\n",
    "\n",
    "- mutable vs immutable objects\n",
    "- replacing vs copying\n",
    "- `is` vs `==`\n",
    "- assignment statement as rebinding\n",
    "- interning\n",
    "- \"call by sharing\"\n",
    "  - reference to an object is passed in\n",
    "  - argument can be reassigned in the function but it's not visible to the caller\n",
    "  \n",
    "details:\n",
    "\n",
    "- Simple assignment does not create copies.\n",
    "- Augmented assignment with += or *= creates new objects if the lefthand variable is bound to an immutable object, but may modify a mutable object in place.\n",
    "- Assigning a new value to an existing variable does not change the object previously bound to it. This is called a rebinding: the variable is now bound to a different object. If that variable was the last reference to the previous object, that object will be garbage collected.\n",
    "- Function parameters are passed as aliases, which means the function may change any mutable object received as an argument. There is no way to prevent this, except making local copies or using immutable objects (e.g., passing a tuple instead of a list).\n",
    "- Using mutable objects as default values for function parameters is dangerous because if the parameters are changed in place, then the default is changed, affecting every future call that relies on the default."
   ]
  },
  {
   "cell_type": "markdown",
   "metadata": {},
   "source": [
    "### IDs"
   ]
  },
  {
   "cell_type": "code",
   "execution_count": 2,
   "metadata": {},
   "outputs": [
    {
     "name": "stdout",
     "output_type": "stream",
     "text": [
      "140621930257552\n",
      "10914304\n",
      "10914496\n",
      "10914496\n",
      "10922656\n",
      "140621930257680\n"
     ]
    }
   ],
   "source": [
    "print(id(-6))\n",
    "print(id(-5))\n",
    "print(id(1))\n",
    "print(id(2-1))\n",
    "print(id(256))\n",
    "print(id(257))"
   ]
  },
  {
   "cell_type": "code",
   "execution_count": 3,
   "metadata": {},
   "outputs": [
    {
     "name": "stdout",
     "output_type": "stream",
     "text": [
      "140621930257552\n",
      "10914304\n",
      "10914496\n",
      "10914496\n",
      "10922656\n",
      "140621930257456\n"
     ]
    }
   ],
   "source": [
    "print(id(-6))\n",
    "print(id(-5))\n",
    "print(id(1))\n",
    "print(id(2-1))\n",
    "print(id(256))\n",
    "print(id(257))"
   ]
  },
  {
   "cell_type": "code",
   "execution_count": 4,
   "metadata": {},
   "outputs": [
    {
     "name": "stdout",
     "output_type": "stream",
     "text": [
      "140621930106744\n",
      "140621930106600\n"
     ]
    }
   ],
   "source": [
    "print(id({}))\n",
    "print(id({}))"
   ]
  },
  {
   "cell_type": "code",
   "execution_count": 5,
   "metadata": {},
   "outputs": [
    {
     "name": "stdout",
     "output_type": "stream",
     "text": [
      "140621930044296\n",
      "140621930044800\n",
      "140621929948792\n",
      "\n",
      "140622118191176\n",
      "140622118191176\n",
      "140622118191176\n"
     ]
    }
   ],
   "source": [
    "print(id({}))\n",
    "print(id({}))\n",
    "print(id({}))\n",
    "print()\n",
    "print(id(()))\n",
    "print(id(()))\n",
    "print(id(()))"
   ]
  },
  {
   "cell_type": "code",
   "execution_count": 6,
   "metadata": {},
   "outputs": [
    {
     "name": "stdout",
     "output_type": "stream",
     "text": [
      "140621973653040\n",
      "140621930046568\n",
      "140621930952904\n",
      "140621930952904\n"
     ]
    }
   ],
   "source": [
    "a = (1, 2, 3)\n",
    "print(id(a))\n",
    "a += (4, 5)\n",
    "print(id(a))\n",
    "b = [1, 2, 3]\n",
    "print(id(b))\n",
    "b += [4, 5]\n",
    "print(id(b))"
   ]
  },
  {
   "cell_type": "markdown",
   "metadata": {},
   "source": [
    "### Garbage collection"
   ]
  },
  {
   "cell_type": "code",
   "execution_count": 7,
   "metadata": {},
   "outputs": [
    {
     "name": "stdout",
     "output_type": "stream",
     "text": [
      "3385\n",
      "3385\n"
     ]
    }
   ],
   "source": [
    "import sys\n",
    "print(sys.getrefcount(1))\n",
    "a=1\n",
    "print(sys.getrefcount(1))"
   ]
  },
  {
   "cell_type": "code",
   "execution_count": 8,
   "metadata": {},
   "outputs": [
    {
     "name": "stdout",
     "output_type": "stream",
     "text": [
      "2\n",
      "3\n"
     ]
    }
   ],
   "source": [
    "class A:\n",
    "    pass\n",
    "a = A()\n",
    "print(sys.getrefcount(a))\n",
    "b = a\n",
    "print(sys.getrefcount(a))\n",
    "# one for `a`, one for `b`, and one for an argument of sys.getrefcount()"
   ]
  },
  {
   "cell_type": "code",
   "execution_count": 9,
   "metadata": {},
   "outputs": [
    {
     "name": "stdout",
     "output_type": "stream",
     "text": [
      "gc.isenabled() True\n",
      "gc.get_threshold() (700, 10, 10)\n",
      "gc.get_count() (365, 4, 3)\n"
     ]
    }
   ],
   "source": [
    "import gc\n",
    "print(\"gc.isenabled()\", gc.isenabled())\n",
    "print(\"gc.get_threshold()\", gc.get_threshold())\n",
    "print(\"gc.get_count()\", gc.get_count())"
   ]
  },
  {
   "cell_type": "code",
   "execution_count": 10,
   "metadata": {},
   "outputs": [
    {
     "data": {
      "text/plain": [
       "0"
      ]
     },
     "execution_count": 10,
     "metadata": {},
     "output_type": "execute_result"
    }
   ],
   "source": [
    "gc.collect()"
   ]
  },
  {
   "cell_type": "code",
   "execution_count": 11,
   "metadata": {},
   "outputs": [
    {
     "name": "stdout",
     "output_type": "stream",
     "text": [
      "gc.get_count() (379, 0, 0)\n"
     ]
    }
   ],
   "source": [
    "print(\"gc.get_count()\", gc.get_count())"
   ]
  },
  {
   "cell_type": "markdown",
   "metadata": {},
   "source": [
    "### Finalizer"
   ]
  },
  {
   "cell_type": "code",
   "execution_count": 12,
   "metadata": {},
   "outputs": [],
   "source": [
    "import weakref\n",
    "\n",
    "s1 = {1, 2, 3, 4}\n",
    "s2 = s1"
   ]
  },
  {
   "cell_type": "code",
   "execution_count": 13,
   "metadata": {},
   "outputs": [
    {
     "data": {
      "text/plain": [
       "True"
      ]
     },
     "execution_count": 13,
     "metadata": {},
     "output_type": "execute_result"
    }
   ],
   "source": [
    "def bye():\n",
    "    print(\"Gone with the wind...\")\n",
    "ender = weakref.finalize(s1, bye)\n",
    "ender.alive"
   ]
  },
  {
   "cell_type": "code",
   "execution_count": 14,
   "metadata": {},
   "outputs": [
    {
     "data": {
      "text/plain": [
       "True"
      ]
     },
     "execution_count": 14,
     "metadata": {},
     "output_type": "execute_result"
    }
   ],
   "source": [
    "del s1\n",
    "ender.alive"
   ]
  },
  {
   "cell_type": "code",
   "execution_count": 15,
   "metadata": {},
   "outputs": [
    {
     "name": "stdout",
     "output_type": "stream",
     "text": [
      "Gone with the wind...\n"
     ]
    }
   ],
   "source": [
    "s2 = \"spam\""
   ]
  },
  {
   "cell_type": "code",
   "execution_count": 16,
   "metadata": {},
   "outputs": [
    {
     "data": {
      "text/plain": [
       "False"
      ]
     },
     "execution_count": 16,
     "metadata": {},
     "output_type": "execute_result"
    }
   ],
   "source": [
    "ender.alive"
   ]
  },
  {
   "cell_type": "markdown",
   "metadata": {},
   "source": [
    "### Weak references"
   ]
  },
  {
   "cell_type": "code",
   "execution_count": 17,
   "metadata": {},
   "outputs": [
    {
     "name": "stdout",
     "output_type": "stream",
     "text": [
      "2\n",
      "2\n"
     ]
    }
   ],
   "source": [
    "import sys\n",
    "import weakref\n",
    "import gc\n",
    "\n",
    "def bye():\n",
    "    print(\"Gone with the wind...\")\n",
    "\n",
    "my_object = {-1, -2, -5}\n",
    "print(sys.getrefcount(my_object))\n",
    "weakref.finalize(my_object, bye)\n",
    "print(sys.getrefcount(my_object))"
   ]
  },
  {
   "cell_type": "code",
   "execution_count": 18,
   "metadata": {},
   "outputs": [],
   "source": [
    "wref = weakref.ref(my_object)"
   ]
  },
  {
   "cell_type": "code",
   "execution_count": 19,
   "metadata": {},
   "outputs": [
    {
     "name": "stdout",
     "output_type": "stream",
     "text": [
      "2\n",
      "2\n"
     ]
    }
   ],
   "source": [
    "print(sys.getrefcount(my_object))\n",
    "print(sys.getrefcount(wref()))"
   ]
  },
  {
   "cell_type": "code",
   "execution_count": 20,
   "metadata": {},
   "outputs": [
    {
     "data": {
      "text/plain": [
       "{-5, -2, -1}"
      ]
     },
     "execution_count": 20,
     "metadata": {},
     "output_type": "execute_result"
    }
   ],
   "source": [
    "wref()"
   ]
  },
  {
   "cell_type": "code",
   "execution_count": 21,
   "metadata": {},
   "outputs": [
    {
     "name": "stdout",
     "output_type": "stream",
     "text": [
      "140621989054280\n",
      "140621989054280\n"
     ]
    }
   ],
   "source": [
    "print(id(my_object))\n",
    "print(id(wref()))"
   ]
  },
  {
   "cell_type": "code",
   "execution_count": 22,
   "metadata": {},
   "outputs": [],
   "source": [
    "my_object = {1,2,3,4,5}"
   ]
  },
  {
   "cell_type": "code",
   "execution_count": 23,
   "metadata": {},
   "outputs": [
    {
     "name": "stdout",
     "output_type": "stream",
     "text": [
      "{-5, -1, -2}\n"
     ]
    }
   ],
   "source": [
    "print(wref())"
   ]
  },
  {
   "cell_type": "code",
   "execution_count": 24,
   "metadata": {},
   "outputs": [
    {
     "data": {
      "text/plain": [
       "0"
      ]
     },
     "execution_count": 24,
     "metadata": {},
     "output_type": "execute_result"
    }
   ],
   "source": [
    "gc.collect()\n",
    "# in python interpreter \"Gone with the wind..\" is printed."
   ]
  },
  {
   "cell_type": "code",
   "execution_count": 25,
   "metadata": {},
   "outputs": [
    {
     "data": {
      "text/plain": [
       "False"
      ]
     },
     "execution_count": 25,
     "metadata": {},
     "output_type": "execute_result"
    }
   ],
   "source": [
    "wref()is None\n",
    "# in python interpreter \"True\" is printed"
   ]
  },
  {
   "cell_type": "markdown",
   "metadata": {},
   "source": [
    "## Socket programming"
   ]
  },
  {
   "cell_type": "code",
   "execution_count": 26,
   "metadata": {},
   "outputs": [],
   "source": [
    "import socket\n",
    "import ssl"
   ]
  },
  {
   "cell_type": "code",
   "execution_count": 27,
   "metadata": {},
   "outputs": [],
   "source": [
    "HOST = 'example.com'  # The server's hostname or IP address\n",
    "PORT = 80                # The port used by the server"
   ]
  },
  {
   "cell_type": "code",
   "execution_count": 28,
   "metadata": {},
   "outputs": [
    {
     "name": "stdout",
     "output_type": "stream",
     "text": [
      "93.184.216.34\n"
     ]
    }
   ],
   "source": [
    "IP = socket.gethostbyname(HOST)\n",
    "print(IP)"
   ]
  },
  {
   "cell_type": "code",
   "execution_count": 29,
   "metadata": {},
   "outputs": [],
   "source": [
    "MESSAGE = \\\n",
    "b\"\"\"\n",
    "GET / HTTP/1.1\n",
    "User-Agent: Mozilla/4.0 (compatible; MSIE5.01; Windows NT)\n",
    "Host: example.com\n",
    "Accept-Language: en-us\n",
    "Accept-Encoding: identity\n",
    "Connection: keep-alive\n",
    "Cache-Control: private, max-age=0, no-cache\n",
    "Pragma: no-cache\n",
    "Expires: Wed, 21 Oct 2015 07:28:00 GMT\n",
    "\n",
    "\"\"\""
   ]
  },
  {
   "cell_type": "code",
   "execution_count": 30,
   "metadata": {},
   "outputs": [
    {
     "name": "stdout",
     "output_type": "stream",
     "text": [
      "b'HTTP/1.1 200 OK\\r\\nAccept-Ranges: bytes\\r\\nCache-Control: max-age=604800\\r\\nContent-Type: text/html; charset=UTF-8\\r\\nDate: Wed, 20 Nov 2019 05:13:31 GMT\\r\\nEtag: \"3147526947\"\\r\\nExpires: Wed, 27 Nov 2019 05:13:31 GMT\\r\\nLast-Modified: Thu, 17 Oct 2019 07:18:26 GMT\\r\\nServer: ECS (sjc/4E73)\\r\\nVary: Accept-Encoding\\r\\nX-Cache: HIT\\r\\nContent-Length: 1256\\r\\n\\r\\n<!doctype html>\\n<html>\\n<head>\\n    <title>Example Domain</title>\\n\\n    <meta charset=\"utf-8\" />\\n    <meta http-equiv=\"Content-type\" content=\"text/html; charset=utf-8\" />\\n    <meta name=\"viewport\" content=\"width=device-width, initial-scale=1\" />\\n    <style type=\"text/css\">\\n    body {\\n        background-color: #f0f0f2;\\n        margin: 0;\\n        padding: 0;\\n        font-family: -apple-system, system-ui, BlinkMacSystemFont, \"Segoe UI\", \"Open Sans\", \"Helvetica Neue\", Helvetica, Arial, sans-serif;\\n        \\n    }\\n    div {\\n        width: 600px;\\n        margin: 5em auto;\\n        padding: 2em;\\n        background-color: #fdfdff;\\n        border-radius: 0.5em;\\n        box-shadow: 2px 3px 7px 2px rgba(0,0,0,0.02);\\n    }\\n    a:link, a:visited {\\n        color: #38488f;\\n        text-decoration: none;\\n    }\\n    @media (max-width: 700px) {\\n        div {\\n            margin: 0 auto;\\n            width: auto;\\n        }\\n    }\\n    </style>    \\n</head>\\n\\n<body>\\n<div>\\n    <h1>Example Domain</h1>\\n    <p>This domain is for use in illustrative examples in documents. You may use this\\n    domain in literature without prior coordination or asking for permission.</p>\\n    <p><a href=\"https://www.iana.org/domains/example\">More information...</a></p>\\n</div>\\n</body>\\n</html>\\n'\n",
      "HTTP/1.1 200 OK\r\n",
      "Accept-Ranges: bytes\r\n",
      "Cache-Control: max-age=604800\r\n",
      "Content-Type: text/html; charset=UTF-8\r\n",
      "Date: Wed, 20 Nov 2019 05:13:31 GMT\r\n",
      "Etag: \"3147526947\"\r\n",
      "Expires: Wed, 27 Nov 2019 05:13:31 GMT\r\n",
      "Last-Modified: Thu, 17 Oct 2019 07:18:26 GMT\r\n",
      "Server: ECS (sjc/4E73)\r\n",
      "Vary: Accept-Encoding\r\n",
      "X-Cache: HIT\r\n",
      "Content-Length: 1256\r\n",
      "\r\n",
      "<!doctype html>\n",
      "<html>\n",
      "<head>\n",
      "    <title>Example Domain</title>\n",
      "\n",
      "    <meta charset=\"utf-8\" />\n",
      "    <meta http-equiv=\"Content-type\" content=\"text/html; charset=utf-8\" />\n",
      "    <meta name=\"viewport\" content=\"width=device-width, initial-scale=1\" />\n",
      "    <style type=\"text/css\">\n",
      "    body {\n",
      "        background-color: #f0f0f2;\n",
      "        margin: 0;\n",
      "        padding: 0;\n",
      "        font-family: -apple-system, system-ui, BlinkMacSystemFont, \"Segoe UI\", \"Open Sans\", \"Helvetica Neue\", Helvetica, Arial, sans-serif;\n",
      "        \n",
      "    }\n",
      "    div {\n",
      "        width: 600px;\n",
      "        margin: 5em auto;\n",
      "        padding: 2em;\n",
      "        background-color: #fdfdff;\n",
      "        border-radius: 0.5em;\n",
      "        box-shadow: 2px 3px 7px 2px rgba(0,0,0,0.02);\n",
      "    }\n",
      "    a:link, a:visited {\n",
      "        color: #38488f;\n",
      "        text-decoration: none;\n",
      "    }\n",
      "    @media (max-width: 700px) {\n",
      "        div {\n",
      "            margin: 0 auto;\n",
      "            width: auto;\n",
      "        }\n",
      "    }\n",
      "    </style>    \n",
      "</head>\n",
      "\n",
      "<body>\n",
      "<div>\n",
      "    <h1>Example Domain</h1>\n",
      "    <p>This domain is for use in illustrative examples in documents. You may use this\n",
      "    domain in literature without prior coordination or asking for permission.</p>\n",
      "    <p><a href=\"https://www.iana.org/domains/example\">More information...</a></p>\n",
      "</div>\n",
      "</body>\n",
      "</html>\n",
      "\n"
     ]
    }
   ],
   "source": [
    "with socket.socket(socket.AF_INET, socket.SOCK_STREAM) as s:\n",
    "    s.connect((HOST, PORT))\n",
    "    s.sendall(MESSAGE)\n",
    "    data = s.recv(1024*1024)\n",
    "    print(data)\n",
    "\n",
    "print(data.decode('UTF-8'))"
   ]
  },
  {
   "cell_type": "code",
   "execution_count": 31,
   "metadata": {},
   "outputs": [
    {
     "name": "stdout",
     "output_type": "stream",
     "text": [
      "HTTP/1.1 301 Moved Permanently\r\n",
      "Location: https://www.google.com/\r\n",
      "Content-Type: text/html; charset=UTF-8\r\n",
      "Date: Wed, 20 Nov 2019 05:13:32 GMT\r\n",
      "Expires: Fri, 20 Dec 2019 05:13:32 GMT\r\n",
      "Cache-Control: public, max-age=2592000\r\n",
      "Server: gws\r\n",
      "Content-Length: 220\r\n",
      "X-XSS-Protection: 0\r\n",
      "X-Frame-Options: SAMEORIGIN\r\n",
      "Alt-Svc: quic=\":443\"; ma=2592000; v=\"46,43\",h3-Q050=\":443\"; ma=2592000,h3-Q049=\":443\"; ma=2592000,h3-Q048=\":443\"; ma=2592000,h3-Q046=\":443\"; ma=2592000,h3-Q043=\":443\"; ma=2592000\r\n",
      "\r\n",
      "<HTML><HEAD><meta http-equiv=\"content-type\" content=\"text/html;charset=utf-8\">\n",
      "<TITLE>301 Moved</TITLE></HEAD><BODY>\n",
      "<H1>301 Moved</H1>\n",
      "The document has moved\n",
      "<A HREF=\"https://www.google.com/\">here</A>.\r\n",
      "</BODY></HTML>\r\n",
      "\n"
     ]
    }
   ],
   "source": [
    "import socket\n",
    "import ssl\n",
    "\n",
    "MESSAGE = \\\n",
    "b\"\"\"\n",
    "GET / HTTP/1.1\n",
    "User-Agent: Mozilla/4.0 (compatible; MSIE5.01; Windows NT)\n",
    "Host: google.com\n",
    "Accept-Language: en-us\n",
    "Accept-Encoding: identity\n",
    "Connection: keep-alive\n",
    "Cache-Control: private, max-age=0, no-cache\n",
    "Pragma: no-cache\n",
    "Expires: Wed, 21 Oct 2015 07:28:00 GMT\n",
    "\n",
    "\"\"\"\n",
    "HOST = \"google.com\"\n",
    "PORT = 443         # The port used by the server\n",
    "\n",
    "context = ssl.create_default_context()\n",
    "\n",
    "with socket.create_connection((HOST, PORT)) as sock:\n",
    "    with context.wrap_socket(sock, server_hostname=HOST) as ssock:\n",
    "        ssock.sendall(MESSAGE)\n",
    "        data = ssock.recv(1024)\n",
    "\n",
    "print(data.decode('UTF-8'))"
   ]
  },
  {
   "cell_type": "markdown",
   "metadata": {},
   "source": [
    "## Threading"
   ]
  },
  {
   "cell_type": "code",
   "execution_count": 32,
   "metadata": {},
   "outputs": [
    {
     "name": "stdout",
     "output_type": "stream",
     "text": [
      "counter: 2719992\n"
     ]
    }
   ],
   "source": [
    "import concurrent.futures\n",
    "import time\n",
    "\n",
    "N_THREADS = 5\n",
    "fake_data = [x for x in range(N_THREADS)]\n",
    "counter = 0\n",
    "\n",
    "def increment_counter(fake_value):\n",
    "    global counter\n",
    "    for _ in range(1000000):\n",
    "        counter += 1\n",
    "\n",
    "with concurrent.futures.ThreadPoolExecutor(max_workers=N_THREADS) as executor:\n",
    "    executor.map(increment_counter, fake_data)\n",
    "\n",
    "print(\"counter: {}\".format(counter))"
   ]
  },
  {
   "cell_type": "code",
   "execution_count": 33,
   "metadata": {},
   "outputs": [
    {
     "name": "stdout",
     "output_type": "stream",
     "text": [
      " 10           0 SETUP_LOOP              24 (to 26)\n",
      "              2 LOAD_GLOBAL              0 (range)\n",
      "              4 LOAD_CONST               1 (1000000)\n",
      "              6 CALL_FUNCTION            1\n",
      "              8 GET_ITER\n",
      "        >>   10 FOR_ITER                12 (to 24)\n",
      "             12 STORE_FAST               1 (_)\n",
      "\n",
      " 11          14 LOAD_GLOBAL              1 (counter)\n",
      "             16 LOAD_CONST               2 (1)\n",
      "             18 INPLACE_ADD\n",
      "             20 STORE_GLOBAL             1 (counter)\n",
      "             22 JUMP_ABSOLUTE           10\n",
      "        >>   24 POP_BLOCK\n",
      "        >>   26 LOAD_CONST               0 (None)\n",
      "             28 RETURN_VALUE\n"
     ]
    }
   ],
   "source": [
    "import dis\n",
    "\n",
    "dis.dis(increment_counter)"
   ]
  },
  {
   "cell_type": "code",
   "execution_count": 34,
   "metadata": {},
   "outputs": [
    {
     "name": "stdout",
     "output_type": "stream",
     "text": [
      "counter: 5000000\n"
     ]
    }
   ],
   "source": [
    "\n",
    "import concurrent.futures\n",
    "import threading\n",
    "import time\n",
    "\n",
    "lock = threading.Lock()\n",
    "\n",
    "N_THREADS = 5\n",
    "fake_data = [x for x in range(N_THREADS)]\n",
    "counter = 0\n",
    "\n",
    "def increment_counter(fake_value):\n",
    "    global counter\n",
    "    for _ in range(1000000):\n",
    "        lock.acquire()\n",
    "        counter += 1\n",
    "        lock.release()\n",
    "\n",
    "with concurrent.futures.ThreadPoolExecutor(max_workers=N_THREADS) as executor:\n",
    "    executor.map(increment_counter, fake_data)\n",
    "\n",
    "print(\"counter: {}\".format(counter))"
   ]
  },
  {
   "cell_type": "code",
   "execution_count": 35,
   "metadata": {},
   "outputs": [
    {
     "name": "stderr",
     "output_type": "stream",
     "text": [
      "(consumer1) Consumer thread started ...\n",
      "(consumer1) Consumer waiting ...\n",
      "(consumer2) Consumer thread started ...\n",
      "(consumer2) Consumer waiting ...\n",
      "(producer ) Producer thread started ...\n",
      "(producer ) Making resource available\n",
      "(producer ) Notifying to all consumers\n",
      "(consumer2) Consumer consumed the resource\n",
      "(consumer1) Consumer consumed the resource\n"
     ]
    }
   ],
   "source": [
    "import threading\n",
    "import time\n",
    "import logging\n",
    "\n",
    "logging.basicConfig(level=logging.DEBUG,\n",
    "                    format='(%(threadName)-9s) %(message)s',)\n",
    "\n",
    "def consumer(cv):\n",
    "    logging.debug('Consumer thread started ...')\n",
    "    with cv:\n",
    "        logging.debug('Consumer waiting ...')\n",
    "        cv.wait()\n",
    "        logging.debug('Consumer consumed the resource')\n",
    "\n",
    "def producer(cv):\n",
    "    logging.debug('Producer thread started ...')\n",
    "    with cv:\n",
    "        logging.debug('Making resource available')\n",
    "        logging.debug('Notifying to all consumers')\n",
    "        cv.notifyAll()\n",
    "\n",
    "if __name__ == '__main__':\n",
    "    condition = threading.Condition()\n",
    "    cs1 = threading.Thread(name='consumer1', target=consumer, args=(condition,))\n",
    "    cs2 = threading.Thread(name='consumer2', target=consumer, args=(condition,))\n",
    "    pd = threading.Thread(name='producer', target=producer, args=(condition,))\n",
    "\n",
    "    cs1.start()\n",
    "    time.sleep(2)\n",
    "    cs2.start()\n",
    "    time.sleep(2)\n",
    "    pd.start()"
   ]
  },
  {
   "cell_type": "markdown",
   "metadata": {},
   "source": [
    "## asyncio"
   ]
  },
  {
   "cell_type": "code",
   "execution_count": 36,
   "metadata": {},
   "outputs": [],
   "source": [
    "# apply nest_asyncio\n",
    "# this is only for jupyter notebook environment\n",
    "import nest_asyncio\n",
    "nest_asyncio.apply()"
   ]
  },
  {
   "cell_type": "code",
   "execution_count": 37,
   "metadata": {},
   "outputs": [
    {
     "name": "stdout",
     "output_type": "stream",
     "text": [
      "before run counter=0\n",
      "before sleep id=8\n",
      "before sleep id=5\n",
      "before sleep id=0\n",
      "before sleep id=3\n",
      "before sleep id=6\n",
      "before sleep id=7\n",
      "before sleep id=2\n",
      "before sleep id=4\n",
      "before sleep id=1\n",
      "before sleep id=9\n",
      "after sleep id=8\n",
      "after sleep id=5\n",
      "after sleep id=0\n",
      "after sleep id=3\n",
      "after sleep id=6\n",
      "after sleep id=7\n",
      "after sleep id=2\n",
      "after sleep id=4\n",
      "after sleep id=1\n",
      "after sleep id=9\n",
      "after run counter=10\n"
     ]
    }
   ],
   "source": [
    "import asyncio\n",
    "\n",
    "counter = 0\n",
    "\n",
    "async def increment_counter(id):\n",
    "    global counter\n",
    "    print(f\"before sleep id={id}\")\n",
    "    await asyncio.sleep(1)\n",
    "    counter += 1\n",
    "    print(f\"after sleep id={id}\")\n",
    "\n",
    "async def run_all():\n",
    "    await asyncio.gather(*[increment_counter(i) for i in range(10)])\n",
    "\n",
    "print(f\"before run counter={counter}\")\n",
    "\n",
    "loop = asyncio.get_event_loop()\n",
    "loop.run_until_complete(run_all())\n",
    "\n",
    "print(f\"after run counter={counter}\")\n"
   ]
  },
  {
   "cell_type": "code",
   "execution_count": 38,
   "metadata": {},
   "outputs": [
    {
     "name": "stdout",
     "output_type": "stream",
     "text": [
      "before run counter=0\n",
      "before sleep id=8\n",
      "before sleep id=1\n",
      "before sleep id=3\n",
      "before sleep id=0\n",
      "before sleep id=7\n",
      "before sleep id=2\n",
      "before sleep id=4\n",
      "before sleep id=5\n",
      "before sleep id=9\n",
      "before sleep id=6\n",
      "Got exception 8\n",
      "after run counter=8\n"
     ]
    }
   ],
   "source": [
    "import asyncio\n",
    "\n",
    "counter = 0\n",
    "\n",
    "async def increment_counter(id):\n",
    "    global counter\n",
    "    print(f\"before sleep id={id}\")\n",
    "    await asyncio.sleep(1)\n",
    "    counter += 1\n",
    "    raise Exception(id)\n",
    "    print(f\"after sleep id={id}\")\n",
    "\n",
    "async def run_all():\n",
    "    try:\n",
    "        results = await asyncio.gather(*[increment_counter(i) for i in range(10)])\n",
    "    except Exception as e:\n",
    "        print(\"Got exception\", e)\n",
    "        pass\n",
    "\n",
    "print(f\"before run counter={counter}\")\n",
    "\n",
    "loop = asyncio.get_event_loop()\n",
    "loop.run_until_complete(run_all())\n",
    "\n",
    "print(f\"after run counter={counter}\")\n"
   ]
  },
  {
   "cell_type": "markdown",
   "metadata": {},
   "source": [
    "## Regular expressions"
   ]
  },
  {
   "cell_type": "code",
   "execution_count": 39,
   "metadata": {},
   "outputs": [],
   "source": [
    "import re\n",
    "text = \"abc123,aaa bb cc\""
   ]
  },
  {
   "cell_type": "code",
   "execution_count": 40,
   "metadata": {},
   "outputs": [
    {
     "name": "stdout",
     "output_type": "stream",
     "text": [
      "['abc123', 'aaa', 'bb', 'cc']\n"
     ]
    }
   ],
   "source": [
    "print(re.compile(r\"\\w+\").findall(text))"
   ]
  },
  {
   "cell_type": "code",
   "execution_count": 41,
   "metadata": {},
   "outputs": [
    {
     "name": "stdout",
     "output_type": "stream",
     "text": [
      "['abc123', 'aaa', 'bb', 'cc']\n"
     ]
    }
   ],
   "source": [
    "print(re.findall(r\"\\w+\", text))"
   ]
  },
  {
   "cell_type": "code",
   "execution_count": 42,
   "metadata": {},
   "outputs": [
    {
     "name": "stdout",
     "output_type": "stream",
     "text": [
      "['abc123']\n"
     ]
    }
   ],
   "source": [
    "r2 = re.findall(r\"^\\w+\", text)\n",
    "print(r2)"
   ]
  },
  {
   "cell_type": "code",
   "execution_count": 43,
   "metadata": {},
   "outputs": [
    {
     "name": "stdout",
     "output_type": "stream",
     "text": [
      "user@example.com is an email address.\n",
      "user@example@com is NOT an email address.\n"
     ]
    }
   ],
   "source": [
    "email_pattern = r\"(^[a-zA-Z0-9_.+-]+@[a-zA-Z0-9-]+\\.[a-zA-Z0-9-.]+$)\"\n",
    "emails = [\n",
    "    \"user@example.com\",\n",
    "    \"user@example@com\",\n",
    "]\n",
    "for email in emails:\n",
    "    result = re.match(email_pattern, email)\n",
    "    if result:\n",
    "        print(f\"{email} is an email address.\")\n",
    "    else :\n",
    "        print(f\"{email} is NOT an email address.\")"
   ]
  },
  {
   "cell_type": "code",
   "execution_count": 44,
   "metadata": {},
   "outputs": [
    {
     "name": "stdout",
     "output_type": "stream",
     "text": [
      "010-1234-5678 is an phone number.\n",
      "010-123-456 is NOT an phone number.\n"
     ]
    }
   ],
   "source": [
    "korean_cell_phone_pattern = r\"010-\\d{4}-\\d{4}\"\n",
    "phone_numbers = [\n",
    "    \"010-1234-5678\",\n",
    "    \"010-123-456\"\n",
    "]\n",
    "for num in phone_numbers:\n",
    "    result = re.match(korean_cell_phone_pattern, num)\n",
    "    if result:\n",
    "        print(f\"{num} is an phone number.\")\n",
    "    else :\n",
    "        print(f\"{num} is NOT an phone number.\")"
   ]
  },
  {
   "cell_type": "code",
   "execution_count": 45,
   "metadata": {},
   "outputs": [
    {
     "name": "stdout",
     "output_type": "stream",
     "text": [
      "Hello, Paul. Good to see you, Paul.\n"
     ]
    }
   ],
   "source": [
    "import re\n",
    "\n",
    "text = \"My name is Paul. Nice to meet you.\"\n",
    "text2 = re.sub(r\"My name is (.+). Nice to meet you.\", r\"Hello, \\1. Good to see you, \\1.\", text)\n",
    "print(text2)"
   ]
  },
  {
   "cell_type": "markdown",
   "metadata": {},
   "source": [
    "## References\n",
    "\n",
    "- https://docs.python.org/3/library/profile.html\n",
    "- https://realpython.com/python-memory-management/\n",
    "- https://stackify.com/python-garbage-collection/\n",
    "- https://realpython.com/python-sockets/\n",
    "- https://realpython.com/intro-to-python-threading/\n",
    "- https://realpython.com/python-concurrency/"
   ]
  }
 ],
 "metadata": {
  "kernelspec": {
   "display_name": "Python 3",
   "language": "python",
   "name": "python3"
  },
  "language_info": {
   "codemirror_mode": {
    "name": "ipython",
    "version": 3
   },
   "file_extension": ".py",
   "mimetype": "text/x-python",
   "name": "python",
   "nbconvert_exporter": "python",
   "pygments_lexer": "ipython3",
   "version": "3.6.8"
  }
 },
 "nbformat": 4,
 "nbformat_minor": 2
}
