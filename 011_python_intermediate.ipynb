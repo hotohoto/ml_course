{
 "cells": [
  {
   "cell_type": "markdown",
   "metadata": {},
   "source": [
    "# Python - intermediate\n",
    "\n",
    "- profiling\n",
    "- memory management\n",
    "- socket\n",
    "- threading\n",
    "- async.io\n",
    "- regular expression"
   ]
  },
  {
   "cell_type": "markdown",
   "metadata": {},
   "source": [
    "## Profiling\n",
    "\n",
    "https://docs.python.org/3/library/profile.html"
   ]
  },
  {
   "cell_type": "code",
   "execution_count": 1,
   "metadata": {},
   "outputs": [
    {
     "name": "stdout",
     "output_type": "stream",
     "text": [
      "         1664082 function calls (4 primitive calls) in 2.543 seconds\n",
      "\n",
      "   Ordered by: standard name\n",
      "\n",
      "   ncalls  tottime  percall  cumtime  percall filename:lineno(function)\n",
      "1664079/1    2.543    0.000    2.543    2.543 <ipython-input-1-9c9fe1d4bcdf>:3(fibo)\n",
      "        1    0.000    0.000    2.543    2.543 <string>:1(<module>)\n",
      "        1    0.000    0.000    2.543    2.543 {built-in method builtins.exec}\n",
      "        1    0.000    0.000    0.000    0.000 {method 'disable' of '_lsprof.Profiler' objects}\n",
      "\n",
      "\n",
      "         60 function calls (4 primitive calls) in 0.000 seconds\n",
      "\n",
      "   Ordered by: standard name\n",
      "\n",
      "   ncalls  tottime  percall  cumtime  percall filename:lineno(function)\n",
      "     57/1    0.000    0.000    0.000    0.000 <ipython-input-1-9c9fe1d4bcdf>:13(fibo_with_cache)\n",
      "        1    0.000    0.000    0.000    0.000 <string>:1(<module>)\n",
      "        1    0.000    0.000    0.000    0.000 {built-in method builtins.exec}\n",
      "        1    0.000    0.000    0.000    0.000 {method 'disable' of '_lsprof.Profiler' objects}\n",
      "\n",
      "\n"
     ]
    }
   ],
   "source": [
    "import cProfile\n",
    "\n",
    "def fibo(n):\n",
    "    if n == 1:\n",
    "        return 1\n",
    "    if n == 2:\n",
    "        return 1\n",
    "    return fibo(n - 2) + fibo(n - 1)\n",
    "\n",
    "# with cache\n",
    "cache = {}\n",
    "\n",
    "def fibo_with_cache(n):\n",
    "    if n in cache:\n",
    "        return cache[n]\n",
    "    if n == 1:\n",
    "        v = 1\n",
    "    elif n == 2:\n",
    "        v = 2\n",
    "    else:\n",
    "        v = fibo_with_cache(n - 2) + fibo_with_cache(n - 1)\n",
    "    cache[n] = v\n",
    "    return v\n",
    "\n",
    "cProfile.run('fibo(30)')\n",
    "cProfile.run('fibo_with_cache(30)')"
   ]
  },
  {
   "cell_type": "markdown",
   "metadata": {},
   "source": [
    "## Memory management"
   ]
  },
  {
   "cell_type": "code",
   "execution_count": 2,
   "metadata": {},
   "outputs": [
    {
     "name": "stdout",
     "output_type": "stream",
     "text": [
      "140636021500016\n",
      "10914304\n",
      "10914496\n",
      "10914496\n",
      "10922656\n",
      "140636021499984\n"
     ]
    }
   ],
   "source": [
    "print(id(-6))\n",
    "print(id(-5))\n",
    "print(id(1))\n",
    "print(id(2-1))\n",
    "print(id(256))\n",
    "print(id(257))"
   ]
  },
  {
   "cell_type": "code",
   "execution_count": 3,
   "metadata": {},
   "outputs": [
    {
     "name": "stdout",
     "output_type": "stream",
     "text": [
      "140636021500080\n",
      "10914304\n",
      "10914496\n",
      "10914496\n",
      "10922656\n",
      "140636021499216\n"
     ]
    }
   ],
   "source": [
    "print(id(-6))\n",
    "print(id(-5))\n",
    "print(id(1))\n",
    "print(id(2-1))\n",
    "print(id(256))\n",
    "print(id(257))"
   ]
  },
  {
   "cell_type": "code",
   "execution_count": 4,
   "metadata": {},
   "outputs": [
    {
     "name": "stdout",
     "output_type": "stream",
     "text": [
      "3371\n",
      "3372\n"
     ]
    }
   ],
   "source": [
    "import sys\n",
    "print(sys.getrefcount(1))\n",
    "a=1\n",
    "print(sys.getrefcount(1))"
   ]
  },
  {
   "cell_type": "code",
   "execution_count": 5,
   "metadata": {},
   "outputs": [
    {
     "name": "stdout",
     "output_type": "stream",
     "text": [
      "140636021298008\n",
      "140636021300976\n"
     ]
    }
   ],
   "source": [
    "class A:\n",
    "    pass\n",
    "print(id(A()))\n",
    "print(id(A()))"
   ]
  },
  {
   "cell_type": "code",
   "execution_count": 6,
   "metadata": {},
   "outputs": [
    {
     "name": "stdout",
     "output_type": "stream",
     "text": [
      "2\n",
      "3\n"
     ]
    }
   ],
   "source": [
    "a = A()\n",
    "print(sys.getrefcount(a))\n",
    "b = a\n",
    "print(sys.getrefcount(a))"
   ]
  },
  {
   "cell_type": "code",
   "execution_count": 7,
   "metadata": {},
   "outputs": [
    {
     "name": "stdout",
     "output_type": "stream",
     "text": [
      "gc.isenabled() True\n",
      "gc.get_threshold() (700, 10, 10)\n",
      "gc.get_count() (448, 2, 3)\n"
     ]
    }
   ],
   "source": [
    "import gc\n",
    "print(\"gc.isenabled()\", gc.isenabled())\n",
    "print(\"gc.get_threshold()\", gc.get_threshold())\n",
    "print(\"gc.get_count()\", gc.get_count())"
   ]
  },
  {
   "cell_type": "code",
   "execution_count": 8,
   "metadata": {},
   "outputs": [
    {
     "data": {
      "text/plain": [
       "0"
      ]
     },
     "execution_count": 8,
     "metadata": {},
     "output_type": "execute_result"
    }
   ],
   "source": [
    "gc.collect()"
   ]
  },
  {
   "cell_type": "code",
   "execution_count": 9,
   "metadata": {},
   "outputs": [
    {
     "name": "stdout",
     "output_type": "stream",
     "text": [
      "gc.get_count() (335, 0, 0)\n"
     ]
    }
   ],
   "source": [
    "print(\"gc.get_count()\", gc.get_count())"
   ]
  },
  {
   "cell_type": "markdown",
   "metadata": {},
   "source": [
    "## Socket programming"
   ]
  },
  {
   "cell_type": "code",
   "execution_count": 25,
   "metadata": {},
   "outputs": [],
   "source": [
    "import socket\n",
    "import ssl"
   ]
  },
  {
   "cell_type": "code",
   "execution_count": 66,
   "metadata": {},
   "outputs": [],
   "source": [
    "HOST = 'www.google.com'  # The server's hostname or IP address\n",
    "PORT = 80                # The port used by the server"
   ]
  },
  {
   "cell_type": "code",
   "execution_count": 29,
   "metadata": {},
   "outputs": [
    {
     "name": "stdout",
     "output_type": "stream",
     "text": [
      "172.217.25.228\n"
     ]
    }
   ],
   "source": [
    "IP = socket.gethostbyname(HOST)\n",
    "print(IP)"
   ]
  },
  {
   "cell_type": "code",
   "execution_count": 50,
   "metadata": {},
   "outputs": [],
   "source": [
    "MESSAGE = \\\n",
    "b\"\"\"\n",
    "GET / HTTP/1.1\n",
    "User-Agent: Mozilla/4.0 (compatible; MSIE5.01; Windows NT)\n",
    "Host: www.google.com\n",
    "Accept-Language: en-us\n",
    "Accept-Encoding: gzip, deflate\n",
    "Connection: Keep-Alive\n",
    "\n",
    "\"\"\""
   ]
  },
  {
   "cell_type": "code",
   "execution_count": 67,
   "metadata": {},
   "outputs": [
    {
     "name": "stdout",
     "output_type": "stream",
     "text": [
      "HTTP/1.1 200 OK\r\n",
      "Date: Tue, 22 Oct 2019 04:24:34 GMT\r\n",
      "Expires: -1\r\n",
      "Cache-Control: private, max-age=0\r\n",
      "Content-Type: text/html; charset=UTF-8\r\n",
      "P3P: CP=\"This is not a P3P policy! See g.co/p3phelp for more info.\"\r\n",
      "Server: gws\r\n",
      "X-XSS-Protection: 0\r\n",
      "X-Frame-Options: SAMEORIGIN\r\n",
      "Set-Cookie: 1P_JAR=2019-10-22-04; expires=Thu, 21-Nov-2019 04:24:34 GMT; path=/; domain=.google.com; SameSite=none\r\n",
      "Set-Cookie: NID=189=i3f_0y6ZLdM4bPiM_ERJOF3YOzt0UvnHDu5wJw2gSrP9u31FdApVSXObS_d-8Rf4pXYvPCQYevQbr_eIrveGjmz96SEzSJUtx-HrAb2FUq5yomEh4ya-SAALmcarEaU8nkPECJRaYs1r_J7N6chwoXw_OdvJxENasnGfu71gcVs; expires=Wed, 22-Apr-2020 04:24:34 GMT; path=/; domain=.google.com; HttpOnly\r\n",
      "Accept-Ranges: none\r\n",
      "Vary: Accept-Encoding\r\n",
      "Transfer-Encoding: chunked\r\n",
      "\r\n",
      "152b\r\n",
      "<!doctype html><html itemscope=\"\" itemtype=\"http://schema.org/WebPage\" lang=\"ko\"><head><meta http-equiv=\"Content-Type\" content=\"text/html; charset=UTF-8\"><meta content=\"/images/branding/googleg/1x/googleg_standard_color_128dp.png\" itemprop=\"image\"><title>Google</title><style>#gbar,#guser{font-size:13px;padding-top:1px !important;}#gbar{height:22px}#guser{padding-bottom:7px !important;text-align:right}.gbh,.gbd{border-top:1px solid #c9d7f1;font-size:1px}.gbh{height:0;position:absolute;top:24px;width:100%}@media all{.gb1{height:22px;margin-right:.5em;vertical-align:top}#gbar{float:left}}a.gb1,a.gb4{text-decoration:underline !important}a.gb1,a.gb4{color:#00c !important}.gbi .gb4{color:#dd8e27 !important}.gbf .gb4{color:#900 !important}\n",
      "</style><style>body,td,a,p,.h{font-family:굴림,돋움,arial,sans-serif}.ko{font-size:9pt}body{background:#fff;color:black;margin:0}#gog{padding:3px 10px 0}td{line-height:.8em}.gac_m td{line-height:17px}form{margin-bottom:20px}.h{color:#36c}.q{color:#00c}.ts td{padding:0}.ts{border-collapse:collapse}.lst{height:32px}.lst{margin-bottom:.2em;padding:4px 5px 0 5px;vertical-align:bottom;width:496px;font:17px arial,sans-serif}.lst:focus{outline:none}.lsb{border:1px solid;border-color:#ccc #999 #999 #ccc;height:1.85em !important;font:15px arial,sans-serif;vertical-align:top}.lsb:active{background:#ccc}em{font-weight:bold;font-style:normal}input{font-family:inherit}a.gb1,a.gb2,a.gb3,a.gb4{color:#11c !important}a{color:#11c;text-decoration:none}a:hover,a:active{text-decoration:underline}.fl a{color:#36c}a:visited{color:#551a8b}a.gb1,a.gb4{text-decoration:underline}a.gb3:hover{text-decoration:none}#ghead a.gb2:hover{color:#fff !important}td.fl a{font-size:11px}.tiah{width:458px}</style></head><body bgcolor=\"#fff\"><div id=\"mngb\"> <div id=gbar><nobr><b class=gb1>검색</b> <a class=gb1 href=\"http://www.google.co.kr/imghp?hl=ko&tab=wi\">이미지</a> <a class=gb1 href=\"http://maps.google.co.kr/maps?hl=ko&tab=wl\">지도</a> <a class=gb1 href=\"https://play.google.com/?hl=ko&tab=w8\">Play</a> <a class=gb1 href=\"http://www.youtube.com/?gl=KR&tab=w1\">YouTube</a> <a class=gb1 href=\"http://news.google.co.kr/nwshp?hl=ko&tab=wn\">뉴스</a> <a class=gb1 href=\"https://mail.google.com/mail/?tab=wm\">Gmail</a> <a class=gb1 href=\"https://drive.google.com/?tab=wo\">드라이브</a> <a class=gb1 style=\"text-decoration:none\" href=\"https://www.google.co.kr/intl/ko/about/products?tab=wh\"><u>더보기</u> &raquo;</a></nobr></div><div id=guser width=100%><nobr><span id=gbn class=gbi></span><span id=gbf class=gbf></span><span id=gbe></span><a href=\"http://www.google.co.kr/history/optout?hl=ko\" class=gb4>웹 기록</a> | <a  href=\"/preferences?hl=ko\" class=gb4>설정</a> | <a target=_top id=gb_70 href=\"https://accounts.google.com/ServiceLogin?hl=ko&passive=true&continue=http://www.google.com/\" class=gb4>로그인</a></nobr></div><div class=gbh style=left:0></div><div class=gbh style=right:0></div> </div><center><br clear=\"all\" id=\"lgpd\"><div id=\"lga\"><img alt=\"Google\" height=\"92\" src=\"/images/branding/googlelogo/1x/googlelogo_white_background_color_272x92dp.png\" style=\"padding:28px 0 14px\" width=\"272\" id=\"hplogo\"><br><br></div><form action=\"/search\" name=\"f\"><table cellpadding=\"0\" cellspacing=\"0\"><tr valign=\"top\"><td width=\"25%\">&nbsp;</td><td align=\"center\" nowrap=\"\"><input value=\"ko\" name=\"hl\" type=\"hidden\"><input name=\"source\" type=\"hidden\" value=\"hp\"><input class=\"lst\" size=\"55\" value=\"\" title=\"Google 검색\" maxlength=\"2048\" name=\"q\"><br><div style=\"font-size:0;height:5px\"></div><input class=\"lsb\" value=\"Google 검색\" name=\"btnG\" type=\"submit\">&nbsp;<input class=\"lsb\" value=\"I’m Feeling Lucky\" name=\"btnI\" type=\"submit\"><input value=\"AAP1E1EAAAAAXa6SkiO-g5ij704yWQ8yGr-gwbjw5apd\" name=\"iflsig\" type=\"hidden\"></td><td class=\"fl\" align=\"left\" nowrap=\"\" width=\"25%\">&nbsp;&nbsp;&nbsp;<a href=\"/advanced_search?hl=ko&amp;authuser=0\">고급검색</a><br>&nbsp;&nbsp;&nbsp;<a href=\"/language_tools?hl=ko&amp;authuser=0\">언어도구</a></td></tr></table><input id=\"gbv\" name=\"gbv\" type=\"hidden\" value=\"1\"></form><div id=\"gac_scont\"></div><div style=\"font-size:83%;min-height:3.5em\"><br><div id=\"gws-output-pages-elements-homepage_additional_languages__als\"><style>#gws-output-pages-elements-homepage_additional_languages__als{font-size:small;margin-bottom:24px}#SIvCob{display:inline-block;line-height:28px;}#SIvCob a{padding:0 3px;}.H6sW5{display:inline-block;margin:0 2px;white-space:nowrap}.z4hgWe{display:inline-block;margin:0 2px}</style><div id=\"SIvCob\">Google 제공 서비스:  <a href=\"http://www.google.com/setprefs?sig=0_RZi0aLTIqqwGzaNVQvy5I4TCFG4%3D&amp;hl=en&amp;source=homepage&amp;sa=X&amp;ved=0ahUKEwiblcPrgq_lAhV6yosBHej8CG8Q2ZgBCAQ\">English</a>  </div></div></div><span id=\"footer\"><div style=\"font-size:10pt;margin:19px auto;text-align:center\" id=\"fll\"><a href=\"/intl/ko/ads/\">광고 프로그램</a>&nbsp; &nbsp; &nbsp;<a href=\"http://www.google.co.kr/intl/ko/services/\">비즈니스 솔루션</a>&nbsp; &nbsp; &nbsp;<a href=\"/intl/ko/about.html\">Google 정보</a>&nbsp; &nbsp; &nbsp;<a href=\"http://www.google.com/setprefdomain?prefdom=KR&amp;prev=http://www.google.co.kr/&amp;sig=K_dzLE8F07IQ1zA3nKRmF07qSBmVI%3D\">Google.co.kr</a></div><p style=\"color:#767676;font-size:8pt\">&copy; 2019 - <a href=\"/intl/ko/policies/privacy/\">개인정보처리방침</a> - <a href=\"/intl/ko/policies/terms/\">약관</a></p></span></center></body></html>\r\n",
      "0\r\n",
      "\r\n",
      "\n"
     ]
    }
   ],
   "source": [
    "with socket.socket(socket.AF_INET, socket.SOCK_STREAM) as s:\n",
    "    s.connect((HOST, PORT))\n",
    "    s.sendall(MESSAGE)\n",
    "    data = s.recv(1024*1024)\n",
    "\n",
    "print(data.decode('UTF-8'))"
   ]
  },
  {
   "cell_type": "code",
   "execution_count": 69,
   "metadata": {},
   "outputs": [
    {
     "name": "stdout",
     "output_type": "stream",
     "text": [
      "HTTP/1.1 200 OK\r\n",
      "Date: Tue, 22 Oct 2019 04:24:48 GMT\r\n",
      "Expires: -1\r\n",
      "Cache-Control: private, max-age=0\r\n",
      "Content-Type: text/html; charset=UTF-8\r\n",
      "P3P: CP=\"This is not a P3P policy! See g.co/p3phelp for more info.\"\r\n",
      "Server: gws\r\n",
      "X-XSS-Protection: 0\r\n",
      "X-Frame-Options: SAMEORIGIN\r\n",
      "Set-Cookie: 1P_JAR=2019-10-22-04; expires=Thu, 21-Nov-2019 04:24:48 GMT; path=/; domain=.google.com; SameSite=none\r\n",
      "Set-Cookie: NID=189=bZJtBOJ4pWcLF2gZs8vmtI7wCmNf-WCbLpW4LwXJNxyn85cTiip7SEe4bhaZcPCtEm8qnMIbiVucCzu25FOPHAw6YQKQVj6rJ29GJFbIpat6mMGAdpzAyKj0KNSlPkdBIECIO53J9J8yDjN8L0JP0Jgmhc9dux5ZR1aJtzWkhOc; expires=Wed, 22-Apr-2020 04:24:48 GMT; path=/; domain=.google.com; HttpOnly\r\n",
      "Alt-Svc: quic=\":443\"; ma=2592000; v=\"46,43\",h3-Q048=\":443\"; ma=2592000,h3-Q046=\":443\"; ma=2592000,h3-Q043=\":443\"; ma=2592000\r\n",
      "Accept-Ranges: none\r\n",
      "Vary: Accept-Encoding\r\n",
      "Transfer-Encoding: chunked\r\n",
      "\r\n",
      "1533\r\n",
      "<!doctype html><html itemscope=\"\" itemtype=\"http://schema.org/WebPage\" lang=\"ko\"><head><meta http-equiv=\"Content-Type\" content=\"text/html; charset=UTF-8\"><meta content=\"/images/branding/googleg/1x/googleg_standard_color_128dp.png\" itemprop=\"image\"><title>Google</title><style>#gbar,#guser{font-size:13px;padding-top:1px !important;}#gbar{height:22px}#guser{padding-bottom:7px !important;text-align:right}.gbh,.gbd{border-top:1px solid #c9d7f1;font-size:1px}.gbh{height:0;position:absolute;top:24px;width:100%}@media all{.gb1{height:22px;margi\n"
     ]
    }
   ],
   "source": [
    "import socket\n",
    "import ssl\n",
    "\n",
    "PORT = 443         # The port used by the server\n",
    "\n",
    "context = ssl.create_default_context()\n",
    "\n",
    "with socket.create_connection((HOST, PORT)) as sock:\n",
    "    with context.wrap_socket(sock, server_hostname=HOST) as ssock:\n",
    "        ssock.sendall(MESSAGE)\n",
    "        data = ssock.recv(1024*1024)\n",
    "\n",
    "print(data.decode('UTF-8'))"
   ]
  },
  {
   "cell_type": "markdown",
   "metadata": {},
   "source": [
    "## Threading"
   ]
  },
  {
   "cell_type": "markdown",
   "metadata": {},
   "source": [
    "## asyncio"
   ]
  },
  {
   "cell_type": "markdown",
   "metadata": {},
   "source": [
    "## Regular expressions"
   ]
  },
  {
   "cell_type": "markdown",
   "metadata": {},
   "source": [
    "## References\n",
    "\n",
    "- https://realpython.com/python-memory-management/\n",
    "- https://stackify.com/python-garbage-collection/\n",
    "- https://realpython.com/python-sockets/\n",
    "- https://realpython.com/intro-to-python-threading/\n",
    "- https://realpython.com/python-concurrency/"
   ]
  }
 ],
 "metadata": {
  "kernelspec": {
   "display_name": "Python 3",
   "language": "python",
   "name": "python3"
  },
  "language_info": {
   "codemirror_mode": {
    "name": "ipython",
    "version": 3
   },
   "file_extension": ".py",
   "mimetype": "text/x-python",
   "name": "python",
   "nbconvert_exporter": "python",
   "pygments_lexer": "ipython3",
   "version": "3.6.8"
  }
 },
 "nbformat": 4,
 "nbformat_minor": 2
}
