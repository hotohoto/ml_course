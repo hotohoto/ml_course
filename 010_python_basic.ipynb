{
 "cells": [
  {
   "cell_type": "code",
   "execution_count": 1,
   "metadata": {},
   "outputs": [],
   "source": [
    "a = 4"
   ]
  },
  {
   "cell_type": "code",
   "execution_count": 2,
   "metadata": {},
   "outputs": [
    {
     "name": "stdout",
     "output_type": "stream",
     "text": [
      "less than or equal\n",
      "there\n"
     ]
    }
   ],
   "source": [
    "if a > 4:\n",
    "    print(\"large\")\n",
    "    print(\"hi\")\n",
    "else:\n",
    "    print(\"less than or equal\")\n",
    "    print(\"there\")"
   ]
  },
  {
   "cell_type": "code",
   "execution_count": 3,
   "metadata": {},
   "outputs": [
    {
     "name": "stdout",
     "output_type": "stream",
     "text": [
      "4\n",
      "3\n",
      "2\n",
      "1\n"
     ]
    }
   ],
   "source": [
    "while a > 0:\n",
    "    print(a)\n",
    "    a = a - 1"
   ]
  },
  {
   "cell_type": "code",
   "execution_count": 4,
   "metadata": {},
   "outputs": [
    {
     "name": "stdout",
     "output_type": "stream",
     "text": [
      "0\n",
      "1\n",
      "2\n",
      "3\n",
      "4\n",
      "5\n",
      "6\n",
      "7\n",
      "8\n",
      "9\n"
     ]
    }
   ],
   "source": [
    "for i in range(10):\n",
    "    print(i)"
   ]
  },
  {
   "cell_type": "code",
   "execution_count": 5,
   "metadata": {},
   "outputs": [
    {
     "name": "stdout",
     "output_type": "stream",
     "text": [
      "H\n",
      "e\n",
      "l\n",
      "l\n",
      "o\n"
     ]
    }
   ],
   "source": [
    "for i in \"Hello\":\n",
    "    print(i)"
   ]
  },
  {
   "cell_type": "code",
   "execution_count": 6,
   "metadata": {},
   "outputs": [],
   "source": [
    "def add(a,b):\n",
    "    return a + b"
   ]
  },
  {
   "cell_type": "code",
   "execution_count": 7,
   "metadata": {},
   "outputs": [
    {
     "data": {
      "text/plain": [
       "8"
      ]
     },
     "execution_count": 7,
     "metadata": {},
     "output_type": "execute_result"
    }
   ],
   "source": [
    "add(3,5)"
   ]
  },
  {
   "cell_type": "code",
   "execution_count": 8,
   "metadata": {},
   "outputs": [],
   "source": [
    "class Op:\n",
    "    def add(self, a, b):\n",
    "        print(self)\n",
    "        return a + b"
   ]
  },
  {
   "cell_type": "code",
   "execution_count": 9,
   "metadata": {},
   "outputs": [],
   "source": [
    "op = Op()"
   ]
  },
  {
   "cell_type": "code",
   "execution_count": 10,
   "metadata": {},
   "outputs": [
    {
     "name": "stdout",
     "output_type": "stream",
     "text": [
      "<__main__.Op object at 0x7ffb702750b8>\n"
     ]
    },
    {
     "data": {
      "text/plain": [
       "6"
      ]
     },
     "execution_count": 10,
     "metadata": {},
     "output_type": "execute_result"
    }
   ],
   "source": [
    "op.add(2,4)"
   ]
  },
  {
   "cell_type": "code",
   "execution_count": 11,
   "metadata": {},
   "outputs": [
    {
     "name": "stdout",
     "output_type": "stream",
     "text": [
      "<__main__.Op object at 0x7ffb702750b8>\n"
     ]
    }
   ],
   "source": [
    "print(op)"
   ]
  },
  {
   "cell_type": "code",
   "execution_count": 12,
   "metadata": {},
   "outputs": [
    {
     "ename": "NameError",
     "evalue": "name 'x' is not defined",
     "output_type": "error",
     "traceback": [
      "\u001b[0;31m---------------------------------------------------------------------------\u001b[0m",
      "\u001b[0;31mNameError\u001b[0m                                 Traceback (most recent call last)",
      "\u001b[0;32m<ipython-input-12-29a808a117df>\u001b[0m in \u001b[0;36m<module>\u001b[0;34m\u001b[0m\n\u001b[0;32m----> 1\u001b[0;31m \u001b[0ma\u001b[0m \u001b[0;34m=\u001b[0m \u001b[0mx\u001b[0m\u001b[0;34m\u001b[0m\u001b[0;34m\u001b[0m\u001b[0m\n\u001b[0m",
      "\u001b[0;31mNameError\u001b[0m: name 'x' is not defined"
     ]
    }
   ],
   "source": [
    "a = x"
   ]
  },
  {
   "cell_type": "code",
   "execution_count": 13,
   "metadata": {},
   "outputs": [
    {
     "name": "stdout",
     "output_type": "stream",
     "text": [
      "3.6.7 (default, Oct 22 2018, 11:32:17) \n",
      "[GCC 8.2.0]\n"
     ]
    }
   ],
   "source": [
    "print(sys.version)"
   ]
  },
  {
   "cell_type": "code",
   "execution_count": 2,
   "metadata": {},
   "outputs": [],
   "source": [
    "def mean(a, b):\n",
    "    return a + b"
   ]
  },
  {
   "cell_type": "code",
   "execution_count": 22,
   "metadata": {},
   "outputs": [],
   "source": [
    "print(\"hi\")"
   ]
  },
  {
   "cell_type": "code",
   "execution_count": 4,
   "metadata": {},
   "outputs": [
    {
     "data": {
      "text/plain": [
       "12"
      ]
     },
     "execution_count": 4,
     "metadata": {},
     "output_type": "execute_result"
    }
   ],
   "source": [
    "1 + 2 * 3 + 5"
   ]
  },
  {
   "cell_type": "code",
   "execution_count": 13,
   "metadata": {
    "scrolled": true
   },
   "outputs": [
    {
     "name": "stdout",
     "output_type": "stream",
     "text": [
      "7 8 8\n"
     ]
    }
   ],
   "source": [
    "a = 7\n",
    "c = b = a + 1\n",
    "print(a,b,c)"
   ]
  },
  {
   "cell_type": "code",
   "execution_count": 14,
   "metadata": {},
   "outputs": [
    {
     "name": "stdout",
     "output_type": "stream",
     "text": [
      "7 8\n"
     ]
    }
   ],
   "source": [
    "d, e = a, b\n",
    "print(d,e)"
   ]
  },
  {
   "cell_type": "code",
   "execution_count": 3,
   "metadata": {},
   "outputs": [
    {
     "data": {
      "text/plain": [
       "3"
      ]
     },
     "execution_count": 3,
     "metadata": {},
     "output_type": "execute_result"
    }
   ],
   "source": [
    "mydict = {'a': 3, 'b': 4, 'c': 5}\n",
    "mydict['a']"
   ]
  },
  {
   "cell_type": "code",
   "execution_count": 8,
   "metadata": {},
   "outputs": [
    {
     "name": "stdout",
     "output_type": "stream",
     "text": [
      "{'c', 'b', 'a'}\n",
      "set()\n"
     ]
    }
   ],
   "source": [
    "keyset = set(mydict)\n",
    "myset = set()\n",
    "print(keyset)\n",
    "print(myset)"
   ]
  },
  {
   "cell_type": "code",
   "execution_count": 9,
   "metadata": {},
   "outputs": [
    {
     "name": "stdout",
     "output_type": "stream",
     "text": [
      "{3, 4, 5}\n"
     ]
    }
   ],
   "source": [
    "for k in mydict:\n",
    "  myset.add(mydict[k])\n",
    "\n",
    "print(myset)"
   ]
  },
  {
   "cell_type": "code",
   "execution_count": 11,
   "metadata": {},
   "outputs": [
    {
     "name": "stdout",
     "output_type": "stream",
     "text": [
      "['aaa', 'bbbb', 'ccccc']\n"
     ]
    }
   ],
   "source": [
    "mylist = []\n",
    "for k in mydict:\n",
    "  mylist.append(k * mydict[k])\n",
    "\n",
    "print(mylist)"
   ]
  },
  {
   "cell_type": "code",
   "execution_count": 14,
   "metadata": {},
   "outputs": [
    {
     "name": "stdout",
     "output_type": "stream",
     "text": [
      "aaa\n",
      "('aaa', 'bbbb', 'ccccc')\n"
     ]
    }
   ],
   "source": [
    "print(mylist[0])\n",
    "mytuple = tuple(mylist)\n",
    "print(mytuple)"
   ]
  },
  {
   "cell_type": "markdown",
   "metadata": {},
   "source": [
    "## range()"
   ]
  },
  {
   "cell_type": "code",
   "execution_count": 3,
   "metadata": {},
   "outputs": [
    {
     "name": "stdout",
     "output_type": "stream",
     "text": [
      "0\n",
      "1\n",
      "2\n",
      "3\n"
     ]
    }
   ],
   "source": [
    "r = range(4)\n",
    "for i in r:\n",
    "  print(i)"
   ]
  },
  {
   "cell_type": "code",
   "execution_count": 4,
   "metadata": {},
   "outputs": [
    {
     "data": {
      "text/plain": [
       "range"
      ]
     },
     "execution_count": 4,
     "metadata": {},
     "output_type": "execute_result"
    }
   ],
   "source": [
    "type(r)"
   ]
  },
  {
   "cell_type": "code",
   "execution_count": 49,
   "metadata": {},
   "outputs": [
    {
     "name": "stdout",
     "output_type": "stream",
     "text": [
      "__init__() called\n",
      "__getitem__() called.\n",
      "__getitem__() returns a value.\n",
      "3\n",
      "__getitem__() called.\n",
      "__getitem__() returns a value.\n",
      "4\n",
      "__getitem__() called.\n",
      "__getitem__() raises IndexError.\n"
     ]
    }
   ],
   "source": [
    "# implement a custom range class\n",
    "class MyRange1:\n",
    "    def __init__(self, first_idx:int, second_idx = None):\n",
    "        print(\"__init__() called\")\n",
    "        if second_idx is None:\n",
    "            self.start_idx = 0\n",
    "            self.end_idx = first_idx\n",
    "        else:\n",
    "            self.start_idx = first_idx\n",
    "            self.end_idx = second_idx\n",
    "        self.len = self.end_idx - self.start_idx\n",
    "    def __getitem__(self, idx):\n",
    "        print(\"__getitem__() called.\")\n",
    "        if idx < self.len:\n",
    "            print(\"__getitem__() returns a value.\")\n",
    "            return self.start_idx + idx\n",
    "        else:\n",
    "            print(\"__getitem__() raises IndexError.\")\n",
    "            raise IndexError('index out of range')\n",
    "\n",
    "r = MyRange1(3, 5)\n",
    "\n",
    "for k in r:\n",
    "    print(k)"
   ]
  },
  {
   "cell_type": "markdown",
   "metadata": {},
   "source": [
    "## Generator"
   ]
  },
  {
   "cell_type": "code",
   "execution_count": 33,
   "metadata": {},
   "outputs": [
    {
     "name": "stdout",
     "output_type": "stream",
     "text": [
      "g1 created <generator object gen at 0x7f0e13961d58>\n",
      "inside gen() 1\n",
      "next(g1) called #1 first_value\n",
      "inside gen() 2\n",
      "next(g1) called #2 second_value\n",
      "inside gen() 3\n",
      "next(g1) called #3 third_value\n",
      "inside gen() 4\n",
      "next(g1) called #4 fourth_value\n",
      "\n",
      "['__class__', '__del__', '__delattr__', '__dir__', '__doc__', '__eq__', '__format__', '__ge__', '__getattribute__', '__gt__', '__hash__', '__init__', '__init_subclass__', '__iter__', '__le__', '__lt__', '__name__', '__ne__', '__new__', '__next__', '__qualname__', '__reduce__', '__reduce_ex__', '__repr__', '__setattr__', '__sizeof__', '__str__', '__subclasshook__', 'close', 'gi_code', 'gi_frame', 'gi_running', 'gi_yieldfrom', 'send', 'throw']\n"
     ]
    }
   ],
   "source": [
    "def gen():\n",
    "    print('inside gen() 1')\n",
    "    yield 'first_value'\n",
    "    print('inside gen() 2')\n",
    "    yield 'second_value'\n",
    "    print('inside gen() 3')\n",
    "    yield 'third_value'\n",
    "    print('inside gen() 4')\n",
    "    yield 'fourth_value'\n",
    "    print('inside gen() 5')\n",
    "\n",
    "g1 = gen()\n",
    "print('g1 created', g1)\n",
    "print(\"next(g1) called #1\", next(g1))\n",
    "print(\"next(g1) called #2\", next(g1))\n",
    "print(\"next(g1) called #3\", next(g1))\n",
    "print(\"next(g1) called #4\", next(g1))\n",
    "# print(\"next(g1) called #5\", next(g1)) # StopIteration will occur\n",
    "\n",
    "print()\n",
    "print(dir(g1))"
   ]
  },
  {
   "cell_type": "code",
   "execution_count": 34,
   "metadata": {},
   "outputs": [
    {
     "name": "stdout",
     "output_type": "stream",
     "text": [
      "g2 created <generator object gen at 0x7f0e13961d00>\n",
      "inside gen() 1\n",
      "g2.__next__() called #1 first_value\n",
      "inside gen() 2\n",
      "g2.__next__() called #2 second_value\n",
      "inside gen() 3\n",
      "g2.__next__() called #3 third_value\n",
      "inside gen() 4\n",
      "g2.__next__() called #4 fourth_value\n"
     ]
    }
   ],
   "source": [
    "g2 = gen()\n",
    "print('g2 created', g2)\n",
    "print(\"g2.__next__() called #1\", g2.__next__())\n",
    "print(\"g2.__next__() called #2\", g2.__next__())\n",
    "print(\"g2.__next__() called #3\", g2.__next__())\n",
    "print(\"g2.__next__() called #4\", g2.__next__())\n",
    "# print(\"g2.__next__() called #5\", g2.__next__())# StopIteration will occur"
   ]
  },
  {
   "cell_type": "code",
   "execution_count": 35,
   "metadata": {},
   "outputs": [
    {
     "name": "stdout",
     "output_type": "stream",
     "text": [
      "inside gen() 1\n",
      "first_value\n",
      "inside gen() 2\n",
      "second_value\n",
      "inside gen() 3\n",
      "third_value\n",
      "inside gen() 4\n",
      "fourth_value\n",
      "inside gen() 5\n"
     ]
    }
   ],
   "source": [
    "g3 = gen()\n",
    "for i in g3:\n",
    "    print(i)"
   ]
  },
  {
   "cell_type": "code",
   "execution_count": 54,
   "metadata": {},
   "outputs": [
    {
     "name": "stdout",
     "output_type": "stream",
     "text": [
      "__iter__() called.\n",
      "__next__() called.\n",
      "__next__() returns a value.\n",
      "3\n",
      "__next__() called.\n",
      "__next__() returns a value.\n",
      "4\n",
      "__next__() called.\n",
      "__next__() raises StopIteration.\n"
     ]
    }
   ],
   "source": [
    "# implement a custom range class as a generator\n",
    "class MyRange2:\n",
    "    def __init__(self, first_idx:int, second_idx = None):\n",
    "        if second_idx is None:\n",
    "            self.start_idx = 0\n",
    "            self.end_idx = first_idx\n",
    "        else:\n",
    "            self.start_idx = first_idx\n",
    "            self.end_idx = second_idx\n",
    "        self.len = self.end_idx - self.start_idx\n",
    "        self.idx = 0\n",
    "    def __next__(self):\n",
    "        print(\"__next__() called.\")\n",
    "        if self.idx < self.len:\n",
    "            print(\"__next__() returns a value.\")\n",
    "            value = self.start_idx + self.idx\n",
    "            self.idx += 1\n",
    "            return value\n",
    "        else:\n",
    "            print(\"__next__() raises StopIteration.\")\n",
    "            raise StopIteration('iteration done')\n",
    "        \n",
    "    def __iter__(self):\n",
    "        print(\"__iter__() called.\")\n",
    "        return self\n",
    "        \n",
    "\n",
    "r = MyRange2(3, 5)\n",
    "\n",
    "for k in r:\n",
    "    print(k)"
   ]
  },
  {
   "cell_type": "markdown",
   "metadata": {},
   "source": [
    "## lambda function"
   ]
  },
  {
   "cell_type": "code",
   "execution_count": 22,
   "metadata": {},
   "outputs": [
    {
     "data": {
      "text/plain": [
       "4"
      ]
     },
     "execution_count": 22,
     "metadata": {},
     "output_type": "execute_result"
    }
   ],
   "source": [
    "f = lambda x: x + 1\n",
    "f(3)"
   ]
  },
  {
   "cell_type": "code",
   "execution_count": 23,
   "metadata": {},
   "outputs": [
    {
     "data": {
      "text/plain": [
       "4"
      ]
     },
     "execution_count": 23,
     "metadata": {},
     "output_type": "execute_result"
    }
   ],
   "source": [
    "def f(x):\n",
    "    return x + 1\n",
    "f(3)"
   ]
  },
  {
   "cell_type": "code",
   "execution_count": 24,
   "metadata": {},
   "outputs": [
    {
     "data": {
      "text/plain": [
       "5"
      ]
     },
     "execution_count": 24,
     "metadata": {},
     "output_type": "execute_result"
    }
   ],
   "source": [
    "(lambda x: x + 1)(4)"
   ]
  },
  {
   "cell_type": "markdown",
   "metadata": {},
   "source": [
    "## Recursive function - Fibonacci sequence"
   ]
  },
  {
   "cell_type": "code",
   "execution_count": 52,
   "metadata": {},
   "outputs": [
    {
     "name": "stdout",
     "output_type": "stream",
     "text": [
      "1\n",
      "1\n",
      "2\n",
      "3\n",
      "5\n",
      "8\n",
      "13\n",
      "21\n",
      "34\n",
      "55\n"
     ]
    }
   ],
   "source": [
    "def fibo(n):\n",
    "    if n == 1:\n",
    "       return 1\n",
    "    if n == 2:\n",
    "        return 1\n",
    "    return fibo(n - 2) + fibo(n - 1)\n",
    "\n",
    "for i in range(10):\n",
    "    print(fibo(i+1))"
   ]
  },
  {
   "cell_type": "code",
   "execution_count": 53,
   "metadata": {},
   "outputs": [
    {
     "name": "stdout",
     "output_type": "stream",
     "text": [
      "1\n",
      "1\n",
      "2\n",
      "3\n",
      "5\n",
      "8\n",
      "13\n",
      "21\n",
      "34\n",
      "55\n"
     ]
    }
   ],
   "source": [
    "# with cache\n",
    "# TODO\n",
    "\n",
    "def fibo(n):\n",
    "    if n == 1:\n",
    "       return 1\n",
    "    if n == 2:\n",
    "        return 1\n",
    "    return fibo(n - 2) + fibo(n - 1)\n",
    "\n",
    "for i in range(10):\n",
    "    print(fibo(i+1))"
   ]
  }
 ],
 "metadata": {
  "kernelspec": {
   "display_name": "Python 3",
   "language": "python",
   "name": "python3"
  },
  "language_info": {
   "codemirror_mode": {
    "name": "ipython",
    "version": 3
   },
   "file_extension": ".py",
   "mimetype": "text/x-python",
   "name": "python",
   "nbconvert_exporter": "python",
   "pygments_lexer": "ipython3",
   "version": "3.6.7"
  }
 },
 "nbformat": 4,
 "nbformat_minor": 2
}
