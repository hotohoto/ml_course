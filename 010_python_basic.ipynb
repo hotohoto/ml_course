{
 "cells": [
  {
   "cell_type": "code",
   "execution_count": 1,
   "metadata": {},
   "outputs": [
    {
     "name": "stdout",
     "output_type": "stream",
     "text": [
      "3.6.8 (default, Oct  7 2019, 12:59:55) \n",
      "[GCC 8.3.0]\n"
     ]
    }
   ],
   "source": [
    "import sys\n",
    "print(sys.version)"
   ]
  },
  {
   "cell_type": "markdown",
   "metadata": {},
   "source": [
    "## REPL"
   ]
  },
  {
   "cell_type": "code",
   "execution_count": 2,
   "metadata": {},
   "outputs": [
    {
     "data": {
      "text/plain": [
       "1"
      ]
     },
     "execution_count": 2,
     "metadata": {},
     "output_type": "execute_result"
    }
   ],
   "source": [
    "1"
   ]
  },
  {
   "cell_type": "code",
   "execution_count": 3,
   "metadata": {},
   "outputs": [
    {
     "data": {
      "text/plain": [
       "3"
      ]
     },
     "execution_count": 3,
     "metadata": {},
     "output_type": "execute_result"
    }
   ],
   "source": [
    "1\n",
    "2 + 5\n",
    "3"
   ]
  },
  {
   "cell_type": "code",
   "execution_count": 4,
   "metadata": {},
   "outputs": [
    {
     "data": {
      "text/plain": [
       "15"
      ]
     },
     "execution_count": 4,
     "metadata": {},
     "output_type": "execute_result"
    }
   ],
   "source": [
    "3 + 5 * 2 + 2"
   ]
  },
  {
   "cell_type": "code",
   "execution_count": 5,
   "metadata": {},
   "outputs": [
    {
     "data": {
      "text/plain": [
       "0.3"
      ]
     },
     "execution_count": 5,
     "metadata": {},
     "output_type": "execute_result"
    }
   ],
   "source": [
    ".3"
   ]
  },
  {
   "cell_type": "code",
   "execution_count": 6,
   "metadata": {},
   "outputs": [
    {
     "data": {
      "text/plain": [
       "False"
      ]
     },
     "execution_count": 6,
     "metadata": {},
     "output_type": "execute_result"
    }
   ],
   "source": [
    "3 > 4"
   ]
  },
  {
   "cell_type": "code",
   "execution_count": 7,
   "metadata": {},
   "outputs": [
    {
     "data": {
      "text/plain": [
       "False"
      ]
     },
     "execution_count": 7,
     "metadata": {},
     "output_type": "execute_result"
    }
   ],
   "source": [
    "False"
   ]
  },
  {
   "cell_type": "code",
   "execution_count": 8,
   "metadata": {},
   "outputs": [
    {
     "data": {
      "text/plain": [
       "False"
      ]
     },
     "execution_count": 8,
     "metadata": {},
     "output_type": "execute_result"
    }
   ],
   "source": [
    "not True"
   ]
  },
  {
   "cell_type": "code",
   "execution_count": 9,
   "metadata": {},
   "outputs": [
    {
     "data": {
      "text/plain": [
       "False"
      ]
     },
     "execution_count": 9,
     "metadata": {},
     "output_type": "execute_result"
    }
   ],
   "source": [
    "not 10"
   ]
  },
  {
   "cell_type": "code",
   "execution_count": 10,
   "metadata": {},
   "outputs": [
    {
     "data": {
      "text/plain": [
       "True"
      ]
     },
     "execution_count": 10,
     "metadata": {},
     "output_type": "execute_result"
    }
   ],
   "source": [
    "not 0"
   ]
  },
  {
   "cell_type": "code",
   "execution_count": 11,
   "metadata": {},
   "outputs": [],
   "source": [
    "None"
   ]
  },
  {
   "cell_type": "markdown",
   "metadata": {},
   "source": [
    "## print function"
   ]
  },
  {
   "cell_type": "code",
   "execution_count": 12,
   "metadata": {},
   "outputs": [
    {
     "name": "stdout",
     "output_type": "stream",
     "text": [
      "Hello World\n"
     ]
    }
   ],
   "source": [
    "print(\"Hello World\")"
   ]
  },
  {
   "cell_type": "code",
   "execution_count": 13,
   "metadata": {},
   "outputs": [
    {
     "name": "stdout",
     "output_type": "stream",
     "text": [
      "Hello Aladin. Nice to meet you.\n"
     ]
    }
   ],
   "source": [
    "print(\"Hello {}. Nice to meet you.\".format(\"Aladin\"))"
   ]
  },
  {
   "cell_type": "code",
   "execution_count": 14,
   "metadata": {},
   "outputs": [
    {
     "name": "stdout",
     "output_type": "stream",
     "text": [
      "Hello World 1 2 11\n"
     ]
    }
   ],
   "source": [
    "print(\"Hello\", \"World\", 1, 2, 3 + 4 * 2)"
   ]
  },
  {
   "cell_type": "code",
   "execution_count": 15,
   "metadata": {},
   "outputs": [
    {
     "name": "stdout",
     "output_type": "stream",
     "text": [
      "Hello   World   1   2   11\n"
     ]
    }
   ],
   "source": [
    "print(\"Hello\", \"World\", 1, 2, 3 + 4 * 2, sep=\"   \")"
   ]
  },
  {
   "cell_type": "code",
   "execution_count": 16,
   "metadata": {},
   "outputs": [
    {
     "name": "stdout",
     "output_type": "stream",
     "text": [
      "None\n"
     ]
    }
   ],
   "source": [
    "print(None)"
   ]
  },
  {
   "cell_type": "code",
   "execution_count": 17,
   "metadata": {},
   "outputs": [
    {
     "name": "stdout",
     "output_type": "stream",
     "text": [
      "a\n",
      "\n",
      "b\n",
      "\n",
      "c\n"
     ]
    }
   ],
   "source": [
    "print(\"a\")\n",
    "print()\n",
    "print(\"b\")\n",
    "print()\n",
    "print(\"c\")"
   ]
  },
  {
   "cell_type": "code",
   "execution_count": 18,
   "metadata": {},
   "outputs": [
    {
     "name": "stdout",
     "output_type": "stream",
     "text": [
      "abc"
     ]
    }
   ],
   "source": [
    "print(\"a\", end=\"\")\n",
    "print(\"b\", end=\"\")\n",
    "print(\"c\", end=\"\")"
   ]
  },
  {
   "cell_type": "markdown",
   "metadata": {},
   "source": [
    "## Types"
   ]
  },
  {
   "cell_type": "code",
   "execution_count": 19,
   "metadata": {},
   "outputs": [
    {
     "name": "stdout",
     "output_type": "stream",
     "text": [
      "True\n",
      "<class 'bool'>\n"
     ]
    }
   ],
   "source": [
    "# boolean: True, False\n",
    "print(True)\n",
    "print(type(True))"
   ]
  },
  {
   "cell_type": "code",
   "execution_count": 20,
   "metadata": {},
   "outputs": [
    {
     "name": "stdout",
     "output_type": "stream",
     "text": [
      "3\n",
      "<class 'int'>\n"
     ]
    }
   ],
   "source": [
    "# float\n",
    "print(3)\n",
    "print(type(3))"
   ]
  },
  {
   "cell_type": "code",
   "execution_count": 21,
   "metadata": {},
   "outputs": [
    {
     "name": "stdout",
     "output_type": "stream",
     "text": [
      "0.3\n",
      "<class 'float'>\n"
     ]
    }
   ],
   "source": [
    "# float\n",
    "print(.3)\n",
    "print(type(.3))"
   ]
  },
  {
   "cell_type": "code",
   "execution_count": 22,
   "metadata": {},
   "outputs": [
    {
     "name": "stdout",
     "output_type": "stream",
     "text": [
      "abc\n",
      "<class 'str'>\n"
     ]
    }
   ],
   "source": [
    "# Strings\n",
    "print(\"abc\")\n",
    "print(type(\"abc\"))"
   ]
  },
  {
   "cell_type": "code",
   "execution_count": 23,
   "metadata": {},
   "outputs": [
    {
     "name": "stdout",
     "output_type": "stream",
     "text": [
      "<built-in function print>\n",
      "<class 'builtin_function_or_method'>\n"
     ]
    }
   ],
   "source": [
    "# functions\n",
    "print(print)\n",
    "print(type(print))"
   ]
  },
  {
   "cell_type": "code",
   "execution_count": 24,
   "metadata": {},
   "outputs": [
    {
     "name": "stdout",
     "output_type": "stream",
     "text": [
      "None\n",
      "<class 'NoneType'>\n"
     ]
    }
   ],
   "source": [
    "# None\n",
    "print(None)\n",
    "print(type(None))"
   ]
  },
  {
   "cell_type": "markdown",
   "metadata": {},
   "source": [
    "## Variables"
   ]
  },
  {
   "cell_type": "code",
   "execution_count": 25,
   "metadata": {},
   "outputs": [
    {
     "name": "stdout",
     "output_type": "stream",
     "text": [
      "x = 3\n",
      "y = 4.0\n",
      "z = 3\n",
      "o = 7.0\n",
      "p = False\n"
     ]
    }
   ],
   "source": [
    "x = 3\n",
    "y = 4.0\n",
    "z = x\n",
    "o = x + y\n",
    "p = x > y\n",
    "print(\"x =\", x)\n",
    "print(\"y =\", y)\n",
    "print(\"z =\", z)\n",
    "print(\"o =\", o)\n",
    "print(\"p =\", p)"
   ]
  },
  {
   "cell_type": "code",
   "execution_count": 26,
   "metadata": {
    "scrolled": true
   },
   "outputs": [
    {
     "name": "stdout",
     "output_type": "stream",
     "text": [
      "a = 7\n",
      "b = 8\n",
      "c = 8\n"
     ]
    }
   ],
   "source": [
    "a = 7\n",
    "c = b = a + 1\n",
    "print(\"a =\", a)\n",
    "print(\"b =\", b)\n",
    "print(\"c =\", c)"
   ]
  },
  {
   "cell_type": "code",
   "execution_count": 27,
   "metadata": {},
   "outputs": [
    {
     "name": "stdout",
     "output_type": "stream",
     "text": [
      "7\n",
      "8\n"
     ]
    }
   ],
   "source": [
    "d, e = a, b\n",
    "print(d)\n",
    "print(e)"
   ]
  },
  {
   "cell_type": "markdown",
   "metadata": {},
   "source": [
    "## Conditinal statements"
   ]
  },
  {
   "cell_type": "code",
   "execution_count": 28,
   "metadata": {},
   "outputs": [],
   "source": [
    "a = 4"
   ]
  },
  {
   "cell_type": "code",
   "execution_count": 29,
   "metadata": {},
   "outputs": [
    {
     "name": "stdout",
     "output_type": "stream",
     "text": [
      "less than or equal\n",
      "there\n"
     ]
    }
   ],
   "source": [
    "if a > 4:\n",
    "    print(\"large\")\n",
    "    print(\"hi\")\n",
    "else:\n",
    "    print(\"less than or equal\")\n",
    "    print(\"there\")"
   ]
  },
  {
   "cell_type": "code",
   "execution_count": 30,
   "metadata": {},
   "outputs": [
    {
     "name": "stdout",
     "output_type": "stream",
     "text": [
      "This is always true.\n",
      "This is always false.\n"
     ]
    }
   ],
   "source": [
    "if True:\n",
    "    print(\"This is always true.\")\n",
    "\n",
    "if False:\n",
    "    print(\"It's False!?\")\n",
    "else:\n",
    "    print(\"This is always false.\")"
   ]
  },
  {
   "cell_type": "markdown",
   "metadata": {},
   "source": [
    "## Loops"
   ]
  },
  {
   "cell_type": "code",
   "execution_count": 31,
   "metadata": {},
   "outputs": [
    {
     "name": "stdout",
     "output_type": "stream",
     "text": [
      "4\n",
      "3\n",
      "2\n",
      "1\n"
     ]
    }
   ],
   "source": [
    "a = 4\n",
    "while a > 0:\n",
    "    print(a)\n",
    "    a = a - 1"
   ]
  },
  {
   "cell_type": "code",
   "execution_count": 32,
   "metadata": {},
   "outputs": [
    {
     "name": "stdout",
     "output_type": "stream",
     "text": [
      "4\n",
      "3\n",
      "2\n",
      "1\n"
     ]
    }
   ],
   "source": [
    "a = 4\n",
    "while True:\n",
    "    if a > 0:\n",
    "        print(a)\n",
    "    else:\n",
    "        break\n",
    "    a = a -1"
   ]
  },
  {
   "cell_type": "code",
   "execution_count": 33,
   "metadata": {},
   "outputs": [
    {
     "name": "stdout",
     "output_type": "stream",
     "text": [
      "hi\n"
     ]
    }
   ],
   "source": [
    "while True:\n",
    "    print(\"hi\")\n",
    "    break"
   ]
  },
  {
   "cell_type": "code",
   "execution_count": 34,
   "metadata": {},
   "outputs": [
    {
     "name": "stdout",
     "output_type": "stream",
     "text": [
      "0\n",
      "1\n",
      "2\n",
      "3\n",
      "4\n",
      "5\n",
      "6\n",
      "7\n",
      "8\n",
      "9\n"
     ]
    }
   ],
   "source": [
    "for i in range(10):\n",
    "    print(i)"
   ]
  },
  {
   "cell_type": "code",
   "execution_count": 35,
   "metadata": {},
   "outputs": [
    {
     "name": "stdout",
     "output_type": "stream",
     "text": [
      "10\n",
      "11\n",
      "12\n",
      "13\n",
      "14\n"
     ]
    }
   ],
   "source": [
    "for i in range(10, 15):\n",
    "    print(i)"
   ]
  },
  {
   "cell_type": "code",
   "execution_count": 36,
   "metadata": {},
   "outputs": [
    {
     "name": "stdout",
     "output_type": "stream",
     "text": [
      "H\n",
      "e\n",
      "l\n",
      "l\n",
      "o\n"
     ]
    }
   ],
   "source": [
    "for i in \"Hello\":\n",
    "    print(i)"
   ]
  },
  {
   "cell_type": "code",
   "execution_count": 37,
   "metadata": {},
   "outputs": [
    {
     "name": "stdout",
     "output_type": "stream",
     "text": [
      "0\n",
      "1\n",
      "2\n",
      "3\n",
      "4\n"
     ]
    }
   ],
   "source": [
    "for i in range(10):\n",
    "    print(i)\n",
    "    if i >= 4:\n",
    "        break\n",
    "else:\n",
    "    print(\"Reached the end of loop!\")"
   ]
  },
  {
   "cell_type": "code",
   "execution_count": 38,
   "metadata": {},
   "outputs": [
    {
     "name": "stdout",
     "output_type": "stream",
     "text": [
      "0\n",
      "1\n",
      "2\n",
      "3\n",
      "4\n",
      "5\n",
      "6\n",
      "7\n",
      "8\n",
      "9\n",
      "Reached the end of loop!\n"
     ]
    }
   ],
   "source": [
    "for i in range(10):\n",
    "    print(i)\n",
    "else:\n",
    "    print(\"Reached the end of loop!\")"
   ]
  },
  {
   "cell_type": "markdown",
   "metadata": {},
   "source": [
    "## Functions"
   ]
  },
  {
   "cell_type": "code",
   "execution_count": 39,
   "metadata": {},
   "outputs": [
    {
     "name": "stdout",
     "output_type": "stream",
     "text": [
      "None\n",
      "None\n",
      "<function empty at 0x7faacc04c510>\n",
      "<class 'function'>\n",
      "None\n"
     ]
    }
   ],
   "source": [
    "def empty():\n",
    "    pass\n",
    "\n",
    "print(empty())\n",
    "\n",
    "x = empty()\n",
    "\n",
    "print(x)\n",
    "print(empty)\n",
    "print(type(empty))\n",
    "print(empty.__call__())"
   ]
  },
  {
   "cell_type": "code",
   "execution_count": 40,
   "metadata": {},
   "outputs": [
    {
     "name": "stdout",
     "output_type": "stream",
     "text": [
      "Hello Tom\n",
      "Hello Tom\n",
      "Hello Tom\n",
      "Hello Jerry\n",
      "None\n"
     ]
    }
   ],
   "source": [
    "def hello(name, num=1):\n",
    "    for i in range(num):\n",
    "        print(\"Hello\", name)\n",
    "\n",
    "hello(\"Tom\", 3)\n",
    "y = hello(\"Jerry\")\n",
    "print(y)"
   ]
  },
  {
   "cell_type": "code",
   "execution_count": 41,
   "metadata": {},
   "outputs": [
    {
     "name": "stdout",
     "output_type": "stream",
     "text": [
      "<class 'function'>\n"
     ]
    }
   ],
   "source": [
    "print(type(hello))"
   ]
  },
  {
   "cell_type": "code",
   "execution_count": 42,
   "metadata": {},
   "outputs": [
    {
     "name": "stdout",
     "output_type": "stream",
     "text": [
      "Hello Simba\n"
     ]
    }
   ],
   "source": [
    "hello.__call__(\"Simba\")"
   ]
  },
  {
   "cell_type": "code",
   "execution_count": 43,
   "metadata": {},
   "outputs": [
    {
     "name": "stdout",
     "output_type": "stream",
     "text": [
      "7\n"
     ]
    }
   ],
   "source": [
    "def add(a,b):\n",
    "    return a + b\n",
    "\n",
    "print(add(3, 4))"
   ]
  },
  {
   "cell_type": "code",
   "execution_count": 44,
   "metadata": {},
   "outputs": [
    {
     "name": "stdout",
     "output_type": "stream",
     "text": [
      "<function add at 0x7faacc059620>\n",
      "<class 'function'>\n"
     ]
    }
   ],
   "source": [
    "print(add)\n",
    "print(type(add))"
   ]
  },
  {
   "cell_type": "code",
   "execution_count": 45,
   "metadata": {},
   "outputs": [
    {
     "name": "stdout",
     "output_type": "stream",
     "text": [
      "7\n"
     ]
    }
   ],
   "source": [
    "print(add.__call__(2, 5))"
   ]
  },
  {
   "cell_type": "code",
   "execution_count": 46,
   "metadata": {},
   "outputs": [
    {
     "data": {
      "text/plain": [
       "5.5"
      ]
     },
     "execution_count": 46,
     "metadata": {},
     "output_type": "execute_result"
    }
   ],
   "source": [
    "def mean(*args,):\n",
    "#     print(args, type(args))\n",
    "#     for x in args:\n",
    "#         print(x)\n",
    "    return sum(args) / len(args)\n",
    "\n",
    "mean(1,2,3,4,5,6,7,8,9,10)"
   ]
  },
  {
   "cell_type": "code",
   "execution_count": 47,
   "metadata": {},
   "outputs": [
    {
     "name": "stdout",
     "output_type": "stream",
     "text": [
      "(1, 2, 3, 4) {'x': 5, 'y': 6, 'z': 7}\n"
     ]
    }
   ],
   "source": [
    "def print_args(*args, **kwargs):\n",
    "    print(args, kwargs)\n",
    "\n",
    "print_args(1,2,3,4,x=5,y=6,z=7)"
   ]
  },
  {
   "cell_type": "markdown",
   "metadata": {},
   "source": [
    "### Common mistakes"
   ]
  },
  {
   "cell_type": "code",
   "execution_count": 48,
   "metadata": {},
   "outputs": [
    {
     "name": "stdout",
     "output_type": "stream",
     "text": [
      "['baz']\n",
      "['baz', 'baz']\n",
      "['baz', 'baz', 'baz']\n"
     ]
    }
   ],
   "source": [
    "# defaut parameter value is reused\n",
    "\n",
    "def foo(bar=[]):\n",
    "    bar.append(\"baz\")\n",
    "    return bar\n",
    "\n",
    "print(foo())\n",
    "print(foo())\n",
    "print(foo())"
   ]
  },
  {
   "cell_type": "code",
   "execution_count": 49,
   "metadata": {},
   "outputs": [
    {
     "name": "stdout",
     "output_type": "stream",
     "text": [
      "['baz']\n",
      "['baz']\n",
      "['baz']\n"
     ]
    }
   ],
   "source": [
    "# more normal way\n",
    "def foo(bar=None):\n",
    "    if bar == None:\n",
    "        bar = []\n",
    "    bar.append(\"baz\")\n",
    "    return bar\n",
    "\n",
    "print(foo())\n",
    "print(foo())\n",
    "print(foo())"
   ]
  },
  {
   "cell_type": "markdown",
   "metadata": {},
   "source": [
    "## Simple class example"
   ]
  },
  {
   "cell_type": "code",
   "execution_count": 50,
   "metadata": {},
   "outputs": [],
   "source": [
    "class EmptyClass:\n",
    "    pass"
   ]
  },
  {
   "cell_type": "code",
   "execution_count": 51,
   "metadata": {},
   "outputs": [
    {
     "name": "stdout",
     "output_type": "stream",
     "text": [
      "c1: <__main__.EmptyClass object at 0x7faabdf997b8>\n",
      "c2: <__main__.EmptyClass object at 0x7faabdf99780>\n"
     ]
    }
   ],
   "source": [
    "c1 = EmptyClass()\n",
    "c2 = EmptyClass()\n",
    "print(\"c1:\", c1)\n",
    "print(\"c2:\", c2)"
   ]
  },
  {
   "cell_type": "code",
   "execution_count": 52,
   "metadata": {},
   "outputs": [
    {
     "name": "stdout",
     "output_type": "stream",
     "text": [
      "7.1\n",
      "8.1\n"
     ]
    }
   ],
   "source": [
    "class StrangeOperators:\n",
    "    def add(self, a, b):\n",
    "        return a + b + 0.1\n",
    "    def mult(self, a, b):\n",
    "        return a * b + 0.1\n",
    "    def __repr__(self):\n",
    "        return \"I'm a StrageOperators object at {}\".format(hex(id(self)))\n",
    "\n",
    "op = StrangeOperators()\n",
    "\n",
    "print(op.add(3,4))\n",
    "print(op.mult(2,4))"
   ]
  },
  {
   "cell_type": "code",
   "execution_count": 53,
   "metadata": {},
   "outputs": [
    {
     "name": "stdout",
     "output_type": "stream",
     "text": [
      "I'm a StrageOperators object at 0x7faabdfa0400\n",
      "<class '__main__.StrangeOperators'>\n",
      "<class '__main__.StrangeOperators'>\n",
      "0x7faabdfa0400\n",
      "1\n",
      "<class 'int'>\n",
      "<class 'int'>\n",
      "0xa68ac0\n"
     ]
    }
   ],
   "source": [
    "print(op)\n",
    "print(type(op))\n",
    "print(StrangeOperators)\n",
    "print(hex(id(op)))\n",
    "print(1)\n",
    "print(type(1))\n",
    "print(int)\n",
    "print(hex(id(1)))"
   ]
  },
  {
   "cell_type": "markdown",
   "metadata": {},
   "source": [
    "## Data structures - tuple, list, set, dict"
   ]
  },
  {
   "cell_type": "code",
   "execution_count": 54,
   "metadata": {},
   "outputs": [
    {
     "data": {
      "text/plain": [
       "3"
      ]
     },
     "execution_count": 54,
     "metadata": {},
     "output_type": "execute_result"
    }
   ],
   "source": [
    "mydict = {'a': 3, 'b': 4, 'c': 5}\n",
    "mydict['a']"
   ]
  },
  {
   "cell_type": "code",
   "execution_count": 55,
   "metadata": {},
   "outputs": [
    {
     "name": "stdout",
     "output_type": "stream",
     "text": [
      "{'b', 'c', 'a'}\n",
      "set()\n"
     ]
    }
   ],
   "source": [
    "keyset = set(mydict)\n",
    "myset = set()\n",
    "print(keyset)\n",
    "print(myset)"
   ]
  },
  {
   "cell_type": "code",
   "execution_count": 56,
   "metadata": {},
   "outputs": [
    {
     "name": "stdout",
     "output_type": "stream",
     "text": [
      "{3, 4, 5}\n"
     ]
    }
   ],
   "source": [
    "for k in mydict:\n",
    "  myset.add(mydict[k])\n",
    "\n",
    "print(myset)"
   ]
  },
  {
   "cell_type": "code",
   "execution_count": 57,
   "metadata": {},
   "outputs": [
    {
     "data": {
      "text/plain": [
       "{'a': 3, 'b': 4, 'c': 5}"
      ]
     },
     "execution_count": 57,
     "metadata": {},
     "output_type": "execute_result"
    }
   ],
   "source": [
    "mydict2 = dict(a=3, b=4, c=5)\n",
    "mydict2"
   ]
  },
  {
   "cell_type": "code",
   "execution_count": 58,
   "metadata": {},
   "outputs": [
    {
     "name": "stdout",
     "output_type": "stream",
     "text": [
      "['aaa', 'bbbb', 'ccccc']\n"
     ]
    }
   ],
   "source": [
    "mylist = []\n",
    "for k in mydict:\n",
    "  mylist.append(k * mydict[k])\n",
    "\n",
    "print(mylist)"
   ]
  },
  {
   "cell_type": "code",
   "execution_count": 59,
   "metadata": {},
   "outputs": [
    {
     "name": "stdout",
     "output_type": "stream",
     "text": [
      "aaa\n",
      "('aaa', 'bbbb', 'ccccc')\n"
     ]
    }
   ],
   "source": [
    "print(mylist[0])\n",
    "mytuple = tuple(mylist)\n",
    "print(mytuple)"
   ]
  },
  {
   "cell_type": "markdown",
   "metadata": {},
   "source": [
    "## list comprehension"
   ]
  },
  {
   "cell_type": "code",
   "execution_count": 60,
   "metadata": {},
   "outputs": [
    {
     "data": {
      "text/plain": [
       "[3, 4, 5, 6, 7, 8, 9, 10, 11, 12]"
      ]
     },
     "execution_count": 60,
     "metadata": {},
     "output_type": "execute_result"
    }
   ],
   "source": [
    "a = [i + 3 for i in range(10)]\n",
    "a"
   ]
  },
  {
   "cell_type": "code",
   "execution_count": 61,
   "metadata": {},
   "outputs": [
    {
     "name": "stdout",
     "output_type": "stream",
     "text": [
      "500\n"
     ]
    },
    {
     "data": {
      "text/plain": [
       "{'key0': 0,\n",
       " 'key1': 100,\n",
       " 'key2': 200,\n",
       " 'key3': 300,\n",
       " 'key4': 400,\n",
       " 'key5': 500,\n",
       " 'key6': 600,\n",
       " 'key7': 700,\n",
       " 'key8': 800,\n",
       " 'key9': 900}"
      ]
     },
     "execution_count": 61,
     "metadata": {},
     "output_type": "execute_result"
    }
   ],
   "source": [
    "# for dictionary\n",
    "\n",
    "d = {\"key\" + str(i):  i * 100 for i in range(10)}\n",
    "print(d['key5'])\n",
    "d"
   ]
  },
  {
   "cell_type": "markdown",
   "metadata": {},
   "source": [
    "## Exception handling"
   ]
  },
  {
   "cell_type": "code",
   "execution_count": 62,
   "metadata": {},
   "outputs": [
    {
     "name": "stdout",
     "output_type": "stream",
     "text": [
      "starting 9\n",
      "hi there\n",
      "0.3333333333333333\n"
     ]
    }
   ],
   "source": [
    "def hi_there(x):\n",
    "    print(\"starting\", x)\n",
    "    y = 3 / x\n",
    "    print(\"hi there\")\n",
    "    return y\n",
    "\n",
    "print(hi_there(9))\n",
    "# print(hi_there(0)) # ZeroDivisionError"
   ]
  },
  {
   "cell_type": "code",
   "execution_count": 63,
   "metadata": {},
   "outputs": [
    {
     "name": "stdout",
     "output_type": "stream",
     "text": [
      "starting 9\n",
      "hi there\n",
      "starting 0\n",
      "Handling known error:\n",
      "division by zero\n"
     ]
    }
   ],
   "source": [
    "try:\n",
    "    hi_there(9)\n",
    "    hi_there(0)\n",
    "    hi_there(3)\n",
    "except ZeroDivisionError as e:\n",
    "    print(\"Handling known error:\")\n",
    "    print(e)\n",
    "except Exception as e:\n",
    "    print(\"Handling unknown error...\")"
   ]
  },
  {
   "cell_type": "code",
   "execution_count": 64,
   "metadata": {},
   "outputs": [
    {
     "name": "stdout",
     "output_type": "stream",
     "text": [
      "starting 9\n",
      "hi there\n",
      "starting 0\n",
      "Handling unknown error...\n"
     ]
    }
   ],
   "source": [
    "# the order of `except` statments does matter\n",
    "\n",
    "try:\n",
    "    hi_there(9)\n",
    "    hi_there(0)\n",
    "    hi_there(3)\n",
    "except Exception as e:\n",
    "    print(\"Handling unknown error...\")\n",
    "except ZeroDivisionError as e:\n",
    "    print(\"Handling known error:\")\n",
    "    print(e)"
   ]
  },
  {
   "cell_type": "code",
   "execution_count": 65,
   "metadata": {},
   "outputs": [
    {
     "data": {
      "text/plain": [
       "[ZeroDivisionError, ArithmeticError, Exception, BaseException, object]"
      ]
     },
     "execution_count": 65,
     "metadata": {},
     "output_type": "execute_result"
    }
   ],
   "source": [
    "ZeroDivisionError.mro()"
   ]
  },
  {
   "cell_type": "code",
   "execution_count": 66,
   "metadata": {},
   "outputs": [
    {
     "name": "stdout",
     "output_type": "stream",
     "text": [
      "starting 9\n",
      "hi there\n",
      "starting -3\n",
      "Handling unknown error:\n",
      "a should be a positive\n"
     ]
    }
   ],
   "source": [
    "def hi_there2(x):\n",
    "    print(\"starting\", x)\n",
    "    if x <= 0:\n",
    "        raise ValueError('a should be a positive')\n",
    "    y = 3 / x\n",
    "    print(\"hi there\")\n",
    "    return y\n",
    "\n",
    "try:\n",
    "    hi_there2(9)\n",
    "    hi_there2(-3)\n",
    "    hi_there2(3)\n",
    "except ZeroDivisionError as e:\n",
    "    print(\"Handling known error:\")\n",
    "    print(e)\n",
    "except Exception as e:\n",
    "    print(\"Handling unknown error:\")\n",
    "    print(e)\n"
   ]
  },
  {
   "cell_type": "code",
   "execution_count": 67,
   "metadata": {},
   "outputs": [],
   "source": [
    "try:\n",
    "    l = [\"a\", \"b\"]\n",
    "    int(l[2])\n",
    "except (ValueError, IndexError):  # To catch both exceptions\n",
    "    pass"
   ]
  },
  {
   "cell_type": "markdown",
   "metadata": {},
   "source": [
    "## Iterable and Iterator\n",
    "\n",
    "- `Iterable`\n",
    "  - `__iter__()`\n",
    "    - returns an `Iterator`\n",
    "- `Iterator`\n",
    "  - `__next__()`\n",
    "    - returns a value or raise StopIteration\n",
    "  - `__iter__()`\n",
    "    - returns self\n",
    "  - Once exaushted, an iterator becomes useless. To go over the sentence again, a new iterator must be built.\n",
    "- `iter()`\n",
    "  - It returns an `Iterator` object by calling `__iter__()` of the `Iterable` passed in as an argument.\n",
    "  - Or it can make an `Iterator` with `__getitem__()` method and returns it.\n",
    "  - Otherwise it raises a `TypeError`.\n",
    "- `next()`\n",
    "  - It returns a value by calling `__next__()` of the object passed in as an argument.\n",
    "\n",
    "References:\n",
    "\n",
    "- https://docs.python.org/3/library/collections.abc.html"
   ]
  },
  {
   "cell_type": "code",
   "execution_count": 68,
   "metadata": {},
   "outputs": [
    {
     "name": "stdout",
     "output_type": "stream",
     "text": [
      "i1 is an `Iterable`.\n",
      "i2 is not an `Iterable`.\n",
      "i3 is not an `Iterable`.\n",
      "----\n",
      "i1 is iterable.\n",
      "And it returned an `Iterator`.\n",
      "i2 is iterable.\n",
      "And it returned an `Iterator`.\n",
      "i3 is not iterable.\n"
     ]
    }
   ],
   "source": [
    "from collections import abc\n",
    "\n",
    "class Iterator1:\n",
    "    def __init__(self):\n",
    "        self.i = 10\n",
    "    def __next__(self):\n",
    "        if self.i <= 0:\n",
    "            raise StopIteration()\n",
    "        self.i -= 1\n",
    "        return self.i\n",
    "    def __iter__(self): # this is required just to be an Iterator object\n",
    "        return self\n",
    "\n",
    "class Iterable1:\n",
    "    def __iter__(self):\n",
    "        return Iterator1()\n",
    "\n",
    "class Iterable2:\n",
    "    def __getitem__(self, i):\n",
    "        return i * -1\n",
    "\n",
    "class DummyClass:\n",
    "    pass\n",
    "\n",
    "i1 = Iterable1()\n",
    "i2 = Iterable2()\n",
    "i3 = DummyClass()\n",
    "\n",
    "if isinstance(i1, abc.Iterable):\n",
    "    print(\"i1 is an `Iterable`.\")\n",
    "else:\n",
    "    print(\"i1 is not an `Iterable`.\")\n",
    "\n",
    "if isinstance(i2, abc.Iterable):\n",
    "    print(\"i2 is an `Iterable`.\")\n",
    "else:\n",
    "    print(\"i2 is not an `Iterable`.\")\n",
    "\n",
    "if isinstance(i3, abc.Iterable):\n",
    "    print(\"i3 is an `Iterable`.\")\n",
    "else:\n",
    "    print(\"i3 is not an `Iterable`.\")\n",
    "\n",
    "print(\"----\")\n",
    "\n",
    "try:\n",
    "    iterator = iter(i1)\n",
    "    print(\"i1 is iterable.\")\n",
    "    if isinstance(iterator, abc.Iterator):\n",
    "        print(\"And it returned an `Iterator`.\")\n",
    "except TypeError as e:\n",
    "    print(\"i1 is not iterable.\")\n",
    "    \n",
    "try:\n",
    "    iterator = iter(i2)\n",
    "    print(\"i2 is iterable.\")\n",
    "    if isinstance(iterator, abc.Iterator):\n",
    "        print(\"And it returned an `Iterator`.\")\n",
    "except TypeError as e:\n",
    "    print(\"i2 is not iterable.\")\n",
    "    \n",
    "try:\n",
    "    iterator = iter(i3)\n",
    "    print(\"i3 is iterable.\")\n",
    "    if isinstance(iterator, abc.Iterator):\n",
    "        print(\"And it returned an `Iterator`.\")\n",
    "except TypeError as e:\n",
    "    print(\"i3 is not iterable.\")\n"
   ]
  },
  {
   "cell_type": "code",
   "execution_count": 69,
   "metadata": {},
   "outputs": [
    {
     "name": "stdout",
     "output_type": "stream",
     "text": [
      "9\n",
      "8\n",
      "7\n",
      "6\n",
      "5\n",
      "4\n",
      "3\n",
      "2\n",
      "1\n",
      "0\n"
     ]
    }
   ],
   "source": [
    "for i in i1:\n",
    "    print(i)"
   ]
  },
  {
   "cell_type": "markdown",
   "metadata": {},
   "source": [
    "## range()\n",
    "\n",
    "- `range()` returns an `Iterable` object"
   ]
  },
  {
   "cell_type": "code",
   "execution_count": 70,
   "metadata": {},
   "outputs": [
    {
     "name": "stdout",
     "output_type": "stream",
     "text": [
      "0\n",
      "1\n",
      "2\n",
      "3\n"
     ]
    }
   ],
   "source": [
    "r = range(4)\n",
    "for i in r:\n",
    "  print(i)"
   ]
  },
  {
   "cell_type": "code",
   "execution_count": 71,
   "metadata": {},
   "outputs": [
    {
     "data": {
      "text/plain": [
       "range"
      ]
     },
     "execution_count": 71,
     "metadata": {},
     "output_type": "execute_result"
    }
   ],
   "source": [
    "type(r)"
   ]
  },
  {
   "cell_type": "code",
   "execution_count": 72,
   "metadata": {},
   "outputs": [
    {
     "name": "stdout",
     "output_type": "stream",
     "text": [
      "True\n"
     ]
    }
   ],
   "source": [
    "from collections import abc\n",
    "\n",
    "print(isinstance(r, abc.Iterable))"
   ]
  },
  {
   "cell_type": "code",
   "execution_count": 73,
   "metadata": {},
   "outputs": [
    {
     "name": "stdout",
     "output_type": "stream",
     "text": [
      "__init__() called\n",
      "__getitem__() called.\n",
      "__getitem__() returns a value.\n",
      "3\n",
      "__getitem__() called.\n",
      "__getitem__() returns a value.\n",
      "4\n",
      "__getitem__() called.\n",
      "__getitem__() raises IndexError.\n"
     ]
    }
   ],
   "source": [
    "# implement a custom range class\n",
    "class MyRange1:\n",
    "    def __init__(self, first_idx:int, second_idx = None):\n",
    "        print(\"__init__() called\")\n",
    "        if second_idx is None:\n",
    "            self.start_idx = 0\n",
    "            self.end_idx = first_idx\n",
    "        else:\n",
    "            self.start_idx = first_idx\n",
    "            self.end_idx = second_idx\n",
    "        self.len = self.end_idx - self.start_idx\n",
    "    def __getitem__(self, idx):\n",
    "        print(\"__getitem__() called.\")\n",
    "        if idx < self.len:\n",
    "            print(\"__getitem__() returns a value.\")\n",
    "            return self.start_idx + idx\n",
    "        else:\n",
    "            print(\"__getitem__() raises IndexError.\")\n",
    "            raise IndexError('index out of range')\n",
    "\n",
    "r = MyRange1(3, 5)\n",
    "\n",
    "for k in r:\n",
    "    print(k)"
   ]
  },
  {
   "cell_type": "markdown",
   "metadata": {},
   "source": [
    "## Generator\n",
    "\n",
    "- A generator function returns a generator object.\n",
    "- A generator object is an `Iterator`."
   ]
  },
  {
   "cell_type": "code",
   "execution_count": 74,
   "metadata": {},
   "outputs": [
    {
     "name": "stdout",
     "output_type": "stream",
     "text": [
      "g1 created <generator object gen at 0x7faabdfb2518>\n",
      "inside gen() 1\n",
      "next(g1) called #1 first_value\n",
      "inside gen() 2\n",
      "next(g1) called #2 second_value\n",
      "inside gen() 3\n",
      "next(g1) called #3 third_value\n",
      "inside gen() 4\n",
      "next(g1) called #4 fourth_value\n",
      "\n",
      "['__class__', '__del__', '__delattr__', '__dir__', '__doc__', '__eq__', '__format__', '__ge__', '__getattribute__', '__gt__', '__hash__', '__init__', '__init_subclass__', '__iter__', '__le__', '__lt__', '__name__', '__ne__', '__new__', '__next__', '__qualname__', '__reduce__', '__reduce_ex__', '__repr__', '__setattr__', '__sizeof__', '__str__', '__subclasshook__', 'close', 'gi_code', 'gi_frame', 'gi_running', 'gi_yieldfrom', 'send', 'throw']\n"
     ]
    }
   ],
   "source": [
    "def gen():\n",
    "    print('inside gen() 1')\n",
    "    yield 'first_value'\n",
    "    print('inside gen() 2')\n",
    "    yield 'second_value'\n",
    "    print('inside gen() 3')\n",
    "    yield 'third_value'\n",
    "    print('inside gen() 4')\n",
    "    yield 'fourth_value'\n",
    "    print('inside gen() 5')\n",
    "\n",
    "g1 = gen()\n",
    "print('g1 created', g1)\n",
    "print(\"next(g1) called #1\", next(g1))\n",
    "print(\"next(g1) called #2\", next(g1))\n",
    "print(\"next(g1) called #3\", next(g1))\n",
    "print(\"next(g1) called #4\", next(g1))\n",
    "# print(\"next(g1) called #5\", next(g1)) # StopIteration will occur\n",
    "\n",
    "print()\n",
    "print(dir(g1))"
   ]
  },
  {
   "cell_type": "code",
   "execution_count": 75,
   "metadata": {},
   "outputs": [
    {
     "name": "stdout",
     "output_type": "stream",
     "text": [
      "g2 created <generator object gen at 0x7faabdfb29e8>\n",
      "inside gen() 1\n",
      "g2.__next__() called #1 first_value\n",
      "inside gen() 2\n",
      "g2.__next__() called #2 second_value\n",
      "inside gen() 3\n",
      "g2.__next__() called #3 third_value\n",
      "inside gen() 4\n",
      "g2.__next__() called #4 fourth_value\n"
     ]
    }
   ],
   "source": [
    "g2 = gen()\n",
    "print('g2 created', g2)\n",
    "print(\"g2.__next__() called #1\", g2.__next__())\n",
    "print(\"g2.__next__() called #2\", g2.__next__())\n",
    "print(\"g2.__next__() called #3\", g2.__next__())\n",
    "print(\"g2.__next__() called #4\", g2.__next__())\n",
    "# print(\"g2.__next__() called #5\", g2.__next__())# StopIteration will occur"
   ]
  },
  {
   "cell_type": "markdown",
   "metadata": {},
   "source": [
    "FYI\n",
    "\n",
    "- Calling dunder methods directly is usually not a good idea.\n",
    "- Call `next(g2)` instead."
   ]
  },
  {
   "cell_type": "code",
   "execution_count": 76,
   "metadata": {},
   "outputs": [
    {
     "name": "stdout",
     "output_type": "stream",
     "text": [
      "inside gen() 1\n",
      "first_value\n",
      "inside gen() 2\n",
      "second_value\n",
      "inside gen() 3\n",
      "third_value\n",
      "inside gen() 4\n",
      "fourth_value\n",
      "inside gen() 5\n"
     ]
    }
   ],
   "source": [
    "g3 = gen()\n",
    "for i in g3:\n",
    "    print(i)"
   ]
  },
  {
   "cell_type": "code",
   "execution_count": 77,
   "metadata": {},
   "outputs": [
    {
     "name": "stdout",
     "output_type": "stream",
     "text": [
      "loop start\n",
      "__iter__() called.\n",
      "__iter__() yields a value.\n",
      "3\n",
      "__iter__() yields a value.\n",
      "4\n"
     ]
    }
   ],
   "source": [
    "# implement a custom range class as a generator\n",
    "class MyRange2:\n",
    "    def __init__(self, first_idx:int, second_idx = None):\n",
    "        if second_idx is None:\n",
    "            self.start_idx = 0\n",
    "            self.end_idx = first_idx\n",
    "        else:\n",
    "            self.start_idx = first_idx\n",
    "            self.end_idx = second_idx\n",
    "        self.len = self.end_idx - self.start_idx\n",
    "        self.idx = 0\n",
    "    def __iter__(self):\n",
    "        print(\"__iter__() called.\")\n",
    "        while True:\n",
    "            if self.idx < self.len:\n",
    "                print(\"__iter__() yields a value.\")\n",
    "                value = self.start_idx + self.idx\n",
    "                self.idx += 1\n",
    "                yield value\n",
    "            else:\n",
    "                return\n",
    "        \n",
    "\n",
    "r = MyRange2(3, 5)\n",
    "\n",
    "print(\"loop start\")\n",
    "for k in r:\n",
    "    print(k)"
   ]
  },
  {
   "cell_type": "code",
   "execution_count": 78,
   "metadata": {},
   "outputs": [
    {
     "name": "stdout",
     "output_type": "stream",
     "text": [
      "<generator object <genexpr> at 0x7faabdfb21a8>\n",
      "0\n",
      "1\n",
      "2\n"
     ]
    }
   ],
   "source": [
    "# generator expression\n",
    "a = (i for i in range(3))\n",
    "print(a)\n",
    "for i in a:\n",
    "    print(i)"
   ]
  },
  {
   "cell_type": "code",
   "execution_count": 79,
   "metadata": {},
   "outputs": [
    {
     "name": "stdout",
     "output_type": "stream",
     "text": [
      "getting generator object\n",
      "start\n",
      "continue\n",
      "continue\n",
      "done\n",
      "[0, 1, 2]\n",
      "start loop\n",
      "0\n",
      "1\n",
      "2\n"
     ]
    }
   ],
   "source": [
    "# list comprehension is not lazy\n",
    "def gen():\n",
    "    print(\"start\")\n",
    "    yield 0\n",
    "    print(\"continue\")\n",
    "    yield 1\n",
    "    print(\"continue\")\n",
    "    yield 2\n",
    "    print(\"done\")\n",
    "\n",
    "print(\"getting generator object\")\n",
    "b = [i for i in gen()]\n",
    "print(b)\n",
    "print(\"start loop\")\n",
    "for i in b:\n",
    "    print(i)"
   ]
  },
  {
   "cell_type": "code",
   "execution_count": 80,
   "metadata": {},
   "outputs": [
    {
     "name": "stdout",
     "output_type": "stream",
     "text": [
      "getting generator object\n",
      "<generator object <genexpr> at 0x7faabdfa73b8>\n",
      "start loop\n",
      "start\n",
      "0\n",
      "continue\n",
      "1\n",
      "continue\n",
      "2\n",
      "done\n"
     ]
    }
   ],
   "source": [
    "# generator expression is lazy\n",
    "def gen():\n",
    "    print(\"start\")\n",
    "    yield 0\n",
    "    print(\"continue\")\n",
    "    yield 1\n",
    "    print(\"continue\")\n",
    "    yield 2\n",
    "    print(\"done\")\n",
    "\n",
    "print(\"getting generator object\")\n",
    "b = (i for i in gen())\n",
    "print(b)\n",
    "print(\"start loop\")\n",
    "for i in b:\n",
    "    print(i)"
   ]
  },
  {
   "cell_type": "markdown",
   "metadata": {},
   "source": [
    "## lambda function"
   ]
  },
  {
   "cell_type": "code",
   "execution_count": 81,
   "metadata": {},
   "outputs": [
    {
     "data": {
      "text/plain": [
       "4"
      ]
     },
     "execution_count": 81,
     "metadata": {},
     "output_type": "execute_result"
    }
   ],
   "source": [
    "f = lambda x: x + 1\n",
    "f(3)"
   ]
  },
  {
   "cell_type": "code",
   "execution_count": 82,
   "metadata": {},
   "outputs": [
    {
     "data": {
      "text/plain": [
       "4"
      ]
     },
     "execution_count": 82,
     "metadata": {},
     "output_type": "execute_result"
    }
   ],
   "source": [
    "def f(x):\n",
    "    return x + 1\n",
    "f(3)"
   ]
  },
  {
   "cell_type": "code",
   "execution_count": 83,
   "metadata": {},
   "outputs": [
    {
     "data": {
      "text/plain": [
       "5"
      ]
     },
     "execution_count": 83,
     "metadata": {},
     "output_type": "execute_result"
    }
   ],
   "source": [
    "(lambda x: x + 1)(4)"
   ]
  },
  {
   "cell_type": "markdown",
   "metadata": {},
   "source": [
    "## Recursive function - Fibonacci sequence"
   ]
  },
  {
   "cell_type": "code",
   "execution_count": 84,
   "metadata": {},
   "outputs": [
    {
     "name": "stdout",
     "output_type": "stream",
     "text": [
      "fibo(0) 1\n",
      "fibo(1) 1\n",
      "fibo(2) 2\n",
      "fibo(3) 3\n",
      "fibo(4) 5\n",
      "fibo(5) 8\n",
      "fibo(6) 13\n",
      "fibo(7) 21\n",
      "fibo(8) 34\n",
      "fibo(9) 55\n"
     ]
    }
   ],
   "source": [
    "def fibo(n):\n",
    "    if n == 1:\n",
    "        return 1\n",
    "    if n == 2:\n",
    "        return 1\n",
    "    return fibo(n - 2) + fibo(n - 1)\n",
    "\n",
    "for i in range(10):\n",
    "    print(\"fibo(%d)\"%i, fibo(i+1))"
   ]
  },
  {
   "cell_type": "code",
   "execution_count": 85,
   "metadata": {},
   "outputs": [
    {
     "name": "stdout",
     "output_type": "stream",
     "text": [
      "fibo(0) 1\n",
      "fibo(1) 2\n",
      "fibo(2) 3\n",
      "fibo(3) 5\n",
      "fibo(4) 8\n",
      "fibo(5) 13\n",
      "fibo(6) 21\n",
      "fibo(7) 34\n",
      "fibo(8) 55\n",
      "fibo(9) 89\n"
     ]
    }
   ],
   "source": [
    "# with cache\n",
    "cache = {}\n",
    "\n",
    "def fibo(n):\n",
    "    if n in cache:\n",
    "        return cache[n]\n",
    "    if n == 1:\n",
    "        v = 1\n",
    "    elif n == 2:\n",
    "        v = 2\n",
    "    else:\n",
    "        v = fibo(n - 2) + fibo(n - 1)\n",
    "    cache[n] = v\n",
    "    return v\n",
    "\n",
    "for i in range(10):\n",
    "    print(\"fibo(%d)\"%i, fibo(i+1))"
   ]
  },
  {
   "cell_type": "code",
   "execution_count": 86,
   "metadata": {},
   "outputs": [
    {
     "name": "stdout",
     "output_type": "stream",
     "text": [
      "fibo(0) 1\n",
      "fibo(1) 1\n",
      "fibo(2) 2\n",
      "fibo(3) 3\n",
      "fibo(4) 5\n",
      "fibo(5) 8\n",
      "fibo(6) 13\n",
      "fibo(7) 21\n",
      "fibo(8) 34\n",
      "fibo(9) 55\n"
     ]
    }
   ],
   "source": [
    "import functools\n",
    "\n",
    "@functools.lru_cache() # default: (size=128, typed=False)\n",
    "def fibo(n):\n",
    "    if n == 1:\n",
    "        return 1\n",
    "    if n == 2:\n",
    "        return 1\n",
    "    return fibo(n - 2) + fibo(n - 1)\n",
    "\n",
    "for i in range(10):\n",
    "    print(\"fibo(%d)\"%i, fibo(i+1))"
   ]
  },
  {
   "cell_type": "markdown",
   "metadata": {},
   "source": [
    "## Function scope"
   ]
  },
  {
   "cell_type": "code",
   "execution_count": 87,
   "metadata": {},
   "outputs": [
    {
     "name": "stdout",
     "output_type": "stream",
     "text": [
      "8\n",
      "I'm func1 {'x': 7, 'func2': <function func1.<locals>.func2 at 0x7faabdf47840>, 'a': 0}\n",
      "I'm func2 {'x': 3, 'b': -1}\n",
      "I'm func1 {'x': 7, 'func2': <function func1.<locals>.func2 at 0x7faabdf47840>, 'a': 0}\n"
     ]
    }
   ],
   "source": [
    "# ggg = {\"g\": 8, func1: func1...}\n",
    "\n",
    "if True:\n",
    "    g = 8\n",
    "\n",
    "def func1(a=0):\n",
    "    print(g)\n",
    "    # fff = {\"x\": 7, func2: func2, \"a\": 0, ...}\n",
    "\n",
    "    def func2(b=-1):\n",
    "        # fff2 = {\"x\": 3, \"b\": -1}\n",
    "        x = 3\n",
    "        print(\"I'm func2\", locals())\n",
    "\n",
    "    x = 7\n",
    "    print(\"I'm func1\", locals())\n",
    "\n",
    "    func2()\n",
    "    print(\"I'm func1\", locals())\n",
    "\n",
    "func1()"
   ]
  },
  {
   "cell_type": "code",
   "execution_count": 88,
   "metadata": {},
   "outputs": [
    {
     "name": "stdout",
     "output_type": "stream",
     "text": [
      "['hi']\n",
      "['hi', 'hi']\n"
     ]
    }
   ],
   "source": [
    "g = [] # mutable global variable\n",
    "\n",
    "def func1():\n",
    "    g.append('hi')\n",
    "    print(g)\n",
    "\n",
    "func1()\n",
    "func1()"
   ]
  },
  {
   "cell_type": "code",
   "execution_count": 89,
   "metadata": {},
   "outputs": [
    {
     "name": "stdout",
     "output_type": "stream",
     "text": [
      "11\n",
      "12\n"
     ]
    }
   ],
   "source": [
    "g = 10 # immutable global variable\n",
    "\n",
    "def func1():\n",
    "    global g\n",
    "    g += 1\n",
    "    print(g)\n",
    "\n",
    "func1()\n",
    "func1()"
   ]
  },
  {
   "cell_type": "code",
   "execution_count": 90,
   "metadata": {},
   "outputs": [
    {
     "name": "stdout",
     "output_type": "stream",
     "text": [
      "3.0\n",
      "5.0\n",
      "8.0\n"
     ]
    }
   ],
   "source": [
    "#closure with mutable free variable\n",
    "\n",
    "def make_averager():\n",
    "    series = [] # free variable\n",
    "    def averager(new_value): # closure\n",
    "        series.append(new_value)\n",
    "        total = sum(series)\n",
    "        return total/len(series)\n",
    "    return averager\n",
    "\n",
    "avg = make_averager()\n",
    "\n",
    "print(avg(3))\n",
    "print(avg(7))\n",
    "print(avg(14))"
   ]
  },
  {
   "cell_type": "code",
   "execution_count": 91,
   "metadata": {},
   "outputs": [
    {
     "name": "stdout",
     "output_type": "stream",
     "text": [
      "1\n",
      "2\n",
      "3\n"
     ]
    }
   ],
   "source": [
    "#closure with immutable free variable\n",
    "\n",
    "def make_counter():\n",
    "    count = 0 # free variable\n",
    "    def counter(): # closure\n",
    "        nonlocal count\n",
    "        count += 1\n",
    "        return count\n",
    "    return counter\n",
    "\n",
    "cnt = make_counter()\n",
    "\n",
    "print(cnt())\n",
    "print(cnt())\n",
    "print(cnt())"
   ]
  },
  {
   "cell_type": "code",
   "execution_count": 92,
   "metadata": {},
   "outputs": [
    {
     "name": "stdout",
     "output_type": "stream",
     "text": [
      "<function func1.<locals>.func2 at 0x7faabdf8cae8> 1\n",
      "<function func1.<locals>.func2 at 0x7faabdf8c2f0> 2\n",
      "<function func1.<locals>.func2 at 0x7faacc059510> 3\n",
      "1\n",
      "2\n",
      "3\n"
     ]
    }
   ],
   "source": [
    "functions = []\n",
    "\n",
    "def func1():\n",
    "    for n in [1, 2, 3]:\n",
    "        def func2(x, n=n):\n",
    "            return n*x # n is default value from func2\n",
    "        print(func2, n)\n",
    "        functions.append(func2)\n",
    "    for f in functions:\n",
    "        print(f(1))\n",
    "func1()"
   ]
  },
  {
   "cell_type": "code",
   "execution_count": 93,
   "metadata": {},
   "outputs": [
    {
     "name": "stdout",
     "output_type": "stream",
     "text": [
      "<function func1.<locals>.func2 at 0x7faabdf8c840> 1\n",
      "<function func1.<locals>.func2 at 0x7faacc059378> 2\n",
      "<function func1.<locals>.func2 at 0x7faacc0592f0> 3\n",
      "3\n",
      "3\n",
      "3\n"
     ]
    }
   ],
   "source": [
    "functions = []\n",
    "\n",
    "def func1():\n",
    "    for n in [1, 2, 3]:\n",
    "        def func2(x):\n",
    "            return n*x # n is free variable of closure func2\n",
    "        print(func2, n)\n",
    "        functions.append(func2)\n",
    "    for f in functions:\n",
    "        print(f(1))\n",
    "func1()"
   ]
  },
  {
   "cell_type": "markdown",
   "metadata": {},
   "source": [
    "## Read a file"
   ]
  },
  {
   "cell_type": "code",
   "execution_count": 94,
   "metadata": {},
   "outputs": [
    {
     "name": "stdout",
     "output_type": "stream",
     "text": [
      "# Introduction to python and machine learning\n",
      "\n",
      "## How to setup\n",
      "\n",
      "```bash\n",
      "python3 -m venv venv\n",
      "source venv/bin/activate\n",
      "pip install -r requirements.txt\n",
      "```\n",
      "\n"
     ]
    }
   ],
   "source": [
    "with open(\"README.md\") as file_stream:\n",
    "    print(file_stream.read())"
   ]
  },
  {
   "cell_type": "code",
   "execution_count": 95,
   "metadata": {},
   "outputs": [
    {
     "name": "stdout",
     "output_type": "stream",
     "text": [
      "<_io.TextIOWrapper name='README.md' mode='r' encoding='UTF-8'>\n",
      "<class '_io.TextIOWrapper'>\n"
     ]
    }
   ],
   "source": [
    "print(file_stream)\n",
    "print(type(file_stream))"
   ]
  },
  {
   "cell_type": "code",
   "execution_count": 96,
   "metadata": {},
   "outputs": [
    {
     "name": "stdout",
     "output_type": "stream",
     "text": [
      "<class 'str'> 46 # Introduction to python and machine learning\n",
      "\n",
      "<class 'str'> 1 \n",
      "\n",
      "<class 'str'> 16 ## How to setup\n",
      "\n",
      "<class 'str'> 1 \n",
      "\n",
      "<class 'str'> 8 ```bash\n",
      "\n",
      "<class 'str'> 21 python3 -m venv venv\n",
      "\n",
      "<class 'str'> 25 source venv/bin/activate\n",
      "\n",
      "<class 'str'> 32 pip install -r requirements.txt\n",
      "\n",
      "<class 'str'> 4 ```\n",
      "\n",
      "<class 'str'> 0 \n"
     ]
    }
   ],
   "source": [
    "with open(\"README.md\") as file_stream:\n",
    "    while True:\n",
    "        line = file_stream.readline()\n",
    "        print(type(line), len(line), line)\n",
    "        if not line:\n",
    "            break"
   ]
  },
  {
   "cell_type": "code",
   "execution_count": 97,
   "metadata": {},
   "outputs": [
    {
     "name": "stdout",
     "output_type": "stream",
     "text": [
      "# Introduction to python and machine learning\n",
      "\n",
      "## How to setup\n",
      "\n",
      "```bash\n",
      "python3 -m venv venv\n",
      "source venv/bin/activate\n",
      "pip install -r requirements.txt\n",
      "```\n",
      "\n"
     ]
    }
   ],
   "source": [
    "file_stream = open(\"README.md\")\n",
    "print(file_stream.read())\n",
    "file_stream.close()"
   ]
  },
  {
   "cell_type": "code",
   "execution_count": 98,
   "metadata": {},
   "outputs": [
    {
     "name": "stdout",
     "output_type": "stream",
     "text": [
      "<_io.TextIOWrapper name='README.md' mode='r' encoding='UTF-8'>\n",
      "<class '_io.TextIOWrapper'>\n",
      "['_CHUNK_SIZE', '__class__', '__del__', '__delattr__', '__dict__', '__dir__', '__doc__', '__enter__', '__eq__', '__exit__', '__format__', '__ge__', '__getattribute__', '__getstate__', '__gt__', '__hash__', '__init__', '__init_subclass__', '__iter__', '__le__', '__lt__', '__ne__', '__new__', '__next__', '__reduce__', '__reduce_ex__', '__repr__', '__setattr__', '__sizeof__', '__str__', '__subclasshook__', '_checkClosed', '_checkReadable', '_checkSeekable', '_checkWritable', '_finalizing', 'buffer', 'close', 'closed', 'detach', 'encoding', 'errors', 'fileno', 'flush', 'isatty', 'line_buffering', 'mode', 'name', 'newlines', 'read', 'readable', 'readline', 'readlines', 'seek', 'seekable', 'tell', 'truncate', 'writable', 'write', 'writelines']\n"
     ]
    }
   ],
   "source": [
    "print(file_stream)\n",
    "print(type(file_stream))\n",
    "print(dir(file_stream))"
   ]
  },
  {
   "cell_type": "markdown",
   "metadata": {},
   "source": [
    "## Context management"
   ]
  },
  {
   "cell_type": "markdown",
   "metadata": {},
   "source": [
    "### `__enter__` and `__exit__`\n",
    "\n",
    "- Returning `True` from `__exit__()` means the exception was already handled."
   ]
  },
  {
   "cell_type": "code",
   "execution_count": 99,
   "metadata": {},
   "outputs": [
    {
     "name": "stdout",
     "output_type": "stream",
     "text": [
      "__enter__() called\n",
      "1 H\n",
      "2 e\n",
      "3 llo World\n",
      "4 \n",
      "5 \n",
      "6 \n",
      "__exit__() called\n",
      "7 None\n"
     ]
    }
   ],
   "source": [
    "class MyCharStream:\n",
    "    def __init__(self, text):\n",
    "        self.text = text\n",
    "        self.open = True\n",
    "        self.index = 0\n",
    "    def close(self):\n",
    "        self.open = False\n",
    "    def read_char(self):\n",
    "        if not self.open:\n",
    "            return\n",
    "        if self.index < len(self.text):\n",
    "            c = self.text[self.index]\n",
    "            self.index += 1\n",
    "            return c\n",
    "        else:\n",
    "            return \"\"\n",
    "    def read(self):\n",
    "        if not self.open:\n",
    "            return\n",
    "        if self.index < len(self.text):\n",
    "            t = self.text[self.index:]\n",
    "            self.index = len(self.text)\n",
    "            return t\n",
    "        else:\n",
    "            return \"\"\n",
    "    def __enter__(self):\n",
    "        print(\"__enter__() called\")\n",
    "        return self\n",
    "    def __exit__(self, exc_type, exc_val, exc_tb):\n",
    "        print(\"__exit__() called\")\n",
    "        self.close()\n",
    "        \n",
    "\n",
    "def my_char_stream_open(text):\n",
    "    return MyCharStream(text)\n",
    "\n",
    "with my_char_stream_open(\"Hello World\") as stream:\n",
    "    print(1, stream.read_char())\n",
    "    print(2, stream.read_char())\n",
    "    print(3, stream.read())\n",
    "    print(4, stream.read())\n",
    "    print(5, stream.read_char())\n",
    "    print(6, stream.read_char())\n",
    "\n",
    "print(7, stream.read_char())"
   ]
  },
  {
   "cell_type": "markdown",
   "metadata": {},
   "source": [
    "### Using `contextlib.contextmanager`\n",
    "\n",
    "- With @contextmanager, all exceptions raised in the `with` block will be propgated to the yield statement.\n",
    "  -  Use `try` and `finally` blocks surrounding the `yield` statment to make sure the statements after the `yield` statement is executed."
   ]
  },
  {
   "cell_type": "code",
   "execution_count": 100,
   "metadata": {},
   "outputs": [
    {
     "name": "stdout",
     "output_type": "stream",
     "text": [
      "closed\n",
      "closed\n",
      "closed\n",
      "closed\n",
      "closed\n",
      "closed\n",
      "closed\n",
      "closed\n",
      "closed\n",
      "closed\n"
     ]
    }
   ],
   "source": [
    "# Source: https://jeffknupp.com/blog/2016/03/07/python-with-context-managers/\n",
    "\n",
    "from contextlib import contextmanager\n",
    "\n",
    "@contextmanager\n",
    "def open_file(path, mode):\n",
    "    the_file = open(path, mode)\n",
    "    try:\n",
    "        yield the_file\n",
    "    finally:\n",
    "        the_file.close()\n",
    "\n",
    "files = []\n",
    "\n",
    "for x in range(10):\n",
    "    with open_file('foo.txt', 'w') as infile:\n",
    "        files.append(infile)\n",
    "\n",
    "for f in files:\n",
    "    if not f.closed:\n",
    "        print('not closed')\n",
    "    else:\n",
    "        print('closed')"
   ]
  },
  {
   "cell_type": "code",
   "execution_count": 101,
   "metadata": {},
   "outputs": [
    {
     "name": "stdout",
     "output_type": "stream",
     "text": [
      "closed\n",
      "closed\n",
      "closed\n",
      "closed\n",
      "closed\n",
      "closed\n",
      "closed\n",
      "closed\n",
      "closed\n",
      "closed\n"
     ]
    }
   ],
   "source": [
    "# Source: https://docs.python.org/3/library/contextlib.html#contextlib.ExitStack\n",
    "\n",
    "from contextlib import contextmanager, ExitStack\n",
    "\n",
    "@contextmanager\n",
    "def open_file(path, mode):\n",
    "    the_file = open(path, mode)\n",
    "    try:\n",
    "        yield the_file\n",
    "    finally:\n",
    "        the_file.close()\n",
    "\n",
    "files = []\n",
    "\n",
    "with ExitStack() as stack:\n",
    "    files = [stack.enter_context(open_file('foo.txt', \"w\")) for i in range(10)]\n",
    "\n",
    "for f in files:\n",
    "    if not f.closed:\n",
    "        print('not closed')\n",
    "    else:\n",
    "        print('closed')"
   ]
  },
  {
   "cell_type": "markdown",
   "metadata": {},
   "source": [
    "\n",
    "## Class"
   ]
  },
  {
   "cell_type": "code",
   "execution_count": 102,
   "metadata": {},
   "outputs": [
    {
     "name": "stdout",
     "output_type": "stream",
     "text": [
      "static initialization\n"
     ]
    }
   ],
   "source": [
    "class MyClass:\n",
    "    print(\"static initialization\")\n",
    "    name = \"Jackson\"\n",
    "    \n",
    "    @staticmethod\n",
    "    def foo():\n",
    "        print(\"staticmethod foo()\")\n",
    "\n",
    "    @classmethod\n",
    "    def bar(cls):\n",
    "        print(\"classmethod bar()\", cls.name)\n",
    "        \n",
    "    def __new__(cls, name):\n",
    "        print(\"__new__()\", name)\n",
    "        return object.__new__(cls)\n",
    "\n",
    "    def __init__(self, name):\n",
    "        self.__name = name\n",
    "        print(\"__init__()\", self.name)\n",
    "    \n",
    "    def baz(self):\n",
    "        print(\"baz()\", self.name)"
   ]
  },
  {
   "cell_type": "code",
   "execution_count": 103,
   "metadata": {},
   "outputs": [
    {
     "name": "stdout",
     "output_type": "stream",
     "text": [
      "staticmethod foo()\n",
      "classmethod bar() Jackson\n"
     ]
    }
   ],
   "source": [
    "MyClass.foo()\n",
    "MyClass.bar()"
   ]
  },
  {
   "cell_type": "code",
   "execution_count": 104,
   "metadata": {},
   "outputs": [
    {
     "name": "stdout",
     "output_type": "stream",
     "text": [
      "__new__() Jackson\n",
      "__init__() Jackson\n"
     ]
    }
   ],
   "source": [
    "mc = MyClass(\"Jackson\")"
   ]
  },
  {
   "cell_type": "code",
   "execution_count": 105,
   "metadata": {},
   "outputs": [
    {
     "name": "stdout",
     "output_type": "stream",
     "text": [
      "baz() Jackson\n"
     ]
    },
    {
     "data": {
      "text/plain": [
       "'Jackson'"
      ]
     },
     "execution_count": 105,
     "metadata": {},
     "output_type": "execute_result"
    }
   ],
   "source": [
    "mc.baz()\n",
    "mc.name"
   ]
  },
  {
   "cell_type": "code",
   "execution_count": 106,
   "metadata": {},
   "outputs": [],
   "source": [
    "class YourClass(MyClass):\n",
    "    def baz(self):\n",
    "        print(\"baz()baz()\", self.name)"
   ]
  },
  {
   "cell_type": "code",
   "execution_count": 107,
   "metadata": {},
   "outputs": [
    {
     "name": "stdout",
     "output_type": "stream",
     "text": [
      "staticmethod foo()\n",
      "classmethod bar() Jackson\n"
     ]
    }
   ],
   "source": [
    "YourClass.foo()\n",
    "YourClass.bar()"
   ]
  },
  {
   "cell_type": "code",
   "execution_count": 108,
   "metadata": {},
   "outputs": [
    {
     "name": "stdout",
     "output_type": "stream",
     "text": [
      "__new__() Billy\n",
      "__init__() Jackson\n"
     ]
    }
   ],
   "source": [
    "yc = YourClass(\"Billy\")"
   ]
  },
  {
   "cell_type": "code",
   "execution_count": 109,
   "metadata": {},
   "outputs": [
    {
     "name": "stdout",
     "output_type": "stream",
     "text": [
      "baz()baz() Jackson\n"
     ]
    }
   ],
   "source": [
    "yc.baz()"
   ]
  },
  {
   "cell_type": "code",
   "execution_count": 110,
   "metadata": {},
   "outputs": [
    {
     "name": "stdout",
     "output_type": "stream",
     "text": [
      "<class 'object'>\n",
      "<class '__main__.MyClass'>\n",
      "True\n",
      "<class '__main__.YourClass'>\n",
      "<class 'type'>\n",
      "<class 'type'>\n"
     ]
    }
   ],
   "source": [
    "print(MyClass.__base__)\n",
    "print(YourClass.__base__)\n",
    "print(isinstance(yc, MyClass))\n",
    "print(type(yc))\n",
    "print(type(MyClass))\n",
    "print(MyClass.__class__)"
   ]
  },
  {
   "cell_type": "code",
   "execution_count": 111,
   "metadata": {},
   "outputs": [
    {
     "name": "stdout",
     "output_type": "stream",
     "text": [
      "True\n",
      "True\n",
      "True\n"
     ]
    }
   ],
   "source": [
    "import numbers\n",
    "\n",
    "print(isinstance(1, numbers.Integral))\n",
    "print(isinstance(True, numbers.Integral))\n",
    "print(isinstance(1.0, numbers.Real))"
   ]
  },
  {
   "cell_type": "code",
   "execution_count": 112,
   "metadata": {},
   "outputs": [
    {
     "name": "stdout",
     "output_type": "stream",
     "text": [
      "True\n",
      "False\n",
      "True\n"
     ]
    }
   ],
   "source": [
    "import collections\n",
    "print(isinstance(\"hello\", collections.Sequence))\n",
    "print(isinstance({}, collections.Sequence))\n",
    "print(isinstance({}, collections.Mapping))"
   ]
  },
  {
   "cell_type": "code",
   "execution_count": 113,
   "metadata": {},
   "outputs": [
    {
     "name": "stdout",
     "output_type": "stream",
     "text": [
      "1 1 1\n",
      "1 2 1\n",
      "3 2 3\n"
     ]
    }
   ],
   "source": [
    "class A(object):\n",
    "    x = 1\n",
    "\n",
    "class B(A):\n",
    "    pass\n",
    "\n",
    "class C(A):\n",
    "    pass\n",
    "\n",
    "print(A.x, B.x, C.x)\n",
    "B.x = 2\n",
    "print(A.x, B.x, C.x)\n",
    "A.x = 3\n",
    "print(A.x, B.x, C.x) # ?!"
   ]
  },
  {
   "cell_type": "code",
   "execution_count": 114,
   "metadata": {},
   "outputs": [
    {
     "name": "stdout",
     "output_type": "stream",
     "text": [
      "[<class '__main__.A'>, <class 'object'>]\n",
      "[<class '__main__.B'>, <class '__main__.A'>, <class 'object'>]\n",
      "[<class '__main__.C'>, <class '__main__.A'>, <class 'object'>]\n"
     ]
    }
   ],
   "source": [
    "print(A.mro())\n",
    "print(B.mro())\n",
    "print(C.mro())"
   ]
  },
  {
   "cell_type": "code",
   "execution_count": 115,
   "metadata": {},
   "outputs": [
    {
     "name": "stdout",
     "output_type": "stream",
     "text": [
      "{'__module__': '__main__', 'x': 3, '__dict__': <attribute '__dict__' of 'A' objects>, '__weakref__': <attribute '__weakref__' of 'A' objects>, '__doc__': None}\n",
      "{'__module__': '__main__', '__doc__': None, 'x': 2}\n",
      "{'__module__': '__main__', '__doc__': None}\n"
     ]
    }
   ],
   "source": [
    "print(A.__dict__)\n",
    "print(B.__dict__)\n",
    "print(C.__dict__)"
   ]
  },
  {
   "cell_type": "code",
   "execution_count": 116,
   "metadata": {},
   "outputs": [
    {
     "name": "stdout",
     "output_type": "stream",
     "text": [
      "{'i': 10}\n",
      "{'i': 10, 'j': 20}\n",
      "{'k': 30, 'l': 40}\n"
     ]
    }
   ],
   "source": [
    "class A(object):\n",
    "    x = 1\n",
    "    def __init__(self):\n",
    "        self.i = 10\n",
    "\n",
    "class B(A):\n",
    "    def __init__(self):\n",
    "        super().__init__()\n",
    "        self.j = 20\n",
    "    pass\n",
    "\n",
    "class C(A):\n",
    "    def __init__(self):\n",
    "        self.k = 30\n",
    "    pass\n",
    "\n",
    "a = A()\n",
    "b = B()\n",
    "c = C()\n",
    "c.l = 40\n",
    "# print(A.__dict__)\n",
    "# print(B.__dict__)\n",
    "# print(C.__dict__)\n",
    "print(a.__dict__)\n",
    "print(b.__dict__)\n",
    "print(c.__dict__)"
   ]
  },
  {
   "cell_type": "markdown",
   "metadata": {},
   "source": [
    "## Decorators"
   ]
  },
  {
   "cell_type": "code",
   "execution_count": 117,
   "metadata": {},
   "outputs": [
    {
     "name": "stdout",
     "output_type": "stream",
     "text": [
      "Initializing deocrator. <function say_whee at 0x7faabdfbea60>\n"
     ]
    }
   ],
   "source": [
    "def my_decorator(func):\n",
    "    print(\"Initializing deocrator.\", func)\n",
    "    def wrapper(*args, **kwargs):\n",
    "        \"\"\"This is just a wrapper()\"\"\"\n",
    "        print(\"Doing something before the function is called.\")\n",
    "        func(*args, **kwargs)\n",
    "        print(\"Doing something after the function is called.\")\n",
    "    return wrapper\n",
    "\n",
    "@my_decorator\n",
    "def say_whee():\n",
    "    \"\"\"Says 'Whee!'\"\"\"\n",
    "    print(\"Whee!\")"
   ]
  },
  {
   "cell_type": "code",
   "execution_count": 118,
   "metadata": {},
   "outputs": [
    {
     "name": "stdout",
     "output_type": "stream",
     "text": [
      "Doing something before the function is called.\n",
      "Whee!\n",
      "Doing something after the function is called.\n",
      "This is just a wrapper()\n",
      "wrapper\n"
     ]
    }
   ],
   "source": [
    "say_whee()\n",
    "print(say_whee.__doc__)\n",
    "print(say_whee.__name__)"
   ]
  },
  {
   "cell_type": "code",
   "execution_count": 119,
   "metadata": {},
   "outputs": [
    {
     "name": "stdout",
     "output_type": "stream",
     "text": [
      "Initializing deocrator. <function say_whee at 0x7faabdfbe510>\n",
      "Doing something before the function is called.\n",
      "Whee!\n",
      "Doing something after the function is called.\n",
      "Says 'Whee!'\n",
      "say_whee\n"
     ]
    }
   ],
   "source": [
    "#keep function description using functools.wraps.\n",
    "\n",
    "import functools\n",
    "\n",
    "def my_decorator(func):\n",
    "    print(\"Initializing deocrator.\", func)\n",
    "    \n",
    "    @functools.wraps(func)\n",
    "    def wrapper(*args, **kwargs):\n",
    "        \"\"\"This is just a wrapper()\"\"\"\n",
    "        print(\"Doing something before the function is called.\")\n",
    "        func(*args, **kwargs)\n",
    "        print(\"Doing something after the function is called.\")\n",
    "    return wrapper\n",
    "\n",
    "@my_decorator\n",
    "def say_whee():\n",
    "    \"\"\"Says 'Whee!'\"\"\"\n",
    "    print(\"Whee!\")\n",
    "    \n",
    "say_whee()\n",
    "print(say_whee.__doc__)\n",
    "print(say_whee.__name__)"
   ]
  },
  {
   "cell_type": "code",
   "execution_count": 120,
   "metadata": {},
   "outputs": [
    {
     "name": "stdout",
     "output_type": "stream",
     "text": [
      "Initializing deocrator. <function say_yay at 0x7faabdf9d488>\n"
     ]
    }
   ],
   "source": [
    "def twice(func):\n",
    "    print(\"Initializing deocrator.\", func)\n",
    "    def wrapper(*args, **kwargs):\n",
    "        print(\"Doing something before the function is called.\")\n",
    "        func(*args, **kwargs)\n",
    "        func(*args, **kwargs)\n",
    "        print(\"Doing something after the function is called.\")\n",
    "    return wrapper\n",
    "\n",
    "@twice\n",
    "def say_yay():\n",
    "    print(\"Yay!\")"
   ]
  },
  {
   "cell_type": "code",
   "execution_count": 121,
   "metadata": {},
   "outputs": [
    {
     "name": "stdout",
     "output_type": "stream",
     "text": [
      "Doing something before the function is called.\n",
      "Yay!\n",
      "Yay!\n",
      "Doing something after the function is called.\n"
     ]
    }
   ],
   "source": [
    "say_yay()"
   ]
  },
  {
   "cell_type": "code",
   "execution_count": 122,
   "metadata": {},
   "outputs": [
    {
     "name": "stdout",
     "output_type": "stream",
     "text": [
      "Whee~ Billy!\n",
      "Whee~ Billy!\n",
      "Whee~ Billy!\n",
      "Whee~ Billy!\n",
      "Whee~ Billy!\n",
      "Says 'Whee~' to someone\n",
      "say_whee\n"
     ]
    }
   ],
   "source": [
    "#decorator with a parameter\n",
    "\n",
    "import functools\n",
    "\n",
    "def multi(num=1):\n",
    "    def inner(func):\n",
    "        @functools.wraps(func)\n",
    "        def wrapper(*args, **kwargs):\n",
    "            for i in range(num):\n",
    "                func(*args, **kwargs)\n",
    "        return wrapper\n",
    "    return inner\n",
    "\n",
    "@multi(5)\n",
    "def say_whee(name=\"Jack\"):\n",
    "    \"\"\"Says 'Whee~' to someone\"\"\"\n",
    "    print(\"Whee~ {}!\".format(name))\n",
    "\n",
    "say_whee(\"Billy\")\n",
    "print(say_whee.__doc__)\n",
    "print(say_whee.__name__)"
   ]
  },
  {
   "cell_type": "markdown",
   "metadata": {},
   "source": [
    "## Meta classes\n",
    "\n",
    "https://realpython.com/python-metaclasses/"
   ]
  },
  {
   "cell_type": "code",
   "execution_count": 123,
   "metadata": {},
   "outputs": [
    {
     "name": "stdout",
     "output_type": "stream",
     "text": [
      "x: <__main__.Foo object at 0x7faabdf55080>\n",
      "Foo.__class__: <class 'type'>\n",
      "Foo.__base__: <class 'object'>\n",
      "Foo.__dict__: {'v': 10, '__module__': '__main__', '__dict__': <attribute '__dict__' of 'Foo' objects>, '__weakref__': <attribute '__weakref__' of 'Foo' objects>, '__doc__': None}\n",
      "Foo.v: 10\n"
     ]
    }
   ],
   "source": [
    "# type() function to create a new instance of the `type` metaclass\n",
    "\n",
    "Foo = type('Foo', (), dict(v=10))\n",
    "x = Foo()\n",
    "print(\"x:\", x)\n",
    "print(\"Foo.__class__:\", Foo.__class__)\n",
    "print(\"Foo.__base__:\", Foo.__base__)\n",
    "print(\"Foo.__dict__:\", Foo.__dict__ )\n",
    "print(\"Foo.v:\", Foo.v)"
   ]
  },
  {
   "cell_type": "code",
   "execution_count": 124,
   "metadata": {},
   "outputs": [
    {
     "name": "stdout",
     "output_type": "stream",
     "text": [
      "y: <__main__.Bar object at 0x7faabdf55978>\n",
      "Bar.__class__: <class 'type'>\n",
      "Bar.__base__: <class '__main__.Foo'>\n",
      "Bar.__dict__: {'w': 11, '__module__': '__main__', '__doc__': None}\n",
      "Bar.w: 11\n",
      "Bar.v: 10\n"
     ]
    }
   ],
   "source": [
    "Bar = type('Bar', (Foo,), dict(w=11))\n",
    "y = Bar()\n",
    "print(\"y:\", y)\n",
    "print(\"Bar.__class__:\", Bar.__class__)\n",
    "print(\"Bar.__base__:\", Bar.__base__)\n",
    "print(\"Bar.__dict__:\", Bar.__dict__ )\n",
    "print(\"Bar.w:\", Bar.w)\n",
    "print(\"Bar.v:\", Bar.v)"
   ]
  },
  {
   "cell_type": "code",
   "execution_count": 125,
   "metadata": {},
   "outputs": [
    {
     "name": "stdout",
     "output_type": "stream",
     "text": [
      "m: <__main__.MyClass object at 0x7faabdf55d30>\n",
      "m.__class__: <class '__main__.MyClass'>\n",
      "m.__class__.__base__: <class 'object'>\n",
      "m.v: 100\n"
     ]
    }
   ],
   "source": [
    "class MyMeta(type):\n",
    "    def __new__(cls, name, bases, dct):\n",
    "        x = super().__new__(cls, name, bases, dct)\n",
    "        x.v = 100\n",
    "        return x\n",
    "\n",
    "class MyClass(metaclass=MyMeta):\n",
    "    pass\n",
    "\n",
    "m = MyClass()\n",
    "print(\"m:\", m)\n",
    "print(\"m.__class__:\", m.__class__)\n",
    "print(\"m.__class__.__base__:\", m.__class__.__base__)\n",
    "print(\"m.v:\", m.v)"
   ]
  },
  {
   "cell_type": "markdown",
   "metadata": {},
   "source": [
    "## Abastract Base Classes"
   ]
  },
  {
   "cell_type": "code",
   "execution_count": 126,
   "metadata": {},
   "outputs": [],
   "source": [
    "from abc import ABCMeta\n",
    "\n",
    "class MyABC(metaclass=ABCMeta):\n",
    "    pass"
   ]
  },
  {
   "cell_type": "code",
   "execution_count": 127,
   "metadata": {},
   "outputs": [
    {
     "name": "stdout",
     "output_type": "stream",
     "text": [
      "<class '__main__.MyABC'>\n",
      "<class 'abc.ABCMeta'>\n",
      "<class 'type'>\n"
     ]
    }
   ],
   "source": [
    "print(MyABC)\n",
    "print(MyABC.__class__)\n",
    "print(MyABC.__class__.__class__)"
   ]
  },
  {
   "cell_type": "code",
   "execution_count": 128,
   "metadata": {},
   "outputs": [],
   "source": [
    "# https://realpython.com/inheritance-composition-python/\n",
    "\n",
    "from abc import ABC, abstractmethod\n",
    "\n",
    "class Employee(ABC):\n",
    "    def __init__(self, id, name):\n",
    "        self.id = id\n",
    "        self.name = name\n",
    "\n",
    "    @abstractmethod\n",
    "    def calculate_payroll(self):\n",
    "        pass"
   ]
  },
  {
   "cell_type": "code",
   "execution_count": 129,
   "metadata": {},
   "outputs": [],
   "source": [
    "#employee = Employee(1, 'abstract')"
   ]
  },
  {
   "cell_type": "code",
   "execution_count": 130,
   "metadata": {},
   "outputs": [],
   "source": [
    "class DisgruntledEmployee:\n",
    "    def __init__(self, id, name):\n",
    "        self.id = id\n",
    "        self.name = name\n",
    "\n",
    "    def calculate_payroll(self):\n",
    "        return 1000000"
   ]
  },
  {
   "cell_type": "code",
   "execution_count": 131,
   "metadata": {},
   "outputs": [
    {
     "data": {
      "text/plain": [
       "<__main__.DisgruntledEmployee at 0x7faabdf55f60>"
      ]
     },
     "execution_count": 131,
     "metadata": {},
     "output_type": "execute_result"
    }
   ],
   "source": [
    "employee = DisgruntledEmployee(1, 'abstract')\n",
    "employee"
   ]
  },
  {
   "cell_type": "markdown",
   "metadata": {},
   "source": [
    "## Profile\n",
    "\n",
    "https://docs.python.org/3/library/profile.html"
   ]
  },
  {
   "cell_type": "code",
   "execution_count": 132,
   "metadata": {},
   "outputs": [
    {
     "name": "stdout",
     "output_type": "stream",
     "text": [
      "         1664082 function calls (4 primitive calls) in 2.399 seconds\n",
      "\n",
      "   Ordered by: standard name\n",
      "\n",
      "   ncalls  tottime  percall  cumtime  percall filename:lineno(function)\n",
      "1664079/1    2.399    0.000    2.399    2.399 <ipython-input-132-9c9fe1d4bcdf>:3(fibo)\n",
      "        1    0.000    0.000    2.399    2.399 <string>:1(<module>)\n",
      "        1    0.000    0.000    2.399    2.399 {built-in method builtins.exec}\n",
      "        1    0.000    0.000    0.000    0.000 {method 'disable' of '_lsprof.Profiler' objects}\n",
      "\n",
      "\n",
      "         60 function calls (4 primitive calls) in 0.000 seconds\n",
      "\n",
      "   Ordered by: standard name\n",
      "\n",
      "   ncalls  tottime  percall  cumtime  percall filename:lineno(function)\n",
      "     57/1    0.000    0.000    0.000    0.000 <ipython-input-132-9c9fe1d4bcdf>:13(fibo_with_cache)\n",
      "        1    0.000    0.000    0.000    0.000 <string>:1(<module>)\n",
      "        1    0.000    0.000    0.000    0.000 {built-in method builtins.exec}\n",
      "        1    0.000    0.000    0.000    0.000 {method 'disable' of '_lsprof.Profiler' objects}\n",
      "\n",
      "\n"
     ]
    }
   ],
   "source": [
    "import cProfile\n",
    "\n",
    "def fibo(n):\n",
    "    if n == 1:\n",
    "        return 1\n",
    "    if n == 2:\n",
    "        return 1\n",
    "    return fibo(n - 2) + fibo(n - 1)\n",
    "\n",
    "# with cache\n",
    "cache = {}\n",
    "\n",
    "def fibo_with_cache(n):\n",
    "    if n in cache:\n",
    "        return cache[n]\n",
    "    if n == 1:\n",
    "        v = 1\n",
    "    elif n == 2:\n",
    "        v = 2\n",
    "    else:\n",
    "        v = fibo_with_cache(n - 2) + fibo_with_cache(n - 1)\n",
    "    cache[n] = v\n",
    "    return v\n",
    "\n",
    "cProfile.run('fibo(30)')\n",
    "cProfile.run('fibo_with_cache(30)')"
   ]
  },
  {
   "cell_type": "markdown",
   "metadata": {},
   "source": [
    "## References\n",
    "\n",
    "- https://www.toptal.com/python/top-10-mistakes-that-python-programmers-make\n",
    "- https://jeffknupp.com/blog/2016/03/07/python-with-context-managers/"
   ]
  }
 ],
 "metadata": {
  "kernelspec": {
   "display_name": "Python 3",
   "language": "python",
   "name": "python3"
  },
  "language_info": {
   "codemirror_mode": {
    "name": "ipython",
    "version": 3
   },
   "file_extension": ".py",
   "mimetype": "text/x-python",
   "name": "python",
   "nbconvert_exporter": "python",
   "pygments_lexer": "ipython3",
   "version": "3.6.8"
  }
 },
 "nbformat": 4,
 "nbformat_minor": 2
}
