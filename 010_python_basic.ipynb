{
 "cells": [
  {
   "cell_type": "code",
   "execution_count": 1,
   "metadata": {},
   "outputs": [],
   "source": [
    "a = 4"
   ]
  },
  {
   "cell_type": "code",
   "execution_count": 2,
   "metadata": {},
   "outputs": [
    {
     "name": "stdout",
     "output_type": "stream",
     "text": [
      "less than or equal\n",
      "there\n"
     ]
    }
   ],
   "source": [
    "if a > 4:\n",
    "    print(\"large\")\n",
    "    print(\"hi\")\n",
    "else:\n",
    "    print(\"less than or equal\")\n",
    "    print(\"there\")"
   ]
  },
  {
   "cell_type": "code",
   "execution_count": 3,
   "metadata": {},
   "outputs": [
    {
     "name": "stdout",
     "output_type": "stream",
     "text": [
      "4\n",
      "3\n",
      "2\n",
      "1\n"
     ]
    }
   ],
   "source": [
    "while a > 0:\n",
    "    print(a)\n",
    "    a = a - 1"
   ]
  },
  {
   "cell_type": "code",
   "execution_count": 4,
   "metadata": {},
   "outputs": [
    {
     "name": "stdout",
     "output_type": "stream",
     "text": [
      "0\n",
      "1\n",
      "2\n",
      "3\n",
      "4\n",
      "5\n",
      "6\n",
      "7\n",
      "8\n",
      "9\n"
     ]
    }
   ],
   "source": [
    "for i in range(10):\n",
    "    print(i)"
   ]
  },
  {
   "cell_type": "code",
   "execution_count": 5,
   "metadata": {},
   "outputs": [
    {
     "name": "stdout",
     "output_type": "stream",
     "text": [
      "H\n",
      "e\n",
      "l\n",
      "l\n",
      "o\n"
     ]
    }
   ],
   "source": [
    "for i in \"Hello\":\n",
    "    print(i)"
   ]
  },
  {
   "cell_type": "code",
   "execution_count": 6,
   "metadata": {},
   "outputs": [],
   "source": [
    "def add(a,b):\n",
    "    return a + b"
   ]
  },
  {
   "cell_type": "code",
   "execution_count": 7,
   "metadata": {},
   "outputs": [
    {
     "data": {
      "text/plain": [
       "8"
      ]
     },
     "execution_count": 7,
     "metadata": {},
     "output_type": "execute_result"
    }
   ],
   "source": [
    "add(3,5)"
   ]
  },
  {
   "cell_type": "code",
   "execution_count": 8,
   "metadata": {},
   "outputs": [],
   "source": [
    "class Op:\n",
    "    def add(self, a, b):\n",
    "        print(self)\n",
    "        return a + b"
   ]
  },
  {
   "cell_type": "code",
   "execution_count": 9,
   "metadata": {},
   "outputs": [],
   "source": [
    "op = Op()"
   ]
  },
  {
   "cell_type": "code",
   "execution_count": 10,
   "metadata": {},
   "outputs": [
    {
     "name": "stdout",
     "output_type": "stream",
     "text": [
      "<__main__.Op object at 0x7f39d0254630>\n"
     ]
    },
    {
     "data": {
      "text/plain": [
       "6"
      ]
     },
     "execution_count": 10,
     "metadata": {},
     "output_type": "execute_result"
    }
   ],
   "source": [
    "op.add(2,4)"
   ]
  },
  {
   "cell_type": "code",
   "execution_count": 11,
   "metadata": {},
   "outputs": [
    {
     "name": "stdout",
     "output_type": "stream",
     "text": [
      "<__main__.Op object at 0x7f39d0254630>\n"
     ]
    }
   ],
   "source": [
    "print(op)"
   ]
  },
  {
   "cell_type": "code",
   "execution_count": null,
   "metadata": {},
   "outputs": [],
   "source": [
    "import sys\n",
    "print(sys.version)"
   ]
  },
  {
   "cell_type": "code",
   "execution_count": null,
   "metadata": {},
   "outputs": [],
   "source": [
    "def mean(a, b):\n",
    "    return a + b"
   ]
  },
  {
   "cell_type": "code",
   "execution_count": null,
   "metadata": {},
   "outputs": [],
   "source": [
    "print(\"hi\")"
   ]
  },
  {
   "cell_type": "code",
   "execution_count": null,
   "metadata": {},
   "outputs": [],
   "source": [
    "1 + 2 * 3 + 5"
   ]
  },
  {
   "cell_type": "code",
   "execution_count": null,
   "metadata": {
    "scrolled": true
   },
   "outputs": [],
   "source": [
    "a = 7\n",
    "c = b = a + 1\n",
    "print(a,b,c)"
   ]
  },
  {
   "cell_type": "code",
   "execution_count": null,
   "metadata": {},
   "outputs": [],
   "source": [
    "d, e = a, b\n",
    "print(d,e)"
   ]
  },
  {
   "cell_type": "code",
   "execution_count": null,
   "metadata": {},
   "outputs": [],
   "source": [
    "mydict = {'a': 3, 'b': 4, 'c': 5}\n",
    "mydict['a']"
   ]
  },
  {
   "cell_type": "code",
   "execution_count": null,
   "metadata": {},
   "outputs": [],
   "source": [
    "keyset = set(mydict)\n",
    "myset = set()\n",
    "print(keyset)\n",
    "print(myset)"
   ]
  },
  {
   "cell_type": "code",
   "execution_count": null,
   "metadata": {},
   "outputs": [],
   "source": [
    "for k in mydict:\n",
    "  myset.add(mydict[k])\n",
    "\n",
    "print(myset)"
   ]
  },
  {
   "cell_type": "code",
   "execution_count": null,
   "metadata": {},
   "outputs": [],
   "source": [
    "mylist = []\n",
    "for k in mydict:\n",
    "  mylist.append(k * mydict[k])\n",
    "\n",
    "print(mylist)"
   ]
  },
  {
   "cell_type": "code",
   "execution_count": null,
   "metadata": {},
   "outputs": [],
   "source": [
    "print(mylist[0])\n",
    "mytuple = tuple(mylist)\n",
    "print(mytuple)"
   ]
  },
  {
   "cell_type": "markdown",
   "metadata": {},
   "source": [
    "## range()"
   ]
  },
  {
   "cell_type": "code",
   "execution_count": null,
   "metadata": {},
   "outputs": [],
   "source": [
    "r = range(4)\n",
    "for i in r:\n",
    "  print(i)"
   ]
  },
  {
   "cell_type": "code",
   "execution_count": null,
   "metadata": {},
   "outputs": [],
   "source": [
    "type(r)"
   ]
  },
  {
   "cell_type": "code",
   "execution_count": null,
   "metadata": {},
   "outputs": [],
   "source": [
    "# implement a custom range class\n",
    "class MyRange1:\n",
    "    def __init__(self, first_idx:int, second_idx = None):\n",
    "        print(\"__init__() called\")\n",
    "        if second_idx is None:\n",
    "            self.start_idx = 0\n",
    "            self.end_idx = first_idx\n",
    "        else:\n",
    "            self.start_idx = first_idx\n",
    "            self.end_idx = second_idx\n",
    "        self.len = self.end_idx - self.start_idx\n",
    "    def __getitem__(self, idx):\n",
    "        print(\"__getitem__() called.\")\n",
    "        if idx < self.len:\n",
    "            print(\"__getitem__() returns a value.\")\n",
    "            return self.start_idx + idx\n",
    "        else:\n",
    "            print(\"__getitem__() raises IndexError.\")\n",
    "            raise IndexError('index out of range')\n",
    "\n",
    "r = MyRange1(3, 5)\n",
    "\n",
    "for k in r:\n",
    "    print(k)"
   ]
  },
  {
   "cell_type": "markdown",
   "metadata": {},
   "source": [
    "## Generator"
   ]
  },
  {
   "cell_type": "code",
   "execution_count": null,
   "metadata": {},
   "outputs": [],
   "source": [
    "def gen():\n",
    "    print('inside gen() 1')\n",
    "    yield 'first_value'\n",
    "    print('inside gen() 2')\n",
    "    yield 'second_value'\n",
    "    print('inside gen() 3')\n",
    "    yield 'third_value'\n",
    "    print('inside gen() 4')\n",
    "    yield 'fourth_value'\n",
    "    print('inside gen() 5')\n",
    "\n",
    "g1 = gen()\n",
    "print('g1 created', g1)\n",
    "print(\"next(g1) called #1\", next(g1))\n",
    "print(\"next(g1) called #2\", next(g1))\n",
    "print(\"next(g1) called #3\", next(g1))\n",
    "print(\"next(g1) called #4\", next(g1))\n",
    "# print(\"next(g1) called #5\", next(g1)) # StopIteration will occur\n",
    "\n",
    "print()\n",
    "print(dir(g1))"
   ]
  },
  {
   "cell_type": "code",
   "execution_count": null,
   "metadata": {},
   "outputs": [],
   "source": [
    "g2 = gen()\n",
    "print('g2 created', g2)\n",
    "print(\"g2.__next__() called #1\", g2.__next__())\n",
    "print(\"g2.__next__() called #2\", g2.__next__())\n",
    "print(\"g2.__next__() called #3\", g2.__next__())\n",
    "print(\"g2.__next__() called #4\", g2.__next__())\n",
    "# print(\"g2.__next__() called #5\", g2.__next__())# StopIteration will occur"
   ]
  },
  {
   "cell_type": "code",
   "execution_count": null,
   "metadata": {},
   "outputs": [],
   "source": [
    "g3 = gen()\n",
    "for i in g3:\n",
    "    print(i)"
   ]
  },
  {
   "cell_type": "code",
   "execution_count": null,
   "metadata": {},
   "outputs": [],
   "source": [
    "# implement a custom range class as a generator\n",
    "class MyRange2:\n",
    "    def __init__(self, first_idx:int, second_idx = None):\n",
    "        if second_idx is None:\n",
    "            self.start_idx = 0\n",
    "            self.end_idx = first_idx\n",
    "        else:\n",
    "            self.start_idx = first_idx\n",
    "            self.end_idx = second_idx\n",
    "        self.len = self.end_idx - self.start_idx\n",
    "        self.idx = 0\n",
    "    def __next__(self):\n",
    "        print(\"__next__() called.\")\n",
    "        if self.idx < self.len:\n",
    "            print(\"__next__() returns a value.\")\n",
    "            value = self.start_idx + self.idx\n",
    "            self.idx += 1\n",
    "            return value\n",
    "        else:\n",
    "            print(\"__next__() raises StopIteration.\")\n",
    "            raise StopIteration('iteration done')\n",
    "        \n",
    "    def __iter__(self):\n",
    "        print(\"__iter__() called.\")\n",
    "        return self\n",
    "        \n",
    "\n",
    "r = MyRange2(3, 5)\n",
    "\n",
    "for k in r:\n",
    "    print(k)"
   ]
  },
  {
   "cell_type": "markdown",
   "metadata": {},
   "source": [
    "## lambda function"
   ]
  },
  {
   "cell_type": "code",
   "execution_count": null,
   "metadata": {},
   "outputs": [],
   "source": [
    "f = lambda x: x + 1\n",
    "f(3)"
   ]
  },
  {
   "cell_type": "code",
   "execution_count": null,
   "metadata": {},
   "outputs": [],
   "source": [
    "def f(x):\n",
    "    return x + 1\n",
    "f(3)"
   ]
  },
  {
   "cell_type": "code",
   "execution_count": null,
   "metadata": {},
   "outputs": [],
   "source": [
    "(lambda x: x + 1)(4)"
   ]
  },
  {
   "cell_type": "markdown",
   "metadata": {},
   "source": [
    "## list comprehension"
   ]
  },
  {
   "cell_type": "code",
   "execution_count": 16,
   "metadata": {},
   "outputs": [
    {
     "data": {
      "text/plain": [
       "[3, 4, 5, 6, 7, 8, 9, 10, 11, 12]"
      ]
     },
     "execution_count": 16,
     "metadata": {},
     "output_type": "execute_result"
    }
   ],
   "source": [
    "a = [i + 3 for i in range(10)]\n",
    "a"
   ]
  },
  {
   "cell_type": "markdown",
   "metadata": {},
   "source": [
    "## Recursive function - Fibonacci sequence"
   ]
  },
  {
   "cell_type": "code",
   "execution_count": null,
   "metadata": {},
   "outputs": [],
   "source": [
    "def fibo(n):\n",
    "    if n == 1:\n",
    "        return 1\n",
    "    if n == 2:\n",
    "        return 1\n",
    "    return fibo(n - 2) + fibo(n - 1)\n",
    "\n",
    "for i in range(10):\n",
    "    print(fibo(i+1))"
   ]
  },
  {
   "cell_type": "code",
   "execution_count": null,
   "metadata": {},
   "outputs": [],
   "source": [
    "# with cache\n",
    "cache = {}\n",
    "\n",
    "def fibo(n):\n",
    "    if n in cache:\n",
    "        return cache[n]\n",
    "    if n == 1:\n",
    "        v = 1\n",
    "    elif n == 2:\n",
    "        v = 2\n",
    "    else:\n",
    "        v = fibo(n - 2) + fibo(n - 1)\n",
    "    cache[n] = v\n",
    "    return v\n",
    "\n",
    "for i in range(10):\n",
    "    print(fibo(i+1))"
   ]
  },
  {
   "cell_type": "markdown",
   "metadata": {},
   "source": [
    "## Function scope"
   ]
  },
  {
   "cell_type": "code",
   "execution_count": 20,
   "metadata": {},
   "outputs": [
    {
     "name": "stdout",
     "output_type": "stream",
     "text": [
      "I'm func1 {'x': 7, 'func2': <function func1.<locals>.func2 at 0x7f39b7fadbf8>}\n",
      "I'm func2 {'x': 3}\n",
      "I'm func1 {'x': 7, 'func2': <function func1.<locals>.func2 at 0x7f39b7fadbf8>}\n",
      "8\n"
     ]
    }
   ],
   "source": [
    "# ggg = {\"g\": 8, func1: func1...}\n",
    "\n",
    "if True:\n",
    "    g = 8\n",
    "\n",
    "def func1():\n",
    "    # fff = {\"x\": 7, func2: func2...}\n",
    "\n",
    "    def func2():\n",
    "        # fff2 = {\"x\": 3}\n",
    "        x = 3\n",
    "        print(\"I'm func2\", locals())\n",
    "\n",
    "    x = 7\n",
    "    print(\"I'm func1\", locals())\n",
    "\n",
    "    func2()\n",
    "    print(\"I'm func1\", locals())\n",
    "\n",
    "func1()\n",
    "print(g)"
   ]
  }
 ],
 "metadata": {
  "kernelspec": {
   "display_name": "Python 3",
   "language": "python",
   "name": "python3"
  },
  "language_info": {
   "codemirror_mode": {
    "name": "ipython",
    "version": 3
   },
   "file_extension": ".py",
   "mimetype": "text/x-python",
   "name": "python",
   "nbconvert_exporter": "python",
   "pygments_lexer": "ipython3",
   "version": "3.6.7"
  }
 },
 "nbformat": 4,
 "nbformat_minor": 2
}
