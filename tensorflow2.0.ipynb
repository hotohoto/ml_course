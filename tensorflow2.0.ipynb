{
 "cells": [
  {
   "cell_type": "code",
   "execution_count": 1,
   "metadata": {},
   "outputs": [],
   "source": [
    "import tensorflow as tf"
   ]
  },
  {
   "cell_type": "code",
   "execution_count": 2,
   "metadata": {},
   "outputs": [
    {
     "data": {
      "text/plain": [
       "<tf.Tensor: id=0, shape=(), dtype=string, numpy=b'Hello World!'>"
      ]
     },
     "execution_count": 2,
     "metadata": {},
     "output_type": "execute_result"
    }
   ],
   "source": [
    "message = tf.constant('Hello World!')\n",
    "message"
   ]
  },
  {
   "cell_type": "code",
   "execution_count": 3,
   "metadata": {},
   "outputs": [
    {
     "name": "stdout",
     "output_type": "stream",
     "text": [
      "tf.Tensor(2, shape=(), dtype=int32)\n",
      "tf.Tensor(3, shape=(), dtype=int32)\n"
     ]
    }
   ],
   "source": [
    "a = tf.constant(2)\n",
    "b = tf.constant(3)\n",
    "print(a)\n",
    "print(b)"
   ]
  },
  {
   "cell_type": "code",
   "execution_count": 4,
   "metadata": {},
   "outputs": [
    {
     "name": "stdout",
     "output_type": "stream",
     "text": [
      "tf.Tensor(5, shape=(), dtype=int32)\n",
      "tf.Tensor(6, shape=(), dtype=int32)\n"
     ]
    }
   ],
   "source": [
    "s = a + b\n",
    "p = a * b\n",
    "print(s)\n",
    "print(p)"
   ]
  },
  {
   "cell_type": "code",
   "execution_count": 5,
   "metadata": {},
   "outputs": [
    {
     "name": "stdout",
     "output_type": "stream",
     "text": [
      "tf.Tensor(5, shape=(), dtype=int32)\n",
      "tf.Tensor(6, shape=(), dtype=int32)\n"
     ]
    }
   ],
   "source": [
    "s = tf.add(a, b)\n",
    "p = tf.multiply(a, b)\n",
    "print(s)\n",
    "print(p)"
   ]
  },
  {
   "cell_type": "code",
   "execution_count": 6,
   "metadata": {},
   "outputs": [
    {
     "name": "stdout",
     "output_type": "stream",
     "text": [
      "tf.Tensor([[3. 3.]], shape=(1, 2), dtype=float32)\n",
      "tf.Tensor(\n",
      "[[2.]\n",
      " [2.]], shape=(2, 1), dtype=float32)\n",
      "tf.Tensor([[12.]], shape=(1, 1), dtype=float32)\n"
     ]
    }
   ],
   "source": [
    "mat1 = tf.constant([[3., 3.]])\n",
    "mat2 = tf.constant([[2.],[2.]])\n",
    "p = mat1@mat2\n",
    "\n",
    "print(mat1)\n",
    "print(mat2)\n",
    "print(p)"
   ]
  },
  {
   "cell_type": "code",
   "execution_count": 7,
   "metadata": {},
   "outputs": [
    {
     "name": "stdout",
     "output_type": "stream",
     "text": [
      "[[3. 3.]]\n",
      "[[2.]\n",
      " [2.]]\n",
      "[[12.]]\n"
     ]
    }
   ],
   "source": [
    "# to numpy object\n",
    "print(mat1.numpy())\n",
    "print(mat2.numpy())\n",
    "print(p.numpy())"
   ]
  },
  {
   "cell_type": "code",
   "execution_count": 8,
   "metadata": {},
   "outputs": [
    {
     "name": "stderr",
     "output_type": "stream",
     "text": [
      "WARNING: Logging before flag parsing goes to stderr.\n",
      "W0729 10:06:40.857129 139714173994816 deprecation.py:323] From /home/hotohoto/playground/py2ml_course/venv/lib/python3.6/site-packages/tensorflow/python/ops/math_grad.py:1205: add_dispatch_support.<locals>.wrapper (from tensorflow.python.ops.array_ops) is deprecated and will be removed in a future version.\n",
      "Instructions for updating:\n",
      "Use tf.where in 2.0, which has the same broadcast rule as np.where\n"
     ]
    },
    {
     "name": "stdout",
     "output_type": "stream",
     "text": [
      "0 <tf.Variable 'Variable:0' shape=() dtype=float32, numpy=0.0>\n",
      "50 <tf.Variable 'Variable:0' shape=() dtype=float32, numpy=1.2716603>\n",
      "100 <tf.Variable 'Variable:0' shape=() dtype=float32, numpy=1.7347608>\n",
      "150 <tf.Variable 'Variable:0' shape=() dtype=float32, numpy=1.9034079>\n",
      "200 <tf.Variable 'Variable:0' shape=() dtype=float32, numpy=1.9648241>\n",
      "250 <tf.Variable 'Variable:0' shape=() dtype=float32, numpy=1.98719>\n",
      "300 <tf.Variable 'Variable:0' shape=() dtype=float32, numpy=1.9953352>\n",
      "350 <tf.Variable 'Variable:0' shape=() dtype=float32, numpy=1.9983015>\n",
      "400 <tf.Variable 'Variable:0' shape=() dtype=float32, numpy=1.9993814>\n",
      "450 <tf.Variable 'Variable:0' shape=() dtype=float32, numpy=1.9997748>\n",
      "500 <tf.Variable 'Variable:0' shape=() dtype=float32, numpy=1.999918>\n",
      "550 <tf.Variable 'Variable:0' shape=() dtype=float32, numpy=1.9999701>\n",
      "600 <tf.Variable 'Variable:0' shape=() dtype=float32, numpy=1.999989>\n",
      "650 <tf.Variable 'Variable:0' shape=() dtype=float32, numpy=1.9999961>\n",
      "700 <tf.Variable 'Variable:0' shape=() dtype=float32, numpy=1.9999971>\n",
      "750 <tf.Variable 'Variable:0' shape=() dtype=float32, numpy=1.9999971>\n",
      "800 <tf.Variable 'Variable:0' shape=() dtype=float32, numpy=1.9999971>\n",
      "850 <tf.Variable 'Variable:0' shape=() dtype=float32, numpy=1.9999971>\n",
      "900 <tf.Variable 'Variable:0' shape=() dtype=float32, numpy=1.9999971>\n",
      "950 <tf.Variable 'Variable:0' shape=() dtype=float32, numpy=1.9999971>\n",
      "1000 <tf.Variable 'Variable:0' shape=() dtype=float32, numpy=1.9999971>\n"
     ]
    }
   ],
   "source": [
    "#SGD\n",
    "x = tf.Variable(0.0)\n",
    "\n",
    "optimizer = tf.keras.optimizers.SGD(0.01)\n",
    "\n",
    "print(0, x)\n",
    "for i in range(1000):\n",
    "    def y_func():\n",
    "        return (x-2)**2\n",
    "    trainable_variables = [x]\n",
    "    optimizer.minimize(y_func, var_list=trainable_variables)\n",
    "    if (i + 1) % 50 == 0:\n",
    "        print(i + 1, x)"
   ]
  },
  {
   "cell_type": "code",
   "execution_count": 9,
   "metadata": {},
   "outputs": [
    {
     "name": "stdout",
     "output_type": "stream",
     "text": [
      "0 <tf.Variable 'Variable:0' shape=() dtype=float32, numpy=0.0>\n",
      "50 <tf.Variable 'Variable:0' shape=() dtype=float32, numpy=0.4834109>\n",
      "100 <tf.Variable 'Variable:0' shape=() dtype=float32, numpy=0.9015511>\n",
      "150 <tf.Variable 'Variable:0' shape=() dtype=float32, numpy=1.2417164>\n",
      "200 <tf.Variable 'Variable:0' shape=() dtype=float32, numpy=1.5035741>\n",
      "250 <tf.Variable 'Variable:0' shape=() dtype=float32, numpy=1.6929402>\n",
      "300 <tf.Variable 'Variable:0' shape=() dtype=float32, numpy=1.8209624>\n",
      "350 <tf.Variable 'Variable:0' shape=() dtype=float32, numpy=1.9017105>\n",
      "400 <tf.Variable 'Variable:0' shape=() dtype=float32, numpy=1.9492257>\n",
      "450 <tf.Variable 'Variable:0' shape=() dtype=float32, numpy=1.9753326>\n",
      "500 <tf.Variable 'Variable:0' shape=() dtype=float32, numpy=1.9887381>\n",
      "550 <tf.Variable 'Variable:0' shape=() dtype=float32, numpy=1.9951735>\n",
      "600 <tf.Variable 'Variable:0' shape=() dtype=float32, numpy=1.9980612>\n",
      "650 <tf.Variable 'Variable:0' shape=() dtype=float32, numpy=1.9992714>\n",
      "700 <tf.Variable 'Variable:0' shape=() dtype=float32, numpy=1.9997444>\n",
      "750 <tf.Variable 'Variable:0' shape=() dtype=float32, numpy=1.9999164>\n",
      "800 <tf.Variable 'Variable:0' shape=() dtype=float32, numpy=1.9999747>\n",
      "850 <tf.Variable 'Variable:0' shape=() dtype=float32, numpy=1.9999931>\n",
      "900 <tf.Variable 'Variable:0' shape=() dtype=float32, numpy=1.9999982>\n",
      "950 <tf.Variable 'Variable:0' shape=() dtype=float32, numpy=1.9999982>\n",
      "1000 <tf.Variable 'Variable:0' shape=() dtype=float32, numpy=1.9999982>\n"
     ]
    }
   ],
   "source": [
    "x = tf.Variable(0.0)\n",
    "\n",
    "optimizer = tf.keras.optimizers.Adam(0.01)\n",
    "\n",
    "print(0, x)\n",
    "for i in range(1000):\n",
    "    def y_func():\n",
    "        return (x-2)**2\n",
    "    trainable_variables = [x]\n",
    "    optimizer.minimize(y_func, var_list=trainable_variables)\n",
    "    if (i + 1) % 50 == 0:\n",
    "        print(i + 1, x)"
   ]
  }
 ],
 "metadata": {
  "kernelspec": {
   "display_name": "Python 3",
   "language": "python",
   "name": "python3"
  },
  "language_info": {
   "codemirror_mode": {
    "name": "ipython",
    "version": 3
   },
   "file_extension": ".py",
   "mimetype": "text/x-python",
   "name": "python",
   "nbconvert_exporter": "python",
   "pygments_lexer": "ipython3",
   "version": "3.6.7"
  }
 },
 "nbformat": 4,
 "nbformat_minor": 2
}
